{
 "cells": [
  {
   "cell_type": "code",
   "execution_count": 64,
   "metadata": {},
   "outputs": [
    {
     "name": "stderr",
     "output_type": "stream",
     "text": [
      "/home/chris/miniconda3/envs/mosdev/lib/python3.7/site-packages/ipykernel/ipkernel.py:287: DeprecationWarning: `should_run_async` will not call `transform_cell` automatically in the future. Please pass the result to `transformed_cell` argument and any exception that happen during thetransform in `preprocessing_exc_tuple` in IPython 7.17 and above.\n",
      "  and should_run_async(code)\n"
     ]
    }
   ],
   "source": [
    "import mbuild as mb\n",
    "Poly = mb.lib.recipes.polymer"
   ]
  },
  {
   "cell_type": "code",
   "execution_count": 65,
   "metadata": {
    "scrolled": false
   },
   "outputs": [
    {
     "name": "stderr",
     "output_type": "stream",
     "text": [
      "/home/chris/miniconda3/envs/mosdev/lib/python3.7/site-packages/ipykernel/ipkernel.py:287: DeprecationWarning: `should_run_async` will not call `transform_cell` automatically in the future. Please pass the result to `transformed_cell` argument and any exception that happen during thetransform in `preprocessing_exc_tuple` in IPython 7.17 and above.\n",
      "  and should_run_async(code)\n"
     ]
    },
    {
     "data": {
      "application/3dmoljs_load.v0": "<div id=\"3dmolviewer_16164350883200822\"  style=\"position: relative; width: 640px; height: 480px\">\n        <p id=\"3dmolwarning_16164350883200822\" style=\"background-color:#ffcccc;color:black\">You appear to be running in JupyterLab (or JavaScript failed to load for some other reason).  You need to install the 3dmol extension: <br>\n        <tt>jupyter labextension install jupyterlab_3dmol</tt></p>\n        </div>\n<script>\n\nvar loadScriptAsync = function(uri){\n  return new Promise((resolve, reject) => {\n    var tag = document.createElement('script');\n    tag.src = uri;\n    tag.async = true;\n    tag.onload = () => {\n      resolve();\n    };\n  var firstScriptTag = document.getElementsByTagName('script')[0];\n  firstScriptTag.parentNode.insertBefore(tag, firstScriptTag);\n});\n};\n\nif(typeof $3Dmolpromise === 'undefined') {\n$3Dmolpromise = null;\n  $3Dmolpromise = loadScriptAsync('https://3dmol.csb.pitt.edu/build/3Dmol.js');\n}\n\nvar viewer_16164350883200822 = null;\nvar warn = document.getElementById(\"3dmolwarning_16164350883200822\");\nif(warn) {\n    warn.parentNode.removeChild(warn);\n}\n$3Dmolpromise.then(function() {\nviewer_16164350883200822 = $3Dmol.createViewer($(\"#3dmolviewer_16164350883200822\"),{backgroundColor:\"white\"});\n\tviewer_16164350883200822.addModel(\"@<TRIPOS>MOLECULE\\nRES\\n68 67 1 0 1\\nSMALL\\nNO_CHARGES\\n@<TRIPOS>CRYSIN\\n   28.5119    19.3364    15.5860    90.0000    90.0000    90.0000  1  1\\n@<TRIPOS>ATOM\\n       1 C            1.0604    -0.0058    -0.0824 C             1 RES     \\n       2 C            2.5724    -0.0058    -0.0824 C             1 RES     \\n       3 H            0.6761    -0.0734    -1.1045 H             1 RES     \\n       4 H            0.6761     0.9132     0.3702 H             1 RES     \\n       5 H            2.9568    -0.9248    -0.5349 H             1 RES     \\n       6 H            2.9568     0.0618     0.9398 H             1 RES     \\n       7 C           -0.9786    -1.1731     0.6985 C             1 RES     \\n       8 C            0.5335    -1.1731     0.6985 C             1 RES     \\n       9 H           -1.3629    -1.2407    -0.3236 H             1 RES     \\n      10 H           -1.3629    -0.2541     1.1511 H             1 RES     \\n      11 H            0.9178    -2.0921     0.2460 H             1 RES     \\n      12 H            0.9178    -1.1055     1.7207 H             1 RES     \\n      13 C           -3.0175    -2.3404     1.4794 C             1 RES     \\n      14 C           -1.5055    -2.3404     1.4794 C             1 RES     \\n      15 H           -3.4018    -2.4080     0.4573 H             1 RES     \\n      16 H           -3.4018    -1.4214     1.9320 H             1 RES     \\n      17 H           -1.1212    -3.2594     1.0269 H             1 RES     \\n      18 H           -1.1212    -2.2728     2.5015 H             1 RES     \\n      19 C           -5.0565    -3.5077     2.2603 C             1 RES     \\n      20 C           -3.5444    -3.5077     2.2603 C             1 RES     \\n      21 H           -5.4408    -3.5753     1.2382 H             1 RES     \\n      22 H           -5.4408    -2.5887     2.7129 H             1 RES     \\n      23 H           -3.1601    -4.4267     1.8077 H             1 RES     \\n      24 H           -3.1601    -3.4401     3.2824 H             1 RES     \\n      25 C           -7.0954    -4.6750     3.0412 C             1 RES     \\n      26 C           -5.5834    -4.6750     3.0412 C             1 RES     \\n      27 H           -7.4797    -4.7426     2.0191 H             1 RES     \\n      28 H           -7.4797    -3.7560     3.4938 H             1 RES     \\n      29 H           -5.1991    -5.5940     2.5886 H             1 RES     \\n      30 H           -5.1991    -4.6074     4.0633 H             1 RES     \\n      31 C           -9.1344    -5.8423     3.8221 C             1 RES     \\n      32 C           -7.6223    -5.8423     3.8221 C             1 RES     \\n      33 H           -9.5187    -5.9099     2.8000 H             1 RES     \\n      34 H           -9.5187    -4.9233     4.2746 H             1 RES     \\n      35 H           -7.2380    -6.7613     3.3695 H             1 RES     \\n      36 H           -7.2380    -5.7747     4.8442 H             1 RES     \\n      37 C          -11.1733    -7.0096     4.6030 C             1 RES     \\n      38 C           -9.6613    -7.0096     4.6030 C             1 RES     \\n      39 H          -11.5576    -7.0772     3.5809 H             1 RES     \\n      40 H          -11.5576    -6.0906     5.0555 H             1 RES     \\n      41 H           -9.2770    -7.9286     4.1504 H             1 RES     \\n      42 H           -9.2770    -6.9420     5.6251 H             1 RES     \\n      43 C          -13.2123    -8.1769     5.3839 C             1 RES     \\n      44 C          -11.7002    -8.1769     5.3839 C             1 RES     \\n      45 H          -13.5966    -8.2445     4.3617 H             1 RES     \\n      46 H          -13.5966    -7.2579     5.8364 H             1 RES     \\n      47 H          -11.3159    -9.0959     4.9313 H             1 RES     \\n      48 H          -11.3159    -8.1093     6.4060 H             1 RES     \\n      49 C          -15.2512    -9.3442     6.1648 C             1 RES     \\n      50 C          -13.7392    -9.3442     6.1648 C             1 RES     \\n      51 H          -15.6355    -9.4118     5.1426 H             1 RES     \\n      52 H          -15.6355    -8.4252     6.6173 H             1 RES     \\n      53 H          -13.3549   -10.2632     5.7122 H             1 RES     \\n      54 H          -13.3549    -9.2766     7.1869 H             1 RES     \\n      55 C          -17.2902   -10.5115     6.9457 C             1 RES     \\n      56 C          -15.7781   -10.5115     6.9457 C             1 RES     \\n      57 H          -17.6745   -10.5791     5.9235 H             1 RES     \\n      58 H          -17.6745    -9.5925     7.3982 H             1 RES     \\n      59 H          -15.3938   -11.4305     6.4931 H             1 RES     \\n      60 H          -15.3938   -10.4440     7.9678 H             1 RES     \\n      61 C            3.0993     1.1615    -0.8633 C             1 RES     \\n      62 O            2.4101     1.9096    -1.5331 O             1 RES     \\n      63 O            4.4338     1.2792    -0.7306 O             1 RES     \\n      64 H            4.8157     0.5895    -0.1549 H             1 RES     \\n      65 C          -17.8171   -11.6788     7.7265 C             1 RES     \\n      66 O          -18.6962   -12.4269     7.3381 O             1 RES     \\n      67 O          -17.1946   -11.7965     8.9144 O             1 RES     \\n      68 H          -16.5178   -11.1068     9.0530 H             1 RES     \\n@<TRIPOS>BOND\\n       1       13       14 1\\n       2        1        3 1\\n       3       61       63 1\\n       4       37       39 1\\n       5       56       49 1\\n       6        8        1 1\\n       7       31       34 1\\n       8       44       48 1\\n       9       25       26 1\\n      10        8       12 1\\n      11        7       10 1\\n      12       20       13 1\\n      13       19       21 1\\n      14       43       46 1\\n      15        8       11 1\\n      16       43       50 1\\n      17       31       33 1\\n      18       25       27 1\\n      19       14       17 1\\n      20       31       38 1\\n      21       50       53 1\\n      22       56       60 1\\n      23       19       20 1\\n      24       44       37 1\\n      25       55       65 1\\n      26       55       58 1\\n      27       67       68 1\\n      28       20       24 1\\n      29        1        2 1\\n      30       37       38 1\\n      31       49       50 1\\n      32       14       18 1\\n      33       19       22 1\\n      34       61        2 1\\n      35       50       54 1\\n      36       32       25 1\\n      37       25       28 1\\n      38       56       59 1\\n      39       26       29 1\\n      40        2        6 1\\n      41       38       42 1\\n      42       32       35 1\\n      43       55       57 1\\n      44        7        8 1\\n      45       13       16 1\\n      46       43       44 1\\n      47       49       52 1\\n      48       65       66 1\\n      49       20       23 1\\n      50       26       30 1\\n      51       63       64 1\\n      52       31       32 1\\n      53       55       56 1\\n      54        7       14 1\\n      55        2        5 1\\n      56       38       41 1\\n      57       32       36 1\\n      58        7        9 1\\n      59       13       15 1\\n      60       43       45 1\\n      61       44       47 1\\n      62       49       51 1\\n      63       65       67 1\\n      64        1        4 1\\n      65       61       62 1\\n      66       37       40 1\\n      67       19       26 1\\n@<TRIPOS>SUBSTRUCTURE\\n       1 RES             1 RESIDUE    0 **** ROOT      0\\n\",\"mol2\");\n\tviewer_16164350883200822.setStyle({\"stick\": {\"radius\": 0.2, \"color\": \"grey\"}, \"sphere\": {\"scale\": 0.3, \"colorscheme\": {}}});\n\tviewer_16164350883200822.zoomTo();\nviewer_16164350883200822.render();\n});\n</script>",
      "text/html": [
       "<div id=\"3dmolviewer_16164350883200822\"  style=\"position: relative; width: 640px; height: 480px\">\n",
       "        <p id=\"3dmolwarning_16164350883200822\" style=\"background-color:#ffcccc;color:black\">You appear to be running in JupyterLab (or JavaScript failed to load for some other reason).  You need to install the 3dmol extension: <br>\n",
       "        <tt>jupyter labextension install jupyterlab_3dmol</tt></p>\n",
       "        </div>\n",
       "<script>\n",
       "\n",
       "var loadScriptAsync = function(uri){\n",
       "  return new Promise((resolve, reject) => {\n",
       "    var tag = document.createElement('script');\n",
       "    tag.src = uri;\n",
       "    tag.async = true;\n",
       "    tag.onload = () => {\n",
       "      resolve();\n",
       "    };\n",
       "  var firstScriptTag = document.getElementsByTagName('script')[0];\n",
       "  firstScriptTag.parentNode.insertBefore(tag, firstScriptTag);\n",
       "});\n",
       "};\n",
       "\n",
       "if(typeof $3Dmolpromise === 'undefined') {\n",
       "$3Dmolpromise = null;\n",
       "  $3Dmolpromise = loadScriptAsync('https://3dmol.csb.pitt.edu/build/3Dmol.js');\n",
       "}\n",
       "\n",
       "var viewer_16164350883200822 = null;\n",
       "var warn = document.getElementById(\"3dmolwarning_16164350883200822\");\n",
       "if(warn) {\n",
       "    warn.parentNode.removeChild(warn);\n",
       "}\n",
       "$3Dmolpromise.then(function() {\n",
       "viewer_16164350883200822 = $3Dmol.createViewer($(\"#3dmolviewer_16164350883200822\"),{backgroundColor:\"white\"});\n",
       "\tviewer_16164350883200822.addModel(\"@<TRIPOS>MOLECULE\\nRES\\n68 67 1 0 1\\nSMALL\\nNO_CHARGES\\n@<TRIPOS>CRYSIN\\n   28.5119    19.3364    15.5860    90.0000    90.0000    90.0000  1  1\\n@<TRIPOS>ATOM\\n       1 C            1.0604    -0.0058    -0.0824 C             1 RES     \\n       2 C            2.5724    -0.0058    -0.0824 C             1 RES     \\n       3 H            0.6761    -0.0734    -1.1045 H             1 RES     \\n       4 H            0.6761     0.9132     0.3702 H             1 RES     \\n       5 H            2.9568    -0.9248    -0.5349 H             1 RES     \\n       6 H            2.9568     0.0618     0.9398 H             1 RES     \\n       7 C           -0.9786    -1.1731     0.6985 C             1 RES     \\n       8 C            0.5335    -1.1731     0.6985 C             1 RES     \\n       9 H           -1.3629    -1.2407    -0.3236 H             1 RES     \\n      10 H           -1.3629    -0.2541     1.1511 H             1 RES     \\n      11 H            0.9178    -2.0921     0.2460 H             1 RES     \\n      12 H            0.9178    -1.1055     1.7207 H             1 RES     \\n      13 C           -3.0175    -2.3404     1.4794 C             1 RES     \\n      14 C           -1.5055    -2.3404     1.4794 C             1 RES     \\n      15 H           -3.4018    -2.4080     0.4573 H             1 RES     \\n      16 H           -3.4018    -1.4214     1.9320 H             1 RES     \\n      17 H           -1.1212    -3.2594     1.0269 H             1 RES     \\n      18 H           -1.1212    -2.2728     2.5015 H             1 RES     \\n      19 C           -5.0565    -3.5077     2.2603 C             1 RES     \\n      20 C           -3.5444    -3.5077     2.2603 C             1 RES     \\n      21 H           -5.4408    -3.5753     1.2382 H             1 RES     \\n      22 H           -5.4408    -2.5887     2.7129 H             1 RES     \\n      23 H           -3.1601    -4.4267     1.8077 H             1 RES     \\n      24 H           -3.1601    -3.4401     3.2824 H             1 RES     \\n      25 C           -7.0954    -4.6750     3.0412 C             1 RES     \\n      26 C           -5.5834    -4.6750     3.0412 C             1 RES     \\n      27 H           -7.4797    -4.7426     2.0191 H             1 RES     \\n      28 H           -7.4797    -3.7560     3.4938 H             1 RES     \\n      29 H           -5.1991    -5.5940     2.5886 H             1 RES     \\n      30 H           -5.1991    -4.6074     4.0633 H             1 RES     \\n      31 C           -9.1344    -5.8423     3.8221 C             1 RES     \\n      32 C           -7.6223    -5.8423     3.8221 C             1 RES     \\n      33 H           -9.5187    -5.9099     2.8000 H             1 RES     \\n      34 H           -9.5187    -4.9233     4.2746 H             1 RES     \\n      35 H           -7.2380    -6.7613     3.3695 H             1 RES     \\n      36 H           -7.2380    -5.7747     4.8442 H             1 RES     \\n      37 C          -11.1733    -7.0096     4.6030 C             1 RES     \\n      38 C           -9.6613    -7.0096     4.6030 C             1 RES     \\n      39 H          -11.5576    -7.0772     3.5809 H             1 RES     \\n      40 H          -11.5576    -6.0906     5.0555 H             1 RES     \\n      41 H           -9.2770    -7.9286     4.1504 H             1 RES     \\n      42 H           -9.2770    -6.9420     5.6251 H             1 RES     \\n      43 C          -13.2123    -8.1769     5.3839 C             1 RES     \\n      44 C          -11.7002    -8.1769     5.3839 C             1 RES     \\n      45 H          -13.5966    -8.2445     4.3617 H             1 RES     \\n      46 H          -13.5966    -7.2579     5.8364 H             1 RES     \\n      47 H          -11.3159    -9.0959     4.9313 H             1 RES     \\n      48 H          -11.3159    -8.1093     6.4060 H             1 RES     \\n      49 C          -15.2512    -9.3442     6.1648 C             1 RES     \\n      50 C          -13.7392    -9.3442     6.1648 C             1 RES     \\n      51 H          -15.6355    -9.4118     5.1426 H             1 RES     \\n      52 H          -15.6355    -8.4252     6.6173 H             1 RES     \\n      53 H          -13.3549   -10.2632     5.7122 H             1 RES     \\n      54 H          -13.3549    -9.2766     7.1869 H             1 RES     \\n      55 C          -17.2902   -10.5115     6.9457 C             1 RES     \\n      56 C          -15.7781   -10.5115     6.9457 C             1 RES     \\n      57 H          -17.6745   -10.5791     5.9235 H             1 RES     \\n      58 H          -17.6745    -9.5925     7.3982 H             1 RES     \\n      59 H          -15.3938   -11.4305     6.4931 H             1 RES     \\n      60 H          -15.3938   -10.4440     7.9678 H             1 RES     \\n      61 C            3.0993     1.1615    -0.8633 C             1 RES     \\n      62 O            2.4101     1.9096    -1.5331 O             1 RES     \\n      63 O            4.4338     1.2792    -0.7306 O             1 RES     \\n      64 H            4.8157     0.5895    -0.1549 H             1 RES     \\n      65 C          -17.8171   -11.6788     7.7265 C             1 RES     \\n      66 O          -18.6962   -12.4269     7.3381 O             1 RES     \\n      67 O          -17.1946   -11.7965     8.9144 O             1 RES     \\n      68 H          -16.5178   -11.1068     9.0530 H             1 RES     \\n@<TRIPOS>BOND\\n       1       13       14 1\\n       2        1        3 1\\n       3       61       63 1\\n       4       37       39 1\\n       5       56       49 1\\n       6        8        1 1\\n       7       31       34 1\\n       8       44       48 1\\n       9       25       26 1\\n      10        8       12 1\\n      11        7       10 1\\n      12       20       13 1\\n      13       19       21 1\\n      14       43       46 1\\n      15        8       11 1\\n      16       43       50 1\\n      17       31       33 1\\n      18       25       27 1\\n      19       14       17 1\\n      20       31       38 1\\n      21       50       53 1\\n      22       56       60 1\\n      23       19       20 1\\n      24       44       37 1\\n      25       55       65 1\\n      26       55       58 1\\n      27       67       68 1\\n      28       20       24 1\\n      29        1        2 1\\n      30       37       38 1\\n      31       49       50 1\\n      32       14       18 1\\n      33       19       22 1\\n      34       61        2 1\\n      35       50       54 1\\n      36       32       25 1\\n      37       25       28 1\\n      38       56       59 1\\n      39       26       29 1\\n      40        2        6 1\\n      41       38       42 1\\n      42       32       35 1\\n      43       55       57 1\\n      44        7        8 1\\n      45       13       16 1\\n      46       43       44 1\\n      47       49       52 1\\n      48       65       66 1\\n      49       20       23 1\\n      50       26       30 1\\n      51       63       64 1\\n      52       31       32 1\\n      53       55       56 1\\n      54        7       14 1\\n      55        2        5 1\\n      56       38       41 1\\n      57       32       36 1\\n      58        7        9 1\\n      59       13       15 1\\n      60       43       45 1\\n      61       44       47 1\\n      62       49       51 1\\n      63       65       67 1\\n      64        1        4 1\\n      65       61       62 1\\n      66       37       40 1\\n      67       19       26 1\\n@<TRIPOS>SUBSTRUCTURE\\n       1 RES             1 RESIDUE    0 **** ROOT      0\\n\",\"mol2\");\n",
       "\tviewer_16164350883200822.setStyle({\"stick\": {\"radius\": 0.2, \"color\": \"grey\"}, \"sphere\": {\"scale\": 0.3, \"colorscheme\": {}}});\n",
       "\tviewer_16164350883200822.zoomTo();\n",
       "viewer_16164350883200822.render();\n",
       "});\n",
       "</script>"
      ]
     },
     "metadata": {},
     "output_type": "display_data"
    }
   ],
   "source": [
    "# Quick example of the API and workflow\n",
    "comp = mb.load('CC', smiles=True) # mBuild compound of the monomer unit\n",
    "chain = Poly.Polymer()\n",
    "\n",
    "chain.add_monomer(compound=comp,\n",
    "                   bonding_indices=[2, -1],\n",
    "                   separation=.15,\n",
    "                   replace=True)\n",
    "\n",
    "chain.add_end_groups(mb.load('C(=O)O',smiles=True), # Capping off this polymer with Carboxylic acid groups\n",
    "                       bond_index=3,\n",
    "                       separation=0.15)\n",
    "\n",
    "chain.build(n=10, sequence='A')\n",
    "chain.visualize().show()"
   ]
  },
  {
   "cell_type": "code",
   "execution_count": 66,
   "metadata": {},
   "outputs": [
    {
     "name": "stderr",
     "output_type": "stream",
     "text": [
      "/home/chris/miniconda3/envs/mosdev/lib/python3.7/site-packages/ipykernel/ipkernel.py:287: DeprecationWarning: `should_run_async` will not call `transform_cell` automatically in the future. Please pass the result to `transformed_cell` argument and any exception that happen during thetransform in `preprocessing_exc_tuple` in IPython 7.17 and above.\n",
      "  and should_run_async(code)\n"
     ]
    },
    {
     "data": {
      "application/3dmoljs_load.v0": "<div id=\"3dmolviewer_16164351329757845\"  style=\"position: relative; width: 640px; height: 480px\">\n        <p id=\"3dmolwarning_16164351329757845\" style=\"background-color:#ffcccc;color:black\">You appear to be running in JupyterLab (or JavaScript failed to load for some other reason).  You need to install the 3dmol extension: <br>\n        <tt>jupyter labextension install jupyterlab_3dmol</tt></p>\n        </div>\n<script>\n\nvar loadScriptAsync = function(uri){\n  return new Promise((resolve, reject) => {\n    var tag = document.createElement('script');\n    tag.src = uri;\n    tag.async = true;\n    tag.onload = () => {\n      resolve();\n    };\n  var firstScriptTag = document.getElementsByTagName('script')[0];\n  firstScriptTag.parentNode.insertBefore(tag, firstScriptTag);\n});\n};\n\nif(typeof $3Dmolpromise === 'undefined') {\n$3Dmolpromise = null;\n  $3Dmolpromise = loadScriptAsync('https://3dmol.csb.pitt.edu/build/3Dmol.js');\n}\n\nvar viewer_16164351329757845 = null;\nvar warn = document.getElementById(\"3dmolwarning_16164351329757845\");\nif(warn) {\n    warn.parentNode.removeChild(warn);\n}\n$3Dmolpromise.then(function() {\nviewer_16164351329757845 = $3Dmol.createViewer($(\"#3dmolviewer_16164351329757845\"),{backgroundColor:\"white\"});\n\tviewer_16164351329757845.addModel(\"@<TRIPOS>MOLECULE\\nRES\\n62 61 1 0 1\\nSMALL\\nNO_CHARGES\\n@<TRIPOS>CRYSIN\\n   25.6313    15.6295    16.1914    90.0000    90.0000    90.0000  1  1\\n@<TRIPOS>ATOM\\n       1 C            0.9691    -0.0719     0.0601 C             1 RES     \\n       2 C            2.4812    -0.0719     0.0601 C             1 RES     \\n       3 H            0.5848    -1.0697     0.2920 H             1 RES     \\n       4 H            0.5848     0.2261    -0.9200 H             1 RES     \\n       5 H            2.8655    -0.3700     1.0401 H             1 RES     \\n       6 H            2.8655     0.9258    -0.1718 H             1 RES     \\n       7 C           -1.0699     0.8874     1.0858 C             1 RES     \\n       8 C            0.4422     0.8874     1.0858 C             1 RES     \\n       9 H           -1.4542    -0.1104     1.3177 H             1 RES     \\n      10 H           -1.4542     1.1854     0.1057 H             1 RES     \\n      11 H            0.8265     0.5893     2.0658 H             1 RES     \\n      12 H            0.8265     1.8851     0.8539 H             1 RES     \\n      13 C           -3.1088     1.8467     2.1115 C             1 RES     \\n      14 C           -1.5968     1.8467     2.1115 C             1 RES     \\n      15 H           -3.4931     0.8489     2.3434 H             1 RES     \\n      16 H           -3.4931     2.1447     1.1314 H             1 RES     \\n      17 H           -1.2124     1.5487     3.0915 H             1 RES     \\n      18 H           -1.2124     2.8445     1.8796 H             1 RES     \\n      19 C           -5.1478     2.8060     3.1372 C             1 RES     \\n      20 C           -3.6357     2.8060     3.1372 C             1 RES     \\n      21 H           -5.5321     1.8083     3.3691 H             1 RES     \\n      22 H           -5.5321     3.1041     2.1571 H             1 RES     \\n      23 H           -3.2514     2.5080     4.1172 H             1 RES     \\n      24 H           -3.2514     3.8038     2.9053 H             1 RES     \\n      25 C           -7.1867     3.7654     4.1629 C             1 RES     \\n      26 C           -5.6747     3.7654     4.1629 C             1 RES     \\n      27 H           -7.5710     2.7676     4.3948 H             1 RES     \\n      28 H           -7.5710     4.0634     3.1828 H             1 RES     \\n      29 H           -5.2904     3.4673     5.1429 H             1 RES     \\n      30 H           -5.2903     4.7631     3.9310 H             1 RES     \\n      31 C           -9.2257     4.7247     5.1886 C             1 RES     \\n      32 C           -7.7136     4.7247     5.1886 C             1 RES     \\n      33 H           -9.6100     3.7269     5.4205 H             1 RES     \\n      34 H           -9.6100     5.0227     4.2086 H             1 RES     \\n      35 H           -7.3293     4.4266     6.1686 H             1 RES     \\n      36 H           -7.3293     5.7224     4.9567 H             1 RES     \\n      37 C          -11.2646     5.6840     6.2143 C             1 RES     \\n      38 C           -9.7526     5.6840     6.2143 C             1 RES     \\n      39 H          -11.6489     4.6863     6.4462 H             1 RES     \\n      40 H          -11.6489     5.9821     5.2343 H             1 RES     \\n      41 H           -9.3683     5.3860     7.1943 H             1 RES     \\n      42 H           -9.3683     6.6818     5.9824 H             1 RES     \\n      43 C          -13.3036     6.6433     7.2400 C             1 RES     \\n      44 C          -11.7915     6.6433     7.2400 C             1 RES     \\n      45 H          -13.6879     5.6456     7.4719 H             1 RES     \\n      46 H          -13.6879     6.9414     6.2600 H             1 RES     \\n      47 H          -11.4072     6.3453     8.2200 H             1 RES     \\n      48 H          -11.4072     7.6411     7.0081 H             1 RES     \\n      49 C          -15.3425     7.6027     8.2657 C             1 RES     \\n      50 C          -13.8305     7.6027     8.2657 C             1 RES     \\n      51 H          -15.7268     6.6049     8.4976 H             1 RES     \\n      52 H          -15.7268     7.9007     7.2857 H             1 RES     \\n      53 H          -13.4462     7.3046     9.2457 H             1 RES     \\n      54 H          -13.4462     8.6004     8.0338 H             1 RES     \\n      55 C          -17.3815     8.5620     9.2914 C             1 RES     \\n      56 C          -15.8694     8.5620     9.2914 C             1 RES     \\n      57 H          -17.7658     7.5642     9.5233 H             1 RES     \\n      58 H          -17.7658     8.8600     8.3114 H             1 RES     \\n      59 H          -15.4851     8.2640    10.2715 H             1 RES     \\n      60 H          -15.4851     9.5598     9.0595 H             1 RES     \\n      61 H            2.8654    -0.7716    -0.6880 H             1 RES     \\n      62 H          -17.7658     9.2617    10.0395 H             1 RES     \\n@<TRIPOS>BOND\\n       1       25       26 1\\n       2       13       16 1\\n       3       37       38 1\\n       4       43       45 1\\n       5        7        9 1\\n       6       26       30 1\\n       7       20       23 1\\n       8       49       50 1\\n       9       55       58 1\\n      10       19       22 1\\n      11       13       14 1\\n      12       32       36 1\\n      13        1        4 1\\n      14        7       10 1\\n      15       31       34 1\\n      16       26       29 1\\n      17        8       12 1\\n      18       20       24 1\\n      19       32       35 1\\n      20       55       57 1\\n      21       19       21 1\\n      22       13       15 1\\n      23       49       51 1\\n      24       19       26 1\\n      25       38       41 1\\n      26       44       48 1\\n      27       25       28 1\\n      28       50       53 1\\n      29       43       50 1\\n      30        7       14 1\\n      31        8       11 1\\n      32       20       13 1\\n      33       56       49 1\\n      34       38       42 1\\n      35       14       17 1\\n      36       25       27 1\\n      37       44       47 1\\n      38       56       59 1\\n      39       49       52 1\\n      40       44       37 1\\n      41        1        2 1\\n      42       61        2 1\\n      43       50       54 1\\n      44       31       32 1\\n      45       37       40 1\\n      46       14       18 1\\n      47       43       44 1\\n      48       55       56 1\\n      49       19       20 1\\n      50        6        2 1\\n      51        2        5 1\\n      52       56       60 1\\n      53       31       38 1\\n      54        1        3 1\\n      55       31       33 1\\n      56       37       39 1\\n      57        8        1 1\\n      58       43       46 1\\n      59        7        8 1\\n      60       32       25 1\\n      61       55       62 1\\n@<TRIPOS>SUBSTRUCTURE\\n       1 RES             1 RESIDUE    0 **** ROOT      0\\n\",\"mol2\");\n\tviewer_16164351329757845.setStyle({\"stick\": {\"radius\": 0.2, \"color\": \"grey\"}, \"sphere\": {\"scale\": 0.3, \"colorscheme\": {}}});\n\tviewer_16164351329757845.zoomTo();\nviewer_16164351329757845.render();\n});\n</script>",
      "text/html": [
       "<div id=\"3dmolviewer_16164351329757845\"  style=\"position: relative; width: 640px; height: 480px\">\n",
       "        <p id=\"3dmolwarning_16164351329757845\" style=\"background-color:#ffcccc;color:black\">You appear to be running in JupyterLab (or JavaScript failed to load for some other reason).  You need to install the 3dmol extension: <br>\n",
       "        <tt>jupyter labextension install jupyterlab_3dmol</tt></p>\n",
       "        </div>\n",
       "<script>\n",
       "\n",
       "var loadScriptAsync = function(uri){\n",
       "  return new Promise((resolve, reject) => {\n",
       "    var tag = document.createElement('script');\n",
       "    tag.src = uri;\n",
       "    tag.async = true;\n",
       "    tag.onload = () => {\n",
       "      resolve();\n",
       "    };\n",
       "  var firstScriptTag = document.getElementsByTagName('script')[0];\n",
       "  firstScriptTag.parentNode.insertBefore(tag, firstScriptTag);\n",
       "});\n",
       "};\n",
       "\n",
       "if(typeof $3Dmolpromise === 'undefined') {\n",
       "$3Dmolpromise = null;\n",
       "  $3Dmolpromise = loadScriptAsync('https://3dmol.csb.pitt.edu/build/3Dmol.js');\n",
       "}\n",
       "\n",
       "var viewer_16164351329757845 = null;\n",
       "var warn = document.getElementById(\"3dmolwarning_16164351329757845\");\n",
       "if(warn) {\n",
       "    warn.parentNode.removeChild(warn);\n",
       "}\n",
       "$3Dmolpromise.then(function() {\n",
       "viewer_16164351329757845 = $3Dmol.createViewer($(\"#3dmolviewer_16164351329757845\"),{backgroundColor:\"white\"});\n",
       "\tviewer_16164351329757845.addModel(\"@<TRIPOS>MOLECULE\\nRES\\n62 61 1 0 1\\nSMALL\\nNO_CHARGES\\n@<TRIPOS>CRYSIN\\n   25.6313    15.6295    16.1914    90.0000    90.0000    90.0000  1  1\\n@<TRIPOS>ATOM\\n       1 C            0.9691    -0.0719     0.0601 C             1 RES     \\n       2 C            2.4812    -0.0719     0.0601 C             1 RES     \\n       3 H            0.5848    -1.0697     0.2920 H             1 RES     \\n       4 H            0.5848     0.2261    -0.9200 H             1 RES     \\n       5 H            2.8655    -0.3700     1.0401 H             1 RES     \\n       6 H            2.8655     0.9258    -0.1718 H             1 RES     \\n       7 C           -1.0699     0.8874     1.0858 C             1 RES     \\n       8 C            0.4422     0.8874     1.0858 C             1 RES     \\n       9 H           -1.4542    -0.1104     1.3177 H             1 RES     \\n      10 H           -1.4542     1.1854     0.1057 H             1 RES     \\n      11 H            0.8265     0.5893     2.0658 H             1 RES     \\n      12 H            0.8265     1.8851     0.8539 H             1 RES     \\n      13 C           -3.1088     1.8467     2.1115 C             1 RES     \\n      14 C           -1.5968     1.8467     2.1115 C             1 RES     \\n      15 H           -3.4931     0.8489     2.3434 H             1 RES     \\n      16 H           -3.4931     2.1447     1.1314 H             1 RES     \\n      17 H           -1.2124     1.5487     3.0915 H             1 RES     \\n      18 H           -1.2124     2.8445     1.8796 H             1 RES     \\n      19 C           -5.1478     2.8060     3.1372 C             1 RES     \\n      20 C           -3.6357     2.8060     3.1372 C             1 RES     \\n      21 H           -5.5321     1.8083     3.3691 H             1 RES     \\n      22 H           -5.5321     3.1041     2.1571 H             1 RES     \\n      23 H           -3.2514     2.5080     4.1172 H             1 RES     \\n      24 H           -3.2514     3.8038     2.9053 H             1 RES     \\n      25 C           -7.1867     3.7654     4.1629 C             1 RES     \\n      26 C           -5.6747     3.7654     4.1629 C             1 RES     \\n      27 H           -7.5710     2.7676     4.3948 H             1 RES     \\n      28 H           -7.5710     4.0634     3.1828 H             1 RES     \\n      29 H           -5.2904     3.4673     5.1429 H             1 RES     \\n      30 H           -5.2903     4.7631     3.9310 H             1 RES     \\n      31 C           -9.2257     4.7247     5.1886 C             1 RES     \\n      32 C           -7.7136     4.7247     5.1886 C             1 RES     \\n      33 H           -9.6100     3.7269     5.4205 H             1 RES     \\n      34 H           -9.6100     5.0227     4.2086 H             1 RES     \\n      35 H           -7.3293     4.4266     6.1686 H             1 RES     \\n      36 H           -7.3293     5.7224     4.9567 H             1 RES     \\n      37 C          -11.2646     5.6840     6.2143 C             1 RES     \\n      38 C           -9.7526     5.6840     6.2143 C             1 RES     \\n      39 H          -11.6489     4.6863     6.4462 H             1 RES     \\n      40 H          -11.6489     5.9821     5.2343 H             1 RES     \\n      41 H           -9.3683     5.3860     7.1943 H             1 RES     \\n      42 H           -9.3683     6.6818     5.9824 H             1 RES     \\n      43 C          -13.3036     6.6433     7.2400 C             1 RES     \\n      44 C          -11.7915     6.6433     7.2400 C             1 RES     \\n      45 H          -13.6879     5.6456     7.4719 H             1 RES     \\n      46 H          -13.6879     6.9414     6.2600 H             1 RES     \\n      47 H          -11.4072     6.3453     8.2200 H             1 RES     \\n      48 H          -11.4072     7.6411     7.0081 H             1 RES     \\n      49 C          -15.3425     7.6027     8.2657 C             1 RES     \\n      50 C          -13.8305     7.6027     8.2657 C             1 RES     \\n      51 H          -15.7268     6.6049     8.4976 H             1 RES     \\n      52 H          -15.7268     7.9007     7.2857 H             1 RES     \\n      53 H          -13.4462     7.3046     9.2457 H             1 RES     \\n      54 H          -13.4462     8.6004     8.0338 H             1 RES     \\n      55 C          -17.3815     8.5620     9.2914 C             1 RES     \\n      56 C          -15.8694     8.5620     9.2914 C             1 RES     \\n      57 H          -17.7658     7.5642     9.5233 H             1 RES     \\n      58 H          -17.7658     8.8600     8.3114 H             1 RES     \\n      59 H          -15.4851     8.2640    10.2715 H             1 RES     \\n      60 H          -15.4851     9.5598     9.0595 H             1 RES     \\n      61 H            2.8654    -0.7716    -0.6880 H             1 RES     \\n      62 H          -17.7658     9.2617    10.0395 H             1 RES     \\n@<TRIPOS>BOND\\n       1       25       26 1\\n       2       13       16 1\\n       3       37       38 1\\n       4       43       45 1\\n       5        7        9 1\\n       6       26       30 1\\n       7       20       23 1\\n       8       49       50 1\\n       9       55       58 1\\n      10       19       22 1\\n      11       13       14 1\\n      12       32       36 1\\n      13        1        4 1\\n      14        7       10 1\\n      15       31       34 1\\n      16       26       29 1\\n      17        8       12 1\\n      18       20       24 1\\n      19       32       35 1\\n      20       55       57 1\\n      21       19       21 1\\n      22       13       15 1\\n      23       49       51 1\\n      24       19       26 1\\n      25       38       41 1\\n      26       44       48 1\\n      27       25       28 1\\n      28       50       53 1\\n      29       43       50 1\\n      30        7       14 1\\n      31        8       11 1\\n      32       20       13 1\\n      33       56       49 1\\n      34       38       42 1\\n      35       14       17 1\\n      36       25       27 1\\n      37       44       47 1\\n      38       56       59 1\\n      39       49       52 1\\n      40       44       37 1\\n      41        1        2 1\\n      42       61        2 1\\n      43       50       54 1\\n      44       31       32 1\\n      45       37       40 1\\n      46       14       18 1\\n      47       43       44 1\\n      48       55       56 1\\n      49       19       20 1\\n      50        6        2 1\\n      51        2        5 1\\n      52       56       60 1\\n      53       31       38 1\\n      54        1        3 1\\n      55       31       33 1\\n      56       37       39 1\\n      57        8        1 1\\n      58       43       46 1\\n      59        7        8 1\\n      60       32       25 1\\n      61       55       62 1\\n@<TRIPOS>SUBSTRUCTURE\\n       1 RES             1 RESIDUE    0 **** ROOT      0\\n\",\"mol2\");\n",
       "\tviewer_16164351329757845.setStyle({\"stick\": {\"radius\": 0.2, \"color\": \"grey\"}, \"sphere\": {\"scale\": 0.3, \"colorscheme\": {}}});\n",
       "\tviewer_16164351329757845.zoomTo();\n",
       "viewer_16164351329757845.render();\n",
       "});\n",
       "</script>"
      ]
     },
     "metadata": {},
     "output_type": "display_data"
    }
   ],
   "source": [
    "# Doing the same thing, but this time without adding an end group\n",
    "# Now, the polymer is capped with hydrogens (default behavior)\n",
    "\n",
    "comp = mb.load('CC', smiles=True) # mBuild compound of the monomer unit\n",
    "chain = Poly.Polymer()\n",
    "\n",
    "chain.add_monomer(compound=comp,\n",
    "                   bonding_indices=[2, -1],\n",
    "                   separation=.15,\n",
    "                   replace=True)\n",
    "\n",
    "chain.build(n=10, sequence='A')\n",
    "chain.visualize().show()"
   ]
  },
  {
   "cell_type": "markdown",
   "metadata": {},
   "source": [
    "##  Here's an example with a more complicated monomer and a little more detail into what's going on  \n",
    "\n",
    "SMILES strings for Poly-ether-ether-ketone (PEEK)  \n",
    "\n",
    "One has para linkages, the other has meta  \n",
    "\n",
    "Goal is to build up a polymer with alternating PARA-META monomers  \n",
    "\n",
    "Also, just for fun, adding carboxylic acid end groups (ca)"
   ]
  },
  {
   "cell_type": "code",
   "execution_count": 68,
   "metadata": {
    "scrolled": false
   },
   "outputs": [
    {
     "name": "stdout",
     "output_type": "stream",
     "text": [
      "<Polymer pos=( 0.0000, 0.0000, 0.0000), 0 bonds, id: 140520414817616>\n",
      "[]\n",
      "[]\n"
     ]
    },
    {
     "name": "stderr",
     "output_type": "stream",
     "text": [
      "/home/chris/miniconda3/envs/mosdev/lib/python3.7/site-packages/ipykernel/ipkernel.py:287: DeprecationWarning: `should_run_async` will not call `transform_cell` automatically in the future. Please pass the result to `transformed_cell` argument and any exception that happen during thetransform in `preprocessing_exc_tuple` in IPython 7.17 and above.\n",
      "  and should_run_async(code)\n"
     ]
    }
   ],
   "source": [
    "peek_para = mb.load(\"Oc1ccc(Oc2ccc(C(=O)c3ccccc3)cc2)cc1\",smiles=True)\n",
    "peek_meta = mb.load(\"Oc1cc(Oc2ccc(C(=O)c3ccccc3)cc2)ccc1\", smiles=True)\n",
    "ca = mb.load('C(=O)O', smiles=True)\n",
    "peek_polymer = Poly.Polymer() # Create polymer instance\n",
    "\n",
    "# For now, peek_polymer is an empty mBuild compound\n",
    "print(peek_polymer)\n",
    "\n",
    "# monomers and end_groups attributes: empty lists at the moment\n",
    "print(peek_polymer.monomers)\n",
    "print(peek_polymer.end_groups)"
   ]
  },
  {
   "cell_type": "code",
   "execution_count": 69,
   "metadata": {},
   "outputs": [
    {
     "name": "stdout",
     "output_type": "stream",
     "text": [
      "<Polymer pos=( 0.0000, 0.0000, 0.0000), 0 bonds, id: 140520414817616>\n",
      "\n",
      "[< 34 particles, non-periodic, 36 bonds, id: 140518426965264>, < 34 particles, non-periodic, 36 bonds, id: 140518789642064>]\n",
      "\n",
      "[< 4 particles, non-periodic, 3 bonds, id: 140518433410256>, < 4 particles, non-periodic, 3 bonds, id: 140518426652944>]\n"
     ]
    },
    {
     "name": "stderr",
     "output_type": "stream",
     "text": [
      "/home/chris/miniconda3/envs/mosdev/lib/python3.7/site-packages/ipykernel/ipkernel.py:287: DeprecationWarning: `should_run_async` will not call `transform_cell` automatically in the future. Please pass the result to `transformed_cell` argument and any exception that happen during thetransform in `preprocessing_exc_tuple` in IPython 7.17 and above.\n",
      "  and should_run_async(code)\n"
     ]
    }
   ],
   "source": [
    "# Use the add_monomer and add_end_group methods\n",
    "# Pass in the compounds we want to use as monomers and end_groups\n",
    "# The add_monomer function is called for each unique monomer type\n",
    "# The add_end_groups funciton is called for the end group compound\n",
    "\n",
    "peek_polymer.add_monomer(compound=peek_para,\n",
    "                         bonding_indices = [22, 29],\n",
    "                         separation = 0.1376,\n",
    "                         replace=True\n",
    "                        )\n",
    "\n",
    "peek_polymer.add_monomer(compound=peek_meta,\n",
    "                         bonding_indices = [22, 29],\n",
    "                         separation = 0.1376,\n",
    "                         replace=True\n",
    "                        )\n",
    "\n",
    "peek_polymer.add_end_groups(ca,\n",
    "                            bond_index=3,\n",
    "                            separation=0.13,\n",
    "                            replace=True)\n",
    "\n",
    "#At this point, peek_polymer is still an empty mBuild compound\n",
    "#The monomers and end_groups attributes are no longer empty lists\n",
    "print(peek_polymer)\n",
    "print()\n",
    "print(peek_polymer.monomers)\n",
    "print()\n",
    "print(peek_polymer.end_groups)"
   ]
  },
  {
   "cell_type": "code",
   "execution_count": 70,
   "metadata": {},
   "outputs": [
    {
     "name": "stdout",
     "output_type": "stream",
     "text": [
      "<Polymer 212 particles, non-periodic, 229 bonds, id: 140520414817616>\n"
     ]
    },
    {
     "name": "stderr",
     "output_type": "stream",
     "text": [
      "/home/chris/miniconda3/envs/mosdev/lib/python3.7/site-packages/ipykernel/ipkernel.py:287: DeprecationWarning: `should_run_async` will not call `transform_cell` automatically in the future. Please pass the result to `transformed_cell` argument and any exception that happen during thetransform in `preprocessing_exc_tuple` in IPython 7.17 and above.\n",
      "  and should_run_async(code)\n"
     ]
    }
   ],
   "source": [
    "# Now to actually make the polymer compound\n",
    "# Essentially all of the currently exisitng Polymer() code was moved into a function called build\n",
    "peek_polymer.build(n=3, sequence='AB')\n",
    "\n",
    "# peek_polymer is no longer an empty compound\n",
    "print(peek_polymer)"
   ]
  },
  {
   "cell_type": "code",
   "execution_count": 71,
   "metadata": {},
   "outputs": [
    {
     "name": "stderr",
     "output_type": "stream",
     "text": [
      "/home/chris/miniconda3/envs/mosdev/lib/python3.7/site-packages/ipykernel/ipkernel.py:287: DeprecationWarning: `should_run_async` will not call `transform_cell` automatically in the future. Please pass the result to `transformed_cell` argument and any exception that happen during thetransform in `preprocessing_exc_tuple` in IPython 7.17 and above.\n",
      "  and should_run_async(code)\n"
     ]
    },
    {
     "data": {
      "application/3dmoljs_load.v0": "<div id=\"3dmolviewer_16164353261378157\"  style=\"position: relative; width: 640px; height: 480px\">\n        <p id=\"3dmolwarning_16164353261378157\" style=\"background-color:#ffcccc;color:black\">You appear to be running in JupyterLab (or JavaScript failed to load for some other reason).  You need to install the 3dmol extension: <br>\n        <tt>jupyter labextension install jupyterlab_3dmol</tt></p>\n        </div>\n<script>\n\nvar loadScriptAsync = function(uri){\n  return new Promise((resolve, reject) => {\n    var tag = document.createElement('script');\n    tag.src = uri;\n    tag.async = true;\n    tag.onload = () => {\n      resolve();\n    };\n  var firstScriptTag = document.getElementsByTagName('script')[0];\n  firstScriptTag.parentNode.insertBefore(tag, firstScriptTag);\n});\n};\n\nif(typeof $3Dmolpromise === 'undefined') {\n$3Dmolpromise = null;\n  $3Dmolpromise = loadScriptAsync('https://3dmol.csb.pitt.edu/build/3Dmol.js');\n}\n\nvar viewer_16164353261378157 = null;\nvar warn = document.getElementById(\"3dmolwarning_16164353261378157\");\nif(warn) {\n    warn.parentNode.removeChild(warn);\n}\n$3Dmolpromise.then(function() {\nviewer_16164353261378157 = $3Dmol.createViewer($(\"#3dmolviewer_16164353261378157\"),{backgroundColor:\"white\"});\n\tviewer_16164353261378157.addModel(\"@<TRIPOS>MOLECULE\\nRES\\n212 229 1 0 1\\nSMALL\\nNO_CHARGES\\n@<TRIPOS>CRYSIN\\n   42.6343    29.5246    52.5307    90.0000    90.0000    90.0000  1  1\\n@<TRIPOS>ATOM\\n       1 O            2.2555    -0.0890     0.0234 O             1 RES     \\n       2 C            0.8942    -0.0179     0.0028 C             1 RES     \\n       3 C            0.2331     1.2082     0.0031 C             1 RES     \\n       4 C           -1.1627     1.2359    -0.0186 C             1 RES     \\n       5 C           -1.8811     0.0403    -0.0381 C             1 RES     \\n       6 O           -3.2546     0.1282    -0.0519 O             1 RES     \\n       7 C           -3.9636    -0.4638     0.9729 C             1 RES     \\n       8 C           -5.3573    -0.4116     0.8735 C             1 RES     \\n       9 C           -6.1574    -0.9981     1.8627 C             1 RES     \\n      10 C           -5.5659    -1.6572     2.9501 C             1 RES     \\n      11 C           -6.4269    -2.3064     3.9716 C             1 RES     \\n      12 O           -7.6523    -2.3186     3.8307 O             1 RES     \\n      13 C           -5.8624    -2.9528     5.1768 C             1 RES     \\n      14 C           -6.2625    -4.2547     5.4903 C             1 RES     \\n      15 C           -5.8848    -4.8165     6.7097 C             1 RES     \\n      16 C           -5.0500    -4.1099     7.5775 C             1 RES     \\n      17 C           -4.6084    -2.8305     7.2412 C             1 RES     \\n      18 C           -5.0313    -2.2408     6.0511 C             1 RES     \\n      19 C           -4.1747    -1.7084     3.0384 C             1 RES     \\n      20 C           -3.3847    -1.0837     2.0806 C             1 RES     \\n      21 C           -1.2081    -1.1863    -0.0784 C             1 RES     \\n      22 C            0.1852    -1.2139    -0.0266 C             1 RES     \\n      23 H            0.7818     2.1440     0.0253 H             1 RES     \\n      24 H           -1.6907     2.1854    -0.0089 H             1 RES     \\n      25 H           -5.8271     0.0869     0.0283 H             1 RES     \\n      26 H           -7.2422    -0.9477     1.7757 H             1 RES     \\n      27 H           -6.8864    -4.8186     4.8001 H             1 RES     \\n      28 H           -6.2645    -5.7939     6.9967 H             1 RES     \\n      29 H           -3.9659    -2.2782     7.9224 H             1 RES     \\n      30 H           -4.7225    -1.2241     5.8231 H             1 RES     \\n      31 H           -3.6624    -2.2273     3.8406 H             1 RES     \\n      32 H           -2.3106    -1.1169     2.2280 H             1 RES     \\n      33 H           -1.7632    -2.1202    -0.1048 H             1 RES     \\n      34 H            0.7141    -2.1626    -0.0094 H             1 RES     \\n      35 O            6.9355    -2.4857    -8.9023 O             1 RES     \\n      36 C            6.6701    -1.2350    -8.4277 C             1 RES     \\n      37 C            7.4869    -0.6355    -7.4745 C             1 RES     \\n      38 C            7.1724     0.6465    -7.0259 C             1 RES     \\n      39 O            7.9897     1.1978    -6.0650 O             1 RES     \\n      40 C            7.4281     1.5764    -4.8627 C             1 RES     \\n      41 C            8.2836     2.2025    -3.9517 C             1 RES     \\n      42 C            7.7989     2.6316    -2.7096 C             1 RES     \\n      43 C            6.4478     2.4539    -2.3789 C             1 RES     \\n      44 C            5.9416     2.9452    -1.0715 C             1 RES     \\n      45 O            6.6897     3.5668    -0.3127 O             1 RES     \\n      46 C            4.5497     2.7073    -0.6302 C             1 RES     \\n      47 C            3.7966     3.7866    -0.1591 C             1 RES     \\n      48 C            2.5540     3.5534     0.4304 C             1 RES     \\n      49 C            2.0346     2.2582     0.4808 C             1 RES     \\n      50 C            2.7634     1.1884    -0.0375 C             1 RES     \\n      51 C            4.0309     1.4076    -0.5734 C             1 RES     \\n      52 C            5.5997     1.8338    -3.2967 C             1 RES     \\n      53 C            6.0952     1.3645    -4.5076 C             1 RES     \\n      54 C            6.0826     1.3407    -7.5658 C             1 RES     \\n      55 C            5.2503     0.7130    -8.4917 C             1 RES     \\n      56 C            5.5480    -0.5783    -8.9258 C             1 RES     \\n      57 H            8.3498    -1.1483    -7.0638 H             1 RES     \\n      58 H            9.3308     2.3568    -4.2028 H             1 RES     \\n      59 H            8.4774     3.1130    -2.0062 H             1 RES     \\n      60 H            4.1865     4.8000    -0.2260 H             1 RES     \\n      61 H            2.0030     4.3770     0.8776 H             1 RES     \\n      62 H            1.0654     2.0803     0.9402 H             1 RES     \\n      63 H            4.6119     0.5597    -0.9262 H             1 RES     \\n      64 H            4.5413     1.6942    -3.1070 H             1 RES     \\n      65 H            5.3981     0.8478    -5.1586 H             1 RES     \\n      66 H            5.8506     2.3482    -7.2299 H             1 RES     \\n      67 H            4.3713     1.2272    -8.8709 H             1 RES     \\n      68 H            4.9110    -1.0691    -9.6564 H             1 RES     \\n      69 O           13.3751   -12.3664   -11.4686 O             1 RES     \\n      70 C           13.6722   -11.5397   -10.4261 C             1 RES     \\n      71 C           13.6536   -11.9977    -9.1108 C             1 RES     \\n      72 C           13.9646   -11.1175    -8.0725 C             1 RES     \\n      73 C           14.2878    -9.7911    -8.3595 C             1 RES     \\n      74 O           14.5787    -8.9671    -7.2962 O             1 RES     \\n      75 C           13.8105    -7.8366    -7.1086 C             1 RES     \\n      76 C           14.1933    -6.9938    -6.0606 C             1 RES     \\n      77 C           13.4780    -5.8166    -5.8051 C             1 RES     \\n      78 C           12.3842    -5.4664    -6.6100 C             1 RES     \\n      79 C           11.6585    -4.1967    -6.3503 C             1 RES     \\n      80 O           12.0543    -3.4263    -5.4719 O             1 RES     \\n      81 C           10.4546    -3.8103    -7.1186 C             1 RES     \\n      82 C           10.4019    -2.5348    -7.6876 C             1 RES     \\n      83 C            9.2127    -2.0851    -8.2610 C             1 RES     \\n      84 C            8.1055    -2.9326    -8.3324 C             1 RES     \\n      85 C            8.1745    -4.2241    -7.8106 C             1 RES     \\n      86 C            9.3412    -4.6577    -7.1832 C             1 RES     \\n      87 C           12.0127    -6.3109    -7.6562 C             1 RES     \\n      88 C           12.6947    -7.5018    -7.8762 C             1 RES     \\n      89 C           14.3428    -9.3499    -9.6866 C             1 RES     \\n      90 C           14.0031   -10.2215   -10.7209 C             1 RES     \\n      91 H           13.3967   -13.0254    -8.8757 H             1 RES     \\n      92 H           13.9445   -11.4595    -7.0415 H             1 RES     \\n      93 H           15.0473    -7.2495    -5.4370 H             1 RES     \\n      94 H           13.7839    -5.1699    -4.9834 H             1 RES     \\n      95 H           11.2743    -1.8854    -7.6614 H             1 RES     \\n      96 H            9.1398    -1.0639    -8.6265 H             1 RES     \\n      97 H            7.3084    -4.8793    -7.8588 H             1 RES     \\n      98 H            9.3669    -5.6474    -6.7350 H             1 RES     \\n      99 H           11.1940    -6.0782    -8.3276 H             1 RES     \\n     100 H           12.3303    -8.1396    -8.6742 H             1 RES     \\n     101 H           14.6048    -8.3205    -9.9160 H             1 RES     \\n     102 H           13.9969    -9.8742   -11.7503 H             1 RES     \\n     103 O           21.3491   -15.7790   -17.1328 O             1 RES     \\n     104 C           20.7845   -16.3994   -16.0575 C             1 RES     \\n     105 C           19.6121   -17.1375   -16.1825 C             1 RES     \\n     106 C           19.0789   -17.7548   -15.0519 C             1 RES     \\n     107 O           17.9051   -18.4565   -15.2095 O             1 RES     \\n     108 C           16.8094   -18.0819   -14.4589 C             1 RES     \\n     109 C           15.6663   -18.8743   -14.5972 C             1 RES     \\n     110 C           14.5093   -18.5766   -13.8660 C             1 RES     \\n     111 C           14.4957   -17.4934   -12.9754 C             1 RES     \\n     112 C           13.2720   -17.2114   -12.1818 C             1 RES     \\n     113 O           12.2995   -17.9668   -12.2550 O             1 RES     \\n     114 C           13.1675   -16.0320   -11.2947 C             1 RES     \\n     115 C           12.7308   -16.2128    -9.9792 C             1 RES     \\n     116 C           12.4507   -15.0987    -9.1879 C             1 RES     \\n     117 C           12.6771   -13.8129    -9.6831 C             1 RES     \\n     118 C           13.1635   -13.6343   -10.9777 C             1 RES     \\n     119 C           13.3882   -14.7418   -11.7930 C             1 RES     \\n     120 C           15.6431   -16.7117   -12.8391 C             1 RES     \\n     121 C           16.7727   -16.9800   -13.6033 C             1 RES     \\n     122 C           19.7423   -17.6777   -13.8211 C             1 RES     \\n     123 C           20.8952   -16.9027   -13.7019 C             1 RES     \\n     124 C           21.4190   -16.2644   -14.8256 C             1 RES     \\n     125 H           19.0984   -17.2292   -17.1333 H             1 RES     \\n     126 H           15.6697   -19.7246   -15.2758 H             1 RES     \\n     127 H           13.6232   -19.1987   -13.9871 H             1 RES     \\n     128 H           12.5837   -17.2147    -9.5815 H             1 RES     \\n     129 H           12.0275   -15.2313    -8.1953 H             1 RES     \\n     130 H           12.4586   -12.9469    -9.0633 H             1 RES     \\n     131 H           13.7167   -14.5887   -12.8176 H             1 RES     \\n     132 H           15.6997   -15.8794   -12.1466 H             1 RES     \\n     133 H           17.6165   -16.3080   -13.4889 H             1 RES     \\n     134 H           19.3363   -18.1767   -12.9447 H             1 RES     \\n     135 H           21.3817   -16.7942   -12.7362 H             1 RES     \\n     136 H           22.3240   -15.6689   -14.7430 H             1 RES     \\n     137 O           23.7495   -13.4154   -28.7231 O             1 RES     \\n     138 C           22.5706   -13.9597   -28.3077 C             1 RES     \\n     139 C           21.3584   -13.3052   -28.5142 C             1 RES     \\n     140 C           20.1738   -13.8982   -28.0730 C             1 RES     \\n     141 C           20.2140   -15.1352   -27.4294 C             1 RES     \\n     142 O           19.0165   -15.6686   -27.0098 O             1 RES     \\n     143 C           18.8512   -15.9438   -25.6680 C             1 RES     \\n     144 C           17.6470   -16.5539   -25.3040 C             1 RES     \\n     145 C           17.3988   -16.8811   -23.9646 C             1 RES     \\n     146 C           18.3640   -16.6152   -22.9825 C             1 RES     \\n     147 C           18.1020   -17.0016   -21.5723 C             1 RES     \\n     148 O           17.0686   -17.6079   -21.2787 O             1 RES     \\n     149 C           19.0502   -16.6818   -20.4826 C             1 RES     \\n     150 C           19.4492   -17.7049   -19.6179 C             1 RES     \\n     151 C           20.1973   -17.3944   -18.4825 C             1 RES     \\n     152 C           20.6080   -16.0799   -18.2525 C             1 RES     \\n     153 C           20.2534   -15.0671   -19.1432 C             1 RES     \\n     154 C           19.4556   -15.3619   -20.2475 C             1 RES     \\n     155 C           19.5643   -16.0107   -23.3557 C             1 RES     \\n     156 C           19.7869   -15.6437   -24.6776 C             1 RES     \\n     157 C           21.4321   -15.8038   -27.2617 C             1 RES     \\n     158 C           22.6177   -15.1976   -27.6758 C             1 RES     \\n     159 H           21.3164   -12.3396   -29.0073 H             1 RES     \\n     160 H           19.2227   -13.3939   -28.2192 H             1 RES     \\n     161 H           16.8958   -16.7755   -26.0591 H             1 RES     \\n     162 H           16.4551   -17.3530   -23.6930 H             1 RES     \\n     163 H           19.1571   -18.7344   -19.8137 H             1 RES     \\n     164 H           20.4359   -18.1722   -17.7616 H             1 RES     \\n     165 H           20.5663   -14.0427   -18.9575 H             1 RES     \\n     166 H           19.1428   -14.5566   -20.9068 H             1 RES     \\n     167 H           20.3574   -15.8067   -22.6453 H             1 RES     \\n     168 H           20.7188   -15.1346   -24.8988 H             1 RES     \\n     169 H           21.4673   -16.7727   -26.7708 H             1 RES     \\n     170 H           23.5721   -15.6882   -27.5066 H             1 RES     \\n     171 O           28.0002   -17.4586   -37.2612 O             1 RES     \\n     172 C           27.1563   -16.3893   -37.1950 C             1 RES     \\n     173 C           27.6186   -15.1244   -36.8467 C             1 RES     \\n     174 C           26.7141   -14.0647   -36.7976 C             1 RES     \\n     175 O           27.2036   -12.8329   -36.4260 O             1 RES     \\n     176 C           26.6586   -12.2157   -35.3187 C             1 RES     \\n     177 C           27.1346   -10.9336   -35.0297 C             1 RES     \\n     178 C           26.6309   -10.2256   -33.9311 C             1 RES     \\n     179 C           25.6318   -10.7898   -33.1249 C             1 RES     \\n     180 C           25.0837   -10.0123   -31.9838 C             1 RES     \\n     181 O           25.4561    -8.8523   -31.7900 O             1 RES     \\n     182 C           24.0947   -10.5879   -31.0460 C             1 RES     \\n     183 C           22.9348    -9.8628   -30.7587 C             1 RES     \\n     184 C           22.0838   -10.2999   -29.7434 C             1 RES     \\n     185 C           22.3513   -11.4940   -29.0709 C             1 RES     \\n     186 C           23.4808   -12.2448   -29.3947 C             1 RES     \\n     187 C           24.3658   -11.7822   -30.3666 C             1 RES     \\n     188 C           25.1582   -12.0673   -33.4244 C             1 RES     \\n     189 C           25.6957   -12.7866   -34.4853 C             1 RES     \\n     190 C           25.3718   -14.2597   -37.1458 C             1 RES     \\n     191 C           24.9145   -15.5400   -37.4550 C             1 RES     \\n     192 C           25.8116   -16.6073   -37.4825 C             1 RES     \\n     193 H           28.6599   -14.9497   -36.5987 H             1 RES     \\n     194 H           27.9006   -10.4812   -35.6557 H             1 RES     \\n     195 H           27.0145    -9.2294   -33.7132 H             1 RES     \\n     196 H           22.7087    -8.9485   -31.3033 H             1 RES     \\n     197 H           21.2278    -9.6947   -29.4554 H             1 RES     \\n     198 H           21.6854   -11.8322   -28.2807 H             1 RES     \\n     199 H           25.2701   -12.3483   -30.5736 H             1 RES     \\n     200 H           24.3683   -12.5423   -32.8534 H             1 RES     \\n     201 H           25.3212   -13.7931   -34.6387 H             1 RES     \\n     202 H           24.6718   -13.4282   -37.1269 H             1 RES     \\n     203 H           23.8624   -15.7058   -37.6707 H             1 RES     \\n     204 H           25.4648   -17.6056   -37.7348 H             1 RES     \\n     205 C           -4.6975    -4.6389     8.7115 C             1 RES     \\n     206 O           -5.1351    -4.2983     9.7959 O             1 RES     \\n     207 O           -3.7854    -5.6134     8.5367 O             1 RES     \\n     208 H           -3.5544    -5.7467     7.5976 H             1 RES     \\n     209 C           29.2091   -17.0489   -37.0148 C             1 RES     \\n     210 O           29.5963   -15.9062   -37.1809 O             1 RES     \\n     211 O           29.9820   -18.0492   -36.5516 O             1 RES     \\n     212 H           29.4998   -18.8953   -36.4845 H             1 RES     \\n@<TRIPOS>BOND\\n       1      117      118 1\\n       2      120      121 1\\n       3      195      178 1\\n       4       90      102 1\\n       5       42       43 1\\n       6       87       88 1\\n       7       87       99 1\\n       8      139      140 1\\n       9      181      180 1\\n      10       55       56 1\\n      11      191      192 1\\n      12      160      140 1\\n      13      174      173 1\\n      14      123      124 1\\n      15        4        3 1\\n      16       20       19 1\\n      17       79       80 1\\n      18       47       46 1\\n      19      134      122 1\\n      20       84       35 1\\n      21       78       87 1\\n      22       54       66 1\\n      23       76       93 1\\n      24      111      110 1\\n      25       86       98 1\\n      26       90       70 1\\n      27       69       70 1\\n      28       77       76 1\\n      29       37       57 1\\n      30      185      184 1\\n      31      158      157 1\\n      32      153      165 1\\n      33       55       54 1\\n      34       52       64 1\\n      35       40       53 1\\n      36       48       61 1\\n      37      188      179 1\\n      38       91       71 1\\n      39       36       56 1\\n      40      153      154 1\\n      41       44       45 1\\n      42       92       72 1\\n      43       86       85 1\\n      44      111      112 1\\n      45      120      132 1\\n      46      186      185 1\\n      47       49       50 1\\n      48      193      173 1\\n      49      116      117 1\\n      50       56       68 1\\n      51      110      109 1\\n      52       75       74 1\\n      53       90       89 1\\n      54      107      106 1\\n      55       12       11 1\\n      56       84       85 1\\n      57      142      143 1\\n      58      155      146 1\\n      59        3        2 1\\n      60       53       52 1\\n      61      114      119 1\\n      62      104      105 1\\n      63      194      177 1\\n      64       89       73 1\\n      65      196      183 1\\n      66       79       81 1\\n      67      187      186 1\\n      68       82       83 1\\n      69      200      188 1\\n      70       77       94 1\\n      71       69      118 1\\n      72       13       14 1\\n      73       19       31 1\\n      74       17       18 1\\n      75      120      111 1\\n      76      192      204 1\\n      77      164      151 1\\n      78       48       49 1\\n      79      150      151 1\\n      80       22        2 1\\n      81      125      105 1\\n      82      197      184 1\\n      83      178      177 1\\n      84       36       37 1\\n      85        8        7 1\\n      86       20       32 1\\n      87      156      143 1\\n      88       81       82 1\\n      89      141      140 1\\n      90        1        2 1\\n      91      166      154 1\\n      92       19       10 1\\n      93       27       14 1\\n      94      135      123 1\\n      95      202      190 1\\n      96       38       54 1\\n      97       42       59 1\\n      98       85       97 1\\n      99        6        7 1\\n     100       16       17 1\\n     101      183      184 1\\n     102      122      106 1\\n     103       88       75 1\\n     104      168      156 1\\n     105      187      182 1\\n     106       82       95 1\\n     107      146      147 1\\n     108      183      182 1\\n     109       21       33 1\\n     110       28       15 1\\n     111       43       52 1\\n     112       71       70 1\\n     113       24        4 1\\n     114      126      109 1\\n     115      114      112 1\\n     116      210      209 1\\n     117      133      121 1\\n     118      163      150 1\\n     119      177      176 1\\n     120       21        5 1\\n     121      152      103 1\\n     122      159      139 1\\n     123      169      157 1\\n     124      142      141 1\\n     125      145      146 1\\n     126       83       84 1\\n     127      158      138 1\\n     128      114      115 1\\n     129       48       47 1\\n     130      122      123 1\\n     131       81       86 1\\n     132      170      158 1\\n     133      155      156 1\\n     134       83       96 1\\n     135       25        8 1\\n     136      192      172 1\\n     137       13       18 1\\n     138       73       72 1\\n     139      153      152 1\\n     140      205      207 1\\n     141       88      100 1\\n     142      144      145 1\\n     143       53       65 1\\n     144      211      212 1\\n     145      190      174 1\\n     146      149      150 1\\n     147      180      179 1\\n     148      138      139 1\\n     149       50        1 1\\n     150      119      118 1\\n     151      148      147 1\\n     152       20        7 1\\n     153       44       46 1\\n     154       16      205 1\\n     155      105      106 1\\n     156       36       35 1\\n     157      191      190 1\\n     158      121      108 1\\n     159      149      147 1\\n     160       39       38 1\\n     161      152      151 1\\n     162      182      180 1\\n     163       89      101 1\\n     164        9        8 1\\n     165      128      115 1\\n     166       37       38 1\\n     167      127      110 1\\n     168       16       15 1\\n     169       26        9 1\\n     170       23        3 1\\n     171      209      211 1\\n     172      199      187 1\\n     173      162      145 1\\n     174      130      117 1\\n     175       44       43 1\\n     176       40       41 1\\n     177      198      185 1\\n     178      171      209 1\\n     179      136      124 1\\n     180      174      175 1\\n     181       41       42 1\\n     182       22       34 1\\n     183      188      189 1\\n     184      205      206 1\\n     185      208      207 1\\n     186      176      189 1\\n     187      113      112 1\\n     188      149      154 1\\n     189        5        6 1\\n     190       55       67 1\\n     191      172      171 1\\n     192      186      137 1\\n     193       17       29 1\\n     194       21       22 1\\n     195       78       79 1\\n     196       11       10 1\\n     197        5        4 1\\n     198       72       71 1\\n     199       51       46 1\\n     200       40       39 1\\n     201       73       74 1\\n     202      103      104 1\\n     203      191      203 1\\n     204      176      175 1\\n     205      108      107 1\\n     206       50       51 1\\n     207      167      155 1\\n     208      129      116 1\\n     209       10        9 1\\n     210       13       11 1\\n     211      124      104 1\\n     212       49       62 1\\n     213       41       58 1\\n     214       78       77 1\\n     215      179      178 1\\n     216      143      144 1\\n     217      161      144 1\\n     218       60       47 1\\n     219       51       63 1\\n     220       14       15 1\\n     221      131      119 1\\n     222      172      173 1\\n     223      201      189 1\\n     224      108      109 1\\n     225      116      115 1\\n     226      157      141 1\\n     227      137      138 1\\n     228       75       76 1\\n     229       18       30 1\\n@<TRIPOS>SUBSTRUCTURE\\n       1 RES             1 RESIDUE    0 **** ROOT      0\\n\",\"mol2\");\n\tviewer_16164353261378157.setStyle({\"stick\": {\"radius\": 0.2, \"color\": \"grey\"}, \"sphere\": {\"scale\": 0.3, \"colorscheme\": {}}});\n\tviewer_16164353261378157.zoomTo();\nviewer_16164353261378157.render();\n});\n</script>",
      "text/html": [
       "<div id=\"3dmolviewer_16164353261378157\"  style=\"position: relative; width: 640px; height: 480px\">\n",
       "        <p id=\"3dmolwarning_16164353261378157\" style=\"background-color:#ffcccc;color:black\">You appear to be running in JupyterLab (or JavaScript failed to load for some other reason).  You need to install the 3dmol extension: <br>\n",
       "        <tt>jupyter labextension install jupyterlab_3dmol</tt></p>\n",
       "        </div>\n",
       "<script>\n",
       "\n",
       "var loadScriptAsync = function(uri){\n",
       "  return new Promise((resolve, reject) => {\n",
       "    var tag = document.createElement('script');\n",
       "    tag.src = uri;\n",
       "    tag.async = true;\n",
       "    tag.onload = () => {\n",
       "      resolve();\n",
       "    };\n",
       "  var firstScriptTag = document.getElementsByTagName('script')[0];\n",
       "  firstScriptTag.parentNode.insertBefore(tag, firstScriptTag);\n",
       "});\n",
       "};\n",
       "\n",
       "if(typeof $3Dmolpromise === 'undefined') {\n",
       "$3Dmolpromise = null;\n",
       "  $3Dmolpromise = loadScriptAsync('https://3dmol.csb.pitt.edu/build/3Dmol.js');\n",
       "}\n",
       "\n",
       "var viewer_16164353261378157 = null;\n",
       "var warn = document.getElementById(\"3dmolwarning_16164353261378157\");\n",
       "if(warn) {\n",
       "    warn.parentNode.removeChild(warn);\n",
       "}\n",
       "$3Dmolpromise.then(function() {\n",
       "viewer_16164353261378157 = $3Dmol.createViewer($(\"#3dmolviewer_16164353261378157\"),{backgroundColor:\"white\"});\n",
       "\tviewer_16164353261378157.addModel(\"@<TRIPOS>MOLECULE\\nRES\\n212 229 1 0 1\\nSMALL\\nNO_CHARGES\\n@<TRIPOS>CRYSIN\\n   42.6343    29.5246    52.5307    90.0000    90.0000    90.0000  1  1\\n@<TRIPOS>ATOM\\n       1 O            2.2555    -0.0890     0.0234 O             1 RES     \\n       2 C            0.8942    -0.0179     0.0028 C             1 RES     \\n       3 C            0.2331     1.2082     0.0031 C             1 RES     \\n       4 C           -1.1627     1.2359    -0.0186 C             1 RES     \\n       5 C           -1.8811     0.0403    -0.0381 C             1 RES     \\n       6 O           -3.2546     0.1282    -0.0519 O             1 RES     \\n       7 C           -3.9636    -0.4638     0.9729 C             1 RES     \\n       8 C           -5.3573    -0.4116     0.8735 C             1 RES     \\n       9 C           -6.1574    -0.9981     1.8627 C             1 RES     \\n      10 C           -5.5659    -1.6572     2.9501 C             1 RES     \\n      11 C           -6.4269    -2.3064     3.9716 C             1 RES     \\n      12 O           -7.6523    -2.3186     3.8307 O             1 RES     \\n      13 C           -5.8624    -2.9528     5.1768 C             1 RES     \\n      14 C           -6.2625    -4.2547     5.4903 C             1 RES     \\n      15 C           -5.8848    -4.8165     6.7097 C             1 RES     \\n      16 C           -5.0500    -4.1099     7.5775 C             1 RES     \\n      17 C           -4.6084    -2.8305     7.2412 C             1 RES     \\n      18 C           -5.0313    -2.2408     6.0511 C             1 RES     \\n      19 C           -4.1747    -1.7084     3.0384 C             1 RES     \\n      20 C           -3.3847    -1.0837     2.0806 C             1 RES     \\n      21 C           -1.2081    -1.1863    -0.0784 C             1 RES     \\n      22 C            0.1852    -1.2139    -0.0266 C             1 RES     \\n      23 H            0.7818     2.1440     0.0253 H             1 RES     \\n      24 H           -1.6907     2.1854    -0.0089 H             1 RES     \\n      25 H           -5.8271     0.0869     0.0283 H             1 RES     \\n      26 H           -7.2422    -0.9477     1.7757 H             1 RES     \\n      27 H           -6.8864    -4.8186     4.8001 H             1 RES     \\n      28 H           -6.2645    -5.7939     6.9967 H             1 RES     \\n      29 H           -3.9659    -2.2782     7.9224 H             1 RES     \\n      30 H           -4.7225    -1.2241     5.8231 H             1 RES     \\n      31 H           -3.6624    -2.2273     3.8406 H             1 RES     \\n      32 H           -2.3106    -1.1169     2.2280 H             1 RES     \\n      33 H           -1.7632    -2.1202    -0.1048 H             1 RES     \\n      34 H            0.7141    -2.1626    -0.0094 H             1 RES     \\n      35 O            6.9355    -2.4857    -8.9023 O             1 RES     \\n      36 C            6.6701    -1.2350    -8.4277 C             1 RES     \\n      37 C            7.4869    -0.6355    -7.4745 C             1 RES     \\n      38 C            7.1724     0.6465    -7.0259 C             1 RES     \\n      39 O            7.9897     1.1978    -6.0650 O             1 RES     \\n      40 C            7.4281     1.5764    -4.8627 C             1 RES     \\n      41 C            8.2836     2.2025    -3.9517 C             1 RES     \\n      42 C            7.7989     2.6316    -2.7096 C             1 RES     \\n      43 C            6.4478     2.4539    -2.3789 C             1 RES     \\n      44 C            5.9416     2.9452    -1.0715 C             1 RES     \\n      45 O            6.6897     3.5668    -0.3127 O             1 RES     \\n      46 C            4.5497     2.7073    -0.6302 C             1 RES     \\n      47 C            3.7966     3.7866    -0.1591 C             1 RES     \\n      48 C            2.5540     3.5534     0.4304 C             1 RES     \\n      49 C            2.0346     2.2582     0.4808 C             1 RES     \\n      50 C            2.7634     1.1884    -0.0375 C             1 RES     \\n      51 C            4.0309     1.4076    -0.5734 C             1 RES     \\n      52 C            5.5997     1.8338    -3.2967 C             1 RES     \\n      53 C            6.0952     1.3645    -4.5076 C             1 RES     \\n      54 C            6.0826     1.3407    -7.5658 C             1 RES     \\n      55 C            5.2503     0.7130    -8.4917 C             1 RES     \\n      56 C            5.5480    -0.5783    -8.9258 C             1 RES     \\n      57 H            8.3498    -1.1483    -7.0638 H             1 RES     \\n      58 H            9.3308     2.3568    -4.2028 H             1 RES     \\n      59 H            8.4774     3.1130    -2.0062 H             1 RES     \\n      60 H            4.1865     4.8000    -0.2260 H             1 RES     \\n      61 H            2.0030     4.3770     0.8776 H             1 RES     \\n      62 H            1.0654     2.0803     0.9402 H             1 RES     \\n      63 H            4.6119     0.5597    -0.9262 H             1 RES     \\n      64 H            4.5413     1.6942    -3.1070 H             1 RES     \\n      65 H            5.3981     0.8478    -5.1586 H             1 RES     \\n      66 H            5.8506     2.3482    -7.2299 H             1 RES     \\n      67 H            4.3713     1.2272    -8.8709 H             1 RES     \\n      68 H            4.9110    -1.0691    -9.6564 H             1 RES     \\n      69 O           13.3751   -12.3664   -11.4686 O             1 RES     \\n      70 C           13.6722   -11.5397   -10.4261 C             1 RES     \\n      71 C           13.6536   -11.9977    -9.1108 C             1 RES     \\n      72 C           13.9646   -11.1175    -8.0725 C             1 RES     \\n      73 C           14.2878    -9.7911    -8.3595 C             1 RES     \\n      74 O           14.5787    -8.9671    -7.2962 O             1 RES     \\n      75 C           13.8105    -7.8366    -7.1086 C             1 RES     \\n      76 C           14.1933    -6.9938    -6.0606 C             1 RES     \\n      77 C           13.4780    -5.8166    -5.8051 C             1 RES     \\n      78 C           12.3842    -5.4664    -6.6100 C             1 RES     \\n      79 C           11.6585    -4.1967    -6.3503 C             1 RES     \\n      80 O           12.0543    -3.4263    -5.4719 O             1 RES     \\n      81 C           10.4546    -3.8103    -7.1186 C             1 RES     \\n      82 C           10.4019    -2.5348    -7.6876 C             1 RES     \\n      83 C            9.2127    -2.0851    -8.2610 C             1 RES     \\n      84 C            8.1055    -2.9326    -8.3324 C             1 RES     \\n      85 C            8.1745    -4.2241    -7.8106 C             1 RES     \\n      86 C            9.3412    -4.6577    -7.1832 C             1 RES     \\n      87 C           12.0127    -6.3109    -7.6562 C             1 RES     \\n      88 C           12.6947    -7.5018    -7.8762 C             1 RES     \\n      89 C           14.3428    -9.3499    -9.6866 C             1 RES     \\n      90 C           14.0031   -10.2215   -10.7209 C             1 RES     \\n      91 H           13.3967   -13.0254    -8.8757 H             1 RES     \\n      92 H           13.9445   -11.4595    -7.0415 H             1 RES     \\n      93 H           15.0473    -7.2495    -5.4370 H             1 RES     \\n      94 H           13.7839    -5.1699    -4.9834 H             1 RES     \\n      95 H           11.2743    -1.8854    -7.6614 H             1 RES     \\n      96 H            9.1398    -1.0639    -8.6265 H             1 RES     \\n      97 H            7.3084    -4.8793    -7.8588 H             1 RES     \\n      98 H            9.3669    -5.6474    -6.7350 H             1 RES     \\n      99 H           11.1940    -6.0782    -8.3276 H             1 RES     \\n     100 H           12.3303    -8.1396    -8.6742 H             1 RES     \\n     101 H           14.6048    -8.3205    -9.9160 H             1 RES     \\n     102 H           13.9969    -9.8742   -11.7503 H             1 RES     \\n     103 O           21.3491   -15.7790   -17.1328 O             1 RES     \\n     104 C           20.7845   -16.3994   -16.0575 C             1 RES     \\n     105 C           19.6121   -17.1375   -16.1825 C             1 RES     \\n     106 C           19.0789   -17.7548   -15.0519 C             1 RES     \\n     107 O           17.9051   -18.4565   -15.2095 O             1 RES     \\n     108 C           16.8094   -18.0819   -14.4589 C             1 RES     \\n     109 C           15.6663   -18.8743   -14.5972 C             1 RES     \\n     110 C           14.5093   -18.5766   -13.8660 C             1 RES     \\n     111 C           14.4957   -17.4934   -12.9754 C             1 RES     \\n     112 C           13.2720   -17.2114   -12.1818 C             1 RES     \\n     113 O           12.2995   -17.9668   -12.2550 O             1 RES     \\n     114 C           13.1675   -16.0320   -11.2947 C             1 RES     \\n     115 C           12.7308   -16.2128    -9.9792 C             1 RES     \\n     116 C           12.4507   -15.0987    -9.1879 C             1 RES     \\n     117 C           12.6771   -13.8129    -9.6831 C             1 RES     \\n     118 C           13.1635   -13.6343   -10.9777 C             1 RES     \\n     119 C           13.3882   -14.7418   -11.7930 C             1 RES     \\n     120 C           15.6431   -16.7117   -12.8391 C             1 RES     \\n     121 C           16.7727   -16.9800   -13.6033 C             1 RES     \\n     122 C           19.7423   -17.6777   -13.8211 C             1 RES     \\n     123 C           20.8952   -16.9027   -13.7019 C             1 RES     \\n     124 C           21.4190   -16.2644   -14.8256 C             1 RES     \\n     125 H           19.0984   -17.2292   -17.1333 H             1 RES     \\n     126 H           15.6697   -19.7246   -15.2758 H             1 RES     \\n     127 H           13.6232   -19.1987   -13.9871 H             1 RES     \\n     128 H           12.5837   -17.2147    -9.5815 H             1 RES     \\n     129 H           12.0275   -15.2313    -8.1953 H             1 RES     \\n     130 H           12.4586   -12.9469    -9.0633 H             1 RES     \\n     131 H           13.7167   -14.5887   -12.8176 H             1 RES     \\n     132 H           15.6997   -15.8794   -12.1466 H             1 RES     \\n     133 H           17.6165   -16.3080   -13.4889 H             1 RES     \\n     134 H           19.3363   -18.1767   -12.9447 H             1 RES     \\n     135 H           21.3817   -16.7942   -12.7362 H             1 RES     \\n     136 H           22.3240   -15.6689   -14.7430 H             1 RES     \\n     137 O           23.7495   -13.4154   -28.7231 O             1 RES     \\n     138 C           22.5706   -13.9597   -28.3077 C             1 RES     \\n     139 C           21.3584   -13.3052   -28.5142 C             1 RES     \\n     140 C           20.1738   -13.8982   -28.0730 C             1 RES     \\n     141 C           20.2140   -15.1352   -27.4294 C             1 RES     \\n     142 O           19.0165   -15.6686   -27.0098 O             1 RES     \\n     143 C           18.8512   -15.9438   -25.6680 C             1 RES     \\n     144 C           17.6470   -16.5539   -25.3040 C             1 RES     \\n     145 C           17.3988   -16.8811   -23.9646 C             1 RES     \\n     146 C           18.3640   -16.6152   -22.9825 C             1 RES     \\n     147 C           18.1020   -17.0016   -21.5723 C             1 RES     \\n     148 O           17.0686   -17.6079   -21.2787 O             1 RES     \\n     149 C           19.0502   -16.6818   -20.4826 C             1 RES     \\n     150 C           19.4492   -17.7049   -19.6179 C             1 RES     \\n     151 C           20.1973   -17.3944   -18.4825 C             1 RES     \\n     152 C           20.6080   -16.0799   -18.2525 C             1 RES     \\n     153 C           20.2534   -15.0671   -19.1432 C             1 RES     \\n     154 C           19.4556   -15.3619   -20.2475 C             1 RES     \\n     155 C           19.5643   -16.0107   -23.3557 C             1 RES     \\n     156 C           19.7869   -15.6437   -24.6776 C             1 RES     \\n     157 C           21.4321   -15.8038   -27.2617 C             1 RES     \\n     158 C           22.6177   -15.1976   -27.6758 C             1 RES     \\n     159 H           21.3164   -12.3396   -29.0073 H             1 RES     \\n     160 H           19.2227   -13.3939   -28.2192 H             1 RES     \\n     161 H           16.8958   -16.7755   -26.0591 H             1 RES     \\n     162 H           16.4551   -17.3530   -23.6930 H             1 RES     \\n     163 H           19.1571   -18.7344   -19.8137 H             1 RES     \\n     164 H           20.4359   -18.1722   -17.7616 H             1 RES     \\n     165 H           20.5663   -14.0427   -18.9575 H             1 RES     \\n     166 H           19.1428   -14.5566   -20.9068 H             1 RES     \\n     167 H           20.3574   -15.8067   -22.6453 H             1 RES     \\n     168 H           20.7188   -15.1346   -24.8988 H             1 RES     \\n     169 H           21.4673   -16.7727   -26.7708 H             1 RES     \\n     170 H           23.5721   -15.6882   -27.5066 H             1 RES     \\n     171 O           28.0002   -17.4586   -37.2612 O             1 RES     \\n     172 C           27.1563   -16.3893   -37.1950 C             1 RES     \\n     173 C           27.6186   -15.1244   -36.8467 C             1 RES     \\n     174 C           26.7141   -14.0647   -36.7976 C             1 RES     \\n     175 O           27.2036   -12.8329   -36.4260 O             1 RES     \\n     176 C           26.6586   -12.2157   -35.3187 C             1 RES     \\n     177 C           27.1346   -10.9336   -35.0297 C             1 RES     \\n     178 C           26.6309   -10.2256   -33.9311 C             1 RES     \\n     179 C           25.6318   -10.7898   -33.1249 C             1 RES     \\n     180 C           25.0837   -10.0123   -31.9838 C             1 RES     \\n     181 O           25.4561    -8.8523   -31.7900 O             1 RES     \\n     182 C           24.0947   -10.5879   -31.0460 C             1 RES     \\n     183 C           22.9348    -9.8628   -30.7587 C             1 RES     \\n     184 C           22.0838   -10.2999   -29.7434 C             1 RES     \\n     185 C           22.3513   -11.4940   -29.0709 C             1 RES     \\n     186 C           23.4808   -12.2448   -29.3947 C             1 RES     \\n     187 C           24.3658   -11.7822   -30.3666 C             1 RES     \\n     188 C           25.1582   -12.0673   -33.4244 C             1 RES     \\n     189 C           25.6957   -12.7866   -34.4853 C             1 RES     \\n     190 C           25.3718   -14.2597   -37.1458 C             1 RES     \\n     191 C           24.9145   -15.5400   -37.4550 C             1 RES     \\n     192 C           25.8116   -16.6073   -37.4825 C             1 RES     \\n     193 H           28.6599   -14.9497   -36.5987 H             1 RES     \\n     194 H           27.9006   -10.4812   -35.6557 H             1 RES     \\n     195 H           27.0145    -9.2294   -33.7132 H             1 RES     \\n     196 H           22.7087    -8.9485   -31.3033 H             1 RES     \\n     197 H           21.2278    -9.6947   -29.4554 H             1 RES     \\n     198 H           21.6854   -11.8322   -28.2807 H             1 RES     \\n     199 H           25.2701   -12.3483   -30.5736 H             1 RES     \\n     200 H           24.3683   -12.5423   -32.8534 H             1 RES     \\n     201 H           25.3212   -13.7931   -34.6387 H             1 RES     \\n     202 H           24.6718   -13.4282   -37.1269 H             1 RES     \\n     203 H           23.8624   -15.7058   -37.6707 H             1 RES     \\n     204 H           25.4648   -17.6056   -37.7348 H             1 RES     \\n     205 C           -4.6975    -4.6389     8.7115 C             1 RES     \\n     206 O           -5.1351    -4.2983     9.7959 O             1 RES     \\n     207 O           -3.7854    -5.6134     8.5367 O             1 RES     \\n     208 H           -3.5544    -5.7467     7.5976 H             1 RES     \\n     209 C           29.2091   -17.0489   -37.0148 C             1 RES     \\n     210 O           29.5963   -15.9062   -37.1809 O             1 RES     \\n     211 O           29.9820   -18.0492   -36.5516 O             1 RES     \\n     212 H           29.4998   -18.8953   -36.4845 H             1 RES     \\n@<TRIPOS>BOND\\n       1      117      118 1\\n       2      120      121 1\\n       3      195      178 1\\n       4       90      102 1\\n       5       42       43 1\\n       6       87       88 1\\n       7       87       99 1\\n       8      139      140 1\\n       9      181      180 1\\n      10       55       56 1\\n      11      191      192 1\\n      12      160      140 1\\n      13      174      173 1\\n      14      123      124 1\\n      15        4        3 1\\n      16       20       19 1\\n      17       79       80 1\\n      18       47       46 1\\n      19      134      122 1\\n      20       84       35 1\\n      21       78       87 1\\n      22       54       66 1\\n      23       76       93 1\\n      24      111      110 1\\n      25       86       98 1\\n      26       90       70 1\\n      27       69       70 1\\n      28       77       76 1\\n      29       37       57 1\\n      30      185      184 1\\n      31      158      157 1\\n      32      153      165 1\\n      33       55       54 1\\n      34       52       64 1\\n      35       40       53 1\\n      36       48       61 1\\n      37      188      179 1\\n      38       91       71 1\\n      39       36       56 1\\n      40      153      154 1\\n      41       44       45 1\\n      42       92       72 1\\n      43       86       85 1\\n      44      111      112 1\\n      45      120      132 1\\n      46      186      185 1\\n      47       49       50 1\\n      48      193      173 1\\n      49      116      117 1\\n      50       56       68 1\\n      51      110      109 1\\n      52       75       74 1\\n      53       90       89 1\\n      54      107      106 1\\n      55       12       11 1\\n      56       84       85 1\\n      57      142      143 1\\n      58      155      146 1\\n      59        3        2 1\\n      60       53       52 1\\n      61      114      119 1\\n      62      104      105 1\\n      63      194      177 1\\n      64       89       73 1\\n      65      196      183 1\\n      66       79       81 1\\n      67      187      186 1\\n      68       82       83 1\\n      69      200      188 1\\n      70       77       94 1\\n      71       69      118 1\\n      72       13       14 1\\n      73       19       31 1\\n      74       17       18 1\\n      75      120      111 1\\n      76      192      204 1\\n      77      164      151 1\\n      78       48       49 1\\n      79      150      151 1\\n      80       22        2 1\\n      81      125      105 1\\n      82      197      184 1\\n      83      178      177 1\\n      84       36       37 1\\n      85        8        7 1\\n      86       20       32 1\\n      87      156      143 1\\n      88       81       82 1\\n      89      141      140 1\\n      90        1        2 1\\n      91      166      154 1\\n      92       19       10 1\\n      93       27       14 1\\n      94      135      123 1\\n      95      202      190 1\\n      96       38       54 1\\n      97       42       59 1\\n      98       85       97 1\\n      99        6        7 1\\n     100       16       17 1\\n     101      183      184 1\\n     102      122      106 1\\n     103       88       75 1\\n     104      168      156 1\\n     105      187      182 1\\n     106       82       95 1\\n     107      146      147 1\\n     108      183      182 1\\n     109       21       33 1\\n     110       28       15 1\\n     111       43       52 1\\n     112       71       70 1\\n     113       24        4 1\\n     114      126      109 1\\n     115      114      112 1\\n     116      210      209 1\\n     117      133      121 1\\n     118      163      150 1\\n     119      177      176 1\\n     120       21        5 1\\n     121      152      103 1\\n     122      159      139 1\\n     123      169      157 1\\n     124      142      141 1\\n     125      145      146 1\\n     126       83       84 1\\n     127      158      138 1\\n     128      114      115 1\\n     129       48       47 1\\n     130      122      123 1\\n     131       81       86 1\\n     132      170      158 1\\n     133      155      156 1\\n     134       83       96 1\\n     135       25        8 1\\n     136      192      172 1\\n     137       13       18 1\\n     138       73       72 1\\n     139      153      152 1\\n     140      205      207 1\\n     141       88      100 1\\n     142      144      145 1\\n     143       53       65 1\\n     144      211      212 1\\n     145      190      174 1\\n     146      149      150 1\\n     147      180      179 1\\n     148      138      139 1\\n     149       50        1 1\\n     150      119      118 1\\n     151      148      147 1\\n     152       20        7 1\\n     153       44       46 1\\n     154       16      205 1\\n     155      105      106 1\\n     156       36       35 1\\n     157      191      190 1\\n     158      121      108 1\\n     159      149      147 1\\n     160       39       38 1\\n     161      152      151 1\\n     162      182      180 1\\n     163       89      101 1\\n     164        9        8 1\\n     165      128      115 1\\n     166       37       38 1\\n     167      127      110 1\\n     168       16       15 1\\n     169       26        9 1\\n     170       23        3 1\\n     171      209      211 1\\n     172      199      187 1\\n     173      162      145 1\\n     174      130      117 1\\n     175       44       43 1\\n     176       40       41 1\\n     177      198      185 1\\n     178      171      209 1\\n     179      136      124 1\\n     180      174      175 1\\n     181       41       42 1\\n     182       22       34 1\\n     183      188      189 1\\n     184      205      206 1\\n     185      208      207 1\\n     186      176      189 1\\n     187      113      112 1\\n     188      149      154 1\\n     189        5        6 1\\n     190       55       67 1\\n     191      172      171 1\\n     192      186      137 1\\n     193       17       29 1\\n     194       21       22 1\\n     195       78       79 1\\n     196       11       10 1\\n     197        5        4 1\\n     198       72       71 1\\n     199       51       46 1\\n     200       40       39 1\\n     201       73       74 1\\n     202      103      104 1\\n     203      191      203 1\\n     204      176      175 1\\n     205      108      107 1\\n     206       50       51 1\\n     207      167      155 1\\n     208      129      116 1\\n     209       10        9 1\\n     210       13       11 1\\n     211      124      104 1\\n     212       49       62 1\\n     213       41       58 1\\n     214       78       77 1\\n     215      179      178 1\\n     216      143      144 1\\n     217      161      144 1\\n     218       60       47 1\\n     219       51       63 1\\n     220       14       15 1\\n     221      131      119 1\\n     222      172      173 1\\n     223      201      189 1\\n     224      108      109 1\\n     225      116      115 1\\n     226      157      141 1\\n     227      137      138 1\\n     228       75       76 1\\n     229       18       30 1\\n@<TRIPOS>SUBSTRUCTURE\\n       1 RES             1 RESIDUE    0 **** ROOT      0\\n\",\"mol2\");\n",
       "\tviewer_16164353261378157.setStyle({\"stick\": {\"radius\": 0.2, \"color\": \"grey\"}, \"sphere\": {\"scale\": 0.3, \"colorscheme\": {}}});\n",
       "\tviewer_16164353261378157.zoomTo();\n",
       "viewer_16164353261378157.render();\n",
       "});\n",
       "</script>"
      ]
     },
     "metadata": {},
     "output_type": "display_data"
    },
    {
     "data": {
      "text/plain": [
       "<py3Dmol.view at 0x7fcd12096190>"
      ]
     },
     "execution_count": 71,
     "metadata": {},
     "output_type": "execute_result"
    }
   ],
   "source": [
    "peek_polymer.visualize()"
   ]
  },
  {
   "cell_type": "markdown",
   "metadata": {},
   "source": [
    "## A look at what is actually happening with each of the class methods  \n",
    "\n",
    "The `add_monomer` and `add_end_group` functions are handling the creation of ports.  \n",
    "\n",
    "The key is in the `bond_indices` and `replace` parameters.\n",
    "`bond_indices` points to the hydrogen atoms that are occupying the polymer bonding site and \n",
    "`replace` says to remove those atoms, and replace them with a port\n",
    "\n",
    "When the port is created, it defaults to using the orientation that already existed between the hydrogen atom and the atom it was bonded to. "
   ]
  },
  {
   "cell_type": "code",
   "execution_count": 72,
   "metadata": {},
   "outputs": [
    {
     "name": "stdout",
     "output_type": "stream",
     "text": [
      "Before passing the compound into add_monomer()\n"
     ]
    },
    {
     "name": "stderr",
     "output_type": "stream",
     "text": [
      "/home/chris/miniconda3/envs/mosdev/lib/python3.7/site-packages/ipykernel/ipkernel.py:287: DeprecationWarning: `should_run_async` will not call `transform_cell` automatically in the future. Please pass the result to `transformed_cell` argument and any exception that happen during thetransform in `preprocessing_exc_tuple` in IPython 7.17 and above.\n",
      "  and should_run_async(code)\n"
     ]
    },
    {
     "data": {
      "application/3dmoljs_load.v0": "<div id=\"3dmolviewer_16164353536919923\"  style=\"position: relative; width: 640px; height: 480px\">\n        <p id=\"3dmolwarning_16164353536919923\" style=\"background-color:#ffcccc;color:black\">You appear to be running in JupyterLab (or JavaScript failed to load for some other reason).  You need to install the 3dmol extension: <br>\n        <tt>jupyter labextension install jupyterlab_3dmol</tt></p>\n        </div>\n<script>\n\nvar loadScriptAsync = function(uri){\n  return new Promise((resolve, reject) => {\n    var tag = document.createElement('script');\n    tag.src = uri;\n    tag.async = true;\n    tag.onload = () => {\n      resolve();\n    };\n  var firstScriptTag = document.getElementsByTagName('script')[0];\n  firstScriptTag.parentNode.insertBefore(tag, firstScriptTag);\n});\n};\n\nif(typeof $3Dmolpromise === 'undefined') {\n$3Dmolpromise = null;\n  $3Dmolpromise = loadScriptAsync('https://3dmol.csb.pitt.edu/build/3Dmol.js');\n}\n\nvar viewer_16164353536919923 = null;\nvar warn = document.getElementById(\"3dmolwarning_16164353536919923\");\nif(warn) {\n    warn.parentNode.removeChild(warn);\n}\n$3Dmolpromise.then(function() {\nviewer_16164353536919923 = $3Dmol.createViewer($(\"#3dmolviewer_16164353536919923\"),{backgroundColor:\"white\"});\n\tviewer_16164353536919923.addModel(\"@<TRIPOS>MOLECULE\\nRES\\n36 38 1 0 1\\nSMALL\\nNO_CHARGES\\n@<TRIPOS>CRYSIN\\n   15.2663    12.9793    13.6307    90.0000    90.0000    90.0000  1  1\\n@<TRIPOS>ATOM\\n       1 O            2.2555    -0.0890     0.0234 O             1 RES     \\n       2 C            0.8942    -0.0179     0.0028 C             1 RES     \\n       3 C            0.2331     1.2082     0.0031 C             1 RES     \\n       4 C           -1.1627     1.2359    -0.0186 C             1 RES     \\n       5 C           -1.8811     0.0403    -0.0381 C             1 RES     \\n       6 O           -3.2546     0.1282    -0.0519 O             1 RES     \\n       7 C           -3.9636    -0.4638     0.9729 C             1 RES     \\n       8 C           -5.3573    -0.4116     0.8735 C             1 RES     \\n       9 C           -6.1574    -0.9981     1.8627 C             1 RES     \\n      10 C           -5.5659    -1.6572     2.9501 C             1 RES     \\n      11 C           -6.4269    -2.3064     3.9716 C             1 RES     \\n      12 O           -7.6523    -2.3186     3.8307 O             1 RES     \\n      13 C           -5.8624    -2.9528     5.1768 C             1 RES     \\n      14 C           -6.2625    -4.2547     5.4903 C             1 RES     \\n      15 C           -5.8848    -4.8165     6.7097 C             1 RES     \\n      16 C           -5.0500    -4.1099     7.5775 C             1 RES     \\n      17 C           -4.6084    -2.8305     7.2412 C             1 RES     \\n      18 C           -5.0313    -2.2408     6.0511 C             1 RES     \\n      19 C           -4.1747    -1.7084     3.0384 C             1 RES     \\n      20 C           -3.3847    -1.0837     2.0806 C             1 RES     \\n      21 C           -1.2081    -1.1863    -0.0784 C             1 RES     \\n      22 C            0.1852    -1.2139    -0.0266 C             1 RES     \\n      23 H            2.6140     0.8127    -0.0196 H             1 RES     \\n      24 H            0.7818     2.1440     0.0253 H             1 RES     \\n      25 H           -1.6907     2.1854    -0.0089 H             1 RES     \\n      26 H           -5.8271     0.0869     0.0283 H             1 RES     \\n      27 H           -7.2422    -0.9477     1.7757 H             1 RES     \\n      28 H           -6.8864    -4.8186     4.8001 H             1 RES     \\n      29 H           -6.2645    -5.7939     6.9967 H             1 RES     \\n      30 H           -4.7552    -4.5523     8.5259 H             1 RES     \\n      31 H           -3.9659    -2.2782     7.9224 H             1 RES     \\n      32 H           -4.7225    -1.2241     5.8231 H             1 RES     \\n      33 H           -3.6624    -2.2273     3.8406 H             1 RES     \\n      34 H           -2.3106    -1.1169     2.2280 H             1 RES     \\n      35 H           -1.7632    -2.1202    -0.1048 H             1 RES     \\n      36 H            0.7141    -2.1626    -0.0094 H             1 RES     \\n@<TRIPOS>BOND\\n       1       10        9 1\\n       2        4       25 1\\n       3       19       33 1\\n       4       22       36 1\\n       5        4        3 1\\n       6        5        6 1\\n       7       21       35 1\\n       8       13       11 1\\n       9       16       30 1\\n      10        4        5 1\\n      11       20       34 1\\n      12       15       16 1\\n      13       18       32 1\\n      14        8        9 1\\n      15       18       17 1\\n      16       15       29 1\\n      17        3       24 1\\n      18       14       28 1\\n      19        2        3 1\\n      20       13       18 1\\n      21       14       13 1\\n      22        8       26 1\\n      23        2       22 1\\n      24        7        8 1\\n      25       21       22 1\\n      26        7        6 1\\n      27       17       31 1\\n      28        1        2 1\\n      29       11       10 1\\n      30       10       19 1\\n      31       19       20 1\\n      32       15       14 1\\n      33        5       21 1\\n      34        1       23 1\\n      35       12       11 1\\n      36       17       16 1\\n      37        7       20 1\\n      38       27        9 1\\n@<TRIPOS>SUBSTRUCTURE\\n       1 RES             1 RESIDUE    0 **** ROOT      0\\n\",\"mol2\");\n\tviewer_16164353536919923.setStyle({\"stick\": {\"radius\": 0.2, \"color\": \"grey\"}, \"sphere\": {\"scale\": 0.3, \"colorscheme\": {}}});\n\tviewer_16164353536919923.zoomTo();\nviewer_16164353536919923.render();\n});\n</script>",
      "text/html": [
       "<div id=\"3dmolviewer_16164353536919923\"  style=\"position: relative; width: 640px; height: 480px\">\n",
       "        <p id=\"3dmolwarning_16164353536919923\" style=\"background-color:#ffcccc;color:black\">You appear to be running in JupyterLab (or JavaScript failed to load for some other reason).  You need to install the 3dmol extension: <br>\n",
       "        <tt>jupyter labextension install jupyterlab_3dmol</tt></p>\n",
       "        </div>\n",
       "<script>\n",
       "\n",
       "var loadScriptAsync = function(uri){\n",
       "  return new Promise((resolve, reject) => {\n",
       "    var tag = document.createElement('script');\n",
       "    tag.src = uri;\n",
       "    tag.async = true;\n",
       "    tag.onload = () => {\n",
       "      resolve();\n",
       "    };\n",
       "  var firstScriptTag = document.getElementsByTagName('script')[0];\n",
       "  firstScriptTag.parentNode.insertBefore(tag, firstScriptTag);\n",
       "});\n",
       "};\n",
       "\n",
       "if(typeof $3Dmolpromise === 'undefined') {\n",
       "$3Dmolpromise = null;\n",
       "  $3Dmolpromise = loadScriptAsync('https://3dmol.csb.pitt.edu/build/3Dmol.js');\n",
       "}\n",
       "\n",
       "var viewer_16164353536919923 = null;\n",
       "var warn = document.getElementById(\"3dmolwarning_16164353536919923\");\n",
       "if(warn) {\n",
       "    warn.parentNode.removeChild(warn);\n",
       "}\n",
       "$3Dmolpromise.then(function() {\n",
       "viewer_16164353536919923 = $3Dmol.createViewer($(\"#3dmolviewer_16164353536919923\"),{backgroundColor:\"white\"});\n",
       "\tviewer_16164353536919923.addModel(\"@<TRIPOS>MOLECULE\\nRES\\n36 38 1 0 1\\nSMALL\\nNO_CHARGES\\n@<TRIPOS>CRYSIN\\n   15.2663    12.9793    13.6307    90.0000    90.0000    90.0000  1  1\\n@<TRIPOS>ATOM\\n       1 O            2.2555    -0.0890     0.0234 O             1 RES     \\n       2 C            0.8942    -0.0179     0.0028 C             1 RES     \\n       3 C            0.2331     1.2082     0.0031 C             1 RES     \\n       4 C           -1.1627     1.2359    -0.0186 C             1 RES     \\n       5 C           -1.8811     0.0403    -0.0381 C             1 RES     \\n       6 O           -3.2546     0.1282    -0.0519 O             1 RES     \\n       7 C           -3.9636    -0.4638     0.9729 C             1 RES     \\n       8 C           -5.3573    -0.4116     0.8735 C             1 RES     \\n       9 C           -6.1574    -0.9981     1.8627 C             1 RES     \\n      10 C           -5.5659    -1.6572     2.9501 C             1 RES     \\n      11 C           -6.4269    -2.3064     3.9716 C             1 RES     \\n      12 O           -7.6523    -2.3186     3.8307 O             1 RES     \\n      13 C           -5.8624    -2.9528     5.1768 C             1 RES     \\n      14 C           -6.2625    -4.2547     5.4903 C             1 RES     \\n      15 C           -5.8848    -4.8165     6.7097 C             1 RES     \\n      16 C           -5.0500    -4.1099     7.5775 C             1 RES     \\n      17 C           -4.6084    -2.8305     7.2412 C             1 RES     \\n      18 C           -5.0313    -2.2408     6.0511 C             1 RES     \\n      19 C           -4.1747    -1.7084     3.0384 C             1 RES     \\n      20 C           -3.3847    -1.0837     2.0806 C             1 RES     \\n      21 C           -1.2081    -1.1863    -0.0784 C             1 RES     \\n      22 C            0.1852    -1.2139    -0.0266 C             1 RES     \\n      23 H            2.6140     0.8127    -0.0196 H             1 RES     \\n      24 H            0.7818     2.1440     0.0253 H             1 RES     \\n      25 H           -1.6907     2.1854    -0.0089 H             1 RES     \\n      26 H           -5.8271     0.0869     0.0283 H             1 RES     \\n      27 H           -7.2422    -0.9477     1.7757 H             1 RES     \\n      28 H           -6.8864    -4.8186     4.8001 H             1 RES     \\n      29 H           -6.2645    -5.7939     6.9967 H             1 RES     \\n      30 H           -4.7552    -4.5523     8.5259 H             1 RES     \\n      31 H           -3.9659    -2.2782     7.9224 H             1 RES     \\n      32 H           -4.7225    -1.2241     5.8231 H             1 RES     \\n      33 H           -3.6624    -2.2273     3.8406 H             1 RES     \\n      34 H           -2.3106    -1.1169     2.2280 H             1 RES     \\n      35 H           -1.7632    -2.1202    -0.1048 H             1 RES     \\n      36 H            0.7141    -2.1626    -0.0094 H             1 RES     \\n@<TRIPOS>BOND\\n       1       10        9 1\\n       2        4       25 1\\n       3       19       33 1\\n       4       22       36 1\\n       5        4        3 1\\n       6        5        6 1\\n       7       21       35 1\\n       8       13       11 1\\n       9       16       30 1\\n      10        4        5 1\\n      11       20       34 1\\n      12       15       16 1\\n      13       18       32 1\\n      14        8        9 1\\n      15       18       17 1\\n      16       15       29 1\\n      17        3       24 1\\n      18       14       28 1\\n      19        2        3 1\\n      20       13       18 1\\n      21       14       13 1\\n      22        8       26 1\\n      23        2       22 1\\n      24        7        8 1\\n      25       21       22 1\\n      26        7        6 1\\n      27       17       31 1\\n      28        1        2 1\\n      29       11       10 1\\n      30       10       19 1\\n      31       19       20 1\\n      32       15       14 1\\n      33        5       21 1\\n      34        1       23 1\\n      35       12       11 1\\n      36       17       16 1\\n      37        7       20 1\\n      38       27        9 1\\n@<TRIPOS>SUBSTRUCTURE\\n       1 RES             1 RESIDUE    0 **** ROOT      0\\n\",\"mol2\");\n",
       "\tviewer_16164353536919923.setStyle({\"stick\": {\"radius\": 0.2, \"color\": \"grey\"}, \"sphere\": {\"scale\": 0.3, \"colorscheme\": {}}});\n",
       "\tviewer_16164353536919923.zoomTo();\n",
       "viewer_16164353536919923.render();\n",
       "});\n",
       "</script>"
      ]
     },
     "metadata": {},
     "output_type": "display_data"
    },
    {
     "name": "stdout",
     "output_type": "stream",
     "text": [
      "After passing the compound into add_monomer()\n"
     ]
    },
    {
     "data": {
      "application/3dmoljs_load.v0": "<div id=\"3dmolviewer_16164353537068508\"  style=\"position: relative; width: 640px; height: 480px\">\n        <p id=\"3dmolwarning_16164353537068508\" style=\"background-color:#ffcccc;color:black\">You appear to be running in JupyterLab (or JavaScript failed to load for some other reason).  You need to install the 3dmol extension: <br>\n        <tt>jupyter labextension install jupyterlab_3dmol</tt></p>\n        </div>\n<script>\n\nvar loadScriptAsync = function(uri){\n  return new Promise((resolve, reject) => {\n    var tag = document.createElement('script');\n    tag.src = uri;\n    tag.async = true;\n    tag.onload = () => {\n      resolve();\n    };\n  var firstScriptTag = document.getElementsByTagName('script')[0];\n  firstScriptTag.parentNode.insertBefore(tag, firstScriptTag);\n});\n};\n\nif(typeof $3Dmolpromise === 'undefined') {\n$3Dmolpromise = null;\n  $3Dmolpromise = loadScriptAsync('https://3dmol.csb.pitt.edu/build/3Dmol.js');\n}\n\nvar viewer_16164353537068508 = null;\nvar warn = document.getElementById(\"3dmolwarning_16164353537068508\");\nif(warn) {\n    warn.parentNode.removeChild(warn);\n}\n$3Dmolpromise.then(function() {\nviewer_16164353537068508 = $3Dmol.createViewer($(\"#3dmolviewer_16164353537068508\"),{backgroundColor:\"white\"});\n\tviewer_16164353537068508.addModel(\"@<TRIPOS>MOLECULE\\nRES\\n66 36 2 0 1\\nBIOPOLYMER\\nNO_CHARGES\\n@<TRIPOS>CRYSIN\\n   14.9078    12.9793    13.0271    90.0000    90.0000    90.0000  1  1\\n@<TRIPOS>ATOM\\n       1 O            2.2555    -0.0890     0.0234 O             1 RES     \\n       2 C            0.8942    -0.0179     0.0028 C             1 RES     \\n       3 C            0.2331     1.2082     0.0031 C             1 RES     \\n       4 C           -1.1627     1.2359    -0.0186 C             1 RES     \\n       5 C           -1.8811     0.0403    -0.0381 C             1 RES     \\n       6 O           -3.2546     0.1282    -0.0519 O             1 RES     \\n       7 C           -3.9636    -0.4638     0.9729 C             1 RES     \\n       8 C           -5.3573    -0.4116     0.8735 C             1 RES     \\n       9 C           -6.1574    -0.9981     1.8627 C             1 RES     \\n      10 C           -5.5659    -1.6572     2.9501 C             1 RES     \\n      11 C           -6.4269    -2.3064     3.9716 C             1 RES     \\n      12 O           -7.6523    -2.3186     3.8307 O             1 RES     \\n      13 C           -5.8624    -2.9528     5.1768 C             1 RES     \\n      14 C           -6.2625    -4.2547     5.4903 C             1 RES     \\n      15 C           -5.8848    -4.8165     6.7097 C             1 RES     \\n      16 C           -5.0500    -4.1099     7.5775 C             1 RES     \\n      17 C           -4.6084    -2.8305     7.2412 C             1 RES     \\n      18 C           -5.0313    -2.2408     6.0511 C             1 RES     \\n      19 C           -4.1747    -1.7084     3.0384 C             1 RES     \\n      20 C           -3.3847    -1.0837     2.0806 C             1 RES     \\n      21 C           -1.2081    -1.1863    -0.0784 C             1 RES     \\n      22 C            0.1852    -1.2139    -0.0266 C             1 RES     \\n      23 H            0.7818     2.1440     0.0253 H             1 RES     \\n      24 H           -1.6907     2.1854    -0.0089 H             1 RES     \\n      25 H           -5.8271     0.0869     0.0283 H             1 RES     \\n      26 H           -7.2422    -0.9477     1.7757 H             1 RES     \\n      27 H           -6.8864    -4.8186     4.8001 H             1 RES     \\n      28 H           -6.2645    -5.7939     6.9967 H             1 RES     \\n      29 H           -3.9659    -2.2782     7.9224 H             1 RES     \\n      30 H           -4.7225    -1.2241     5.8231 H             1 RES     \\n      31 H           -3.6624    -2.2273     3.8406 H             1 RES     \\n      32 H           -2.3106    -1.1169     2.2280 H             1 RES     \\n      33 H           -1.7632    -2.1202    -0.1048 H             1 RES     \\n      34 H            0.7141    -2.1626    -0.0094 H             1 RES     \\n      35 VS           2.4902     0.3655    -0.0238 VS            2 PRT     \\n      36 VS           2.5641     0.5512    -0.0326 VS            2 PRT     \\n      37 VS           2.2674     0.3465    -0.0210 VS            2 PRT     \\n      38 VS           2.4172     0.1843     0.0850 VS            2 PRT     \\n      39 VS           2.3748     0.3582    -0.0099 VS            2 PRT     \\n      40 VS           2.3009     0.1726    -0.0011 VS            2 PRT     \\n      41 VS           2.5919     0.3772    -0.0600 VS            2 PRT     \\n      42 VS           2.4714     0.5395     0.0785 VS            2 PRT     \\n      43 VS          -4.8420    -4.3330     8.0607 VS            2 PRT     \\n      44 VS          -4.7878    -4.4144     8.2351 VS            2 PRT     \\n      45 VS          -5.0444    -4.2381     8.0532 VS            2 PRT     \\n      46 VS          -4.9361    -4.3389     7.8579 VS            2 PRT     \\n      47 VS          -4.8578    -4.3292     8.0100 VS            2 PRT     \\n      48 VS          -4.9120    -4.2478     7.8356 VS            2 PRT     \\n      49 VS          -5.0202    -4.4241     8.1309 VS            2 PRT     \\n      50 VS          -4.8204    -4.3233     8.2304 VS            2 PRT     \\n      51 VS           2.5649     0.5533    -0.0327 VS            2 PRT     \\n      52 VS           2.6387     0.7390    -0.0416 VS            2 PRT     \\n      53 VS           2.3421     0.5343    -0.0300 VS            2 PRT     \\n      54 VS           2.4919     0.3721     0.0760 VS            2 PRT     \\n      55 VS           2.4495     0.5461    -0.0189 VS            2 PRT     \\n      56 VS           2.3756     0.3604    -0.0100 VS            2 PRT     \\n      57 VS           2.6666     0.5651    -0.0689 VS            2 PRT     \\n      58 VS           2.5461     0.7273     0.0695 VS            2 PRT     \\n      59 VS          -4.8029    -4.3918     8.1866 VS            2 PRT     \\n      60 VS          -4.7487    -4.4732     8.3611 VS            2 PRT     \\n      61 VS          -5.0052    -4.2969     8.1791 VS            2 PRT     \\n      62 VS          -4.8970    -4.3976     7.9839 VS            2 PRT     \\n      63 VS          -4.8186    -4.3879     8.1360 VS            2 PRT     \\n      64 VS          -4.8729    -4.3065     7.9615 VS            2 PRT     \\n      65 VS          -4.9811    -4.4828     8.2568 VS            2 PRT     \\n      66 VS          -4.7812    -4.3821     8.3564 VS            2 PRT     \\n@<TRIPOS>BOND\\n       1       20       19 1\\n       2        4        5 1\\n       3        3        4 1\\n       4       11       10 1\\n       5       11       13 1\\n       6       18       13 1\\n       7       16       17 1\\n       8       31       19 1\\n       9       19       10 1\\n      10       26        9 1\\n      11       29       17 1\\n      12       33       21 1\\n      13       24        4 1\\n      14       22        2 1\\n      15       11       12 1\\n      16        2        3 1\\n      17       21        5 1\\n      18       16       15 1\\n      19       34       22 1\\n      20        6        7 1\\n      21       15       14 1\\n      22        1        2 1\\n      23        9       10 1\\n      24        6        5 1\\n      25       18       17 1\\n      26       27       14 1\\n      27       13       14 1\\n      28       30       18 1\\n      29        8        9 1\\n      30       32       20 1\\n      31        8        7 1\\n      32       28       15 1\\n      33       20        7 1\\n      34        8       25 1\\n      35        3       23 1\\n      36       22       21 1\\n@<TRIPOS>SUBSTRUCTURE\\n       1 RES             1 RESIDUE    0 **** ROOT      0\\n       2 PRT            35 RESIDUE    0 **** ROOT      0\\n\",\"mol2\");\n\tviewer_16164353537068508.setStyle({\"stick\": {\"radius\": 0.2, \"color\": \"grey\"}, \"sphere\": {\"scale\": 0.3, \"colorscheme\": {}}});\n\tviewer_16164353537068508.zoomTo();\nviewer_16164353537068508.render();\n});\n</script>",
      "text/html": [
       "<div id=\"3dmolviewer_16164353537068508\"  style=\"position: relative; width: 640px; height: 480px\">\n",
       "        <p id=\"3dmolwarning_16164353537068508\" style=\"background-color:#ffcccc;color:black\">You appear to be running in JupyterLab (or JavaScript failed to load for some other reason).  You need to install the 3dmol extension: <br>\n",
       "        <tt>jupyter labextension install jupyterlab_3dmol</tt></p>\n",
       "        </div>\n",
       "<script>\n",
       "\n",
       "var loadScriptAsync = function(uri){\n",
       "  return new Promise((resolve, reject) => {\n",
       "    var tag = document.createElement('script');\n",
       "    tag.src = uri;\n",
       "    tag.async = true;\n",
       "    tag.onload = () => {\n",
       "      resolve();\n",
       "    };\n",
       "  var firstScriptTag = document.getElementsByTagName('script')[0];\n",
       "  firstScriptTag.parentNode.insertBefore(tag, firstScriptTag);\n",
       "});\n",
       "};\n",
       "\n",
       "if(typeof $3Dmolpromise === 'undefined') {\n",
       "$3Dmolpromise = null;\n",
       "  $3Dmolpromise = loadScriptAsync('https://3dmol.csb.pitt.edu/build/3Dmol.js');\n",
       "}\n",
       "\n",
       "var viewer_16164353537068508 = null;\n",
       "var warn = document.getElementById(\"3dmolwarning_16164353537068508\");\n",
       "if(warn) {\n",
       "    warn.parentNode.removeChild(warn);\n",
       "}\n",
       "$3Dmolpromise.then(function() {\n",
       "viewer_16164353537068508 = $3Dmol.createViewer($(\"#3dmolviewer_16164353537068508\"),{backgroundColor:\"white\"});\n",
       "\tviewer_16164353537068508.addModel(\"@<TRIPOS>MOLECULE\\nRES\\n66 36 2 0 1\\nBIOPOLYMER\\nNO_CHARGES\\n@<TRIPOS>CRYSIN\\n   14.9078    12.9793    13.0271    90.0000    90.0000    90.0000  1  1\\n@<TRIPOS>ATOM\\n       1 O            2.2555    -0.0890     0.0234 O             1 RES     \\n       2 C            0.8942    -0.0179     0.0028 C             1 RES     \\n       3 C            0.2331     1.2082     0.0031 C             1 RES     \\n       4 C           -1.1627     1.2359    -0.0186 C             1 RES     \\n       5 C           -1.8811     0.0403    -0.0381 C             1 RES     \\n       6 O           -3.2546     0.1282    -0.0519 O             1 RES     \\n       7 C           -3.9636    -0.4638     0.9729 C             1 RES     \\n       8 C           -5.3573    -0.4116     0.8735 C             1 RES     \\n       9 C           -6.1574    -0.9981     1.8627 C             1 RES     \\n      10 C           -5.5659    -1.6572     2.9501 C             1 RES     \\n      11 C           -6.4269    -2.3064     3.9716 C             1 RES     \\n      12 O           -7.6523    -2.3186     3.8307 O             1 RES     \\n      13 C           -5.8624    -2.9528     5.1768 C             1 RES     \\n      14 C           -6.2625    -4.2547     5.4903 C             1 RES     \\n      15 C           -5.8848    -4.8165     6.7097 C             1 RES     \\n      16 C           -5.0500    -4.1099     7.5775 C             1 RES     \\n      17 C           -4.6084    -2.8305     7.2412 C             1 RES     \\n      18 C           -5.0313    -2.2408     6.0511 C             1 RES     \\n      19 C           -4.1747    -1.7084     3.0384 C             1 RES     \\n      20 C           -3.3847    -1.0837     2.0806 C             1 RES     \\n      21 C           -1.2081    -1.1863    -0.0784 C             1 RES     \\n      22 C            0.1852    -1.2139    -0.0266 C             1 RES     \\n      23 H            0.7818     2.1440     0.0253 H             1 RES     \\n      24 H           -1.6907     2.1854    -0.0089 H             1 RES     \\n      25 H           -5.8271     0.0869     0.0283 H             1 RES     \\n      26 H           -7.2422    -0.9477     1.7757 H             1 RES     \\n      27 H           -6.8864    -4.8186     4.8001 H             1 RES     \\n      28 H           -6.2645    -5.7939     6.9967 H             1 RES     \\n      29 H           -3.9659    -2.2782     7.9224 H             1 RES     \\n      30 H           -4.7225    -1.2241     5.8231 H             1 RES     \\n      31 H           -3.6624    -2.2273     3.8406 H             1 RES     \\n      32 H           -2.3106    -1.1169     2.2280 H             1 RES     \\n      33 H           -1.7632    -2.1202    -0.1048 H             1 RES     \\n      34 H            0.7141    -2.1626    -0.0094 H             1 RES     \\n      35 VS           2.4902     0.3655    -0.0238 VS            2 PRT     \\n      36 VS           2.5641     0.5512    -0.0326 VS            2 PRT     \\n      37 VS           2.2674     0.3465    -0.0210 VS            2 PRT     \\n      38 VS           2.4172     0.1843     0.0850 VS            2 PRT     \\n      39 VS           2.3748     0.3582    -0.0099 VS            2 PRT     \\n      40 VS           2.3009     0.1726    -0.0011 VS            2 PRT     \\n      41 VS           2.5919     0.3772    -0.0600 VS            2 PRT     \\n      42 VS           2.4714     0.5395     0.0785 VS            2 PRT     \\n      43 VS          -4.8420    -4.3330     8.0607 VS            2 PRT     \\n      44 VS          -4.7878    -4.4144     8.2351 VS            2 PRT     \\n      45 VS          -5.0444    -4.2381     8.0532 VS            2 PRT     \\n      46 VS          -4.9361    -4.3389     7.8579 VS            2 PRT     \\n      47 VS          -4.8578    -4.3292     8.0100 VS            2 PRT     \\n      48 VS          -4.9120    -4.2478     7.8356 VS            2 PRT     \\n      49 VS          -5.0202    -4.4241     8.1309 VS            2 PRT     \\n      50 VS          -4.8204    -4.3233     8.2304 VS            2 PRT     \\n      51 VS           2.5649     0.5533    -0.0327 VS            2 PRT     \\n      52 VS           2.6387     0.7390    -0.0416 VS            2 PRT     \\n      53 VS           2.3421     0.5343    -0.0300 VS            2 PRT     \\n      54 VS           2.4919     0.3721     0.0760 VS            2 PRT     \\n      55 VS           2.4495     0.5461    -0.0189 VS            2 PRT     \\n      56 VS           2.3756     0.3604    -0.0100 VS            2 PRT     \\n      57 VS           2.6666     0.5651    -0.0689 VS            2 PRT     \\n      58 VS           2.5461     0.7273     0.0695 VS            2 PRT     \\n      59 VS          -4.8029    -4.3918     8.1866 VS            2 PRT     \\n      60 VS          -4.7487    -4.4732     8.3611 VS            2 PRT     \\n      61 VS          -5.0052    -4.2969     8.1791 VS            2 PRT     \\n      62 VS          -4.8970    -4.3976     7.9839 VS            2 PRT     \\n      63 VS          -4.8186    -4.3879     8.1360 VS            2 PRT     \\n      64 VS          -4.8729    -4.3065     7.9615 VS            2 PRT     \\n      65 VS          -4.9811    -4.4828     8.2568 VS            2 PRT     \\n      66 VS          -4.7812    -4.3821     8.3564 VS            2 PRT     \\n@<TRIPOS>BOND\\n       1       20       19 1\\n       2        4        5 1\\n       3        3        4 1\\n       4       11       10 1\\n       5       11       13 1\\n       6       18       13 1\\n       7       16       17 1\\n       8       31       19 1\\n       9       19       10 1\\n      10       26        9 1\\n      11       29       17 1\\n      12       33       21 1\\n      13       24        4 1\\n      14       22        2 1\\n      15       11       12 1\\n      16        2        3 1\\n      17       21        5 1\\n      18       16       15 1\\n      19       34       22 1\\n      20        6        7 1\\n      21       15       14 1\\n      22        1        2 1\\n      23        9       10 1\\n      24        6        5 1\\n      25       18       17 1\\n      26       27       14 1\\n      27       13       14 1\\n      28       30       18 1\\n      29        8        9 1\\n      30       32       20 1\\n      31        8        7 1\\n      32       28       15 1\\n      33       20        7 1\\n      34        8       25 1\\n      35        3       23 1\\n      36       22       21 1\\n@<TRIPOS>SUBSTRUCTURE\\n       1 RES             1 RESIDUE    0 **** ROOT      0\\n       2 PRT            35 RESIDUE    0 **** ROOT      0\\n\",\"mol2\");\n",
       "\tviewer_16164353537068508.setStyle({\"stick\": {\"radius\": 0.2, \"color\": \"grey\"}, \"sphere\": {\"scale\": 0.3, \"colorscheme\": {}}});\n",
       "\tviewer_16164353537068508.zoomTo();\n",
       "viewer_16164353537068508.render();\n",
       "});\n",
       "</script>"
      ]
     },
     "metadata": {},
     "output_type": "display_data"
    }
   ],
   "source": [
    "peek_para = mb.load(\"Oc1ccc(Oc2ccc(C(=O)c3ccccc3)cc2)cc1\",smiles=True)\n",
    "print('Before passing the compound into add_monomer()')\n",
    "peek_para.visualize(show_ports=True).show()\n",
    "\n",
    "peek_polymer = Poly.Polymer()\n",
    "\n",
    "peek_polymer.add_monomer(compound=peek_para,\n",
    "                         bonding_indices = [22, 29],\n",
    "                         separation = 0.1376,\n",
    "                         replace=True\n",
    "                        )\n",
    "print('After passing the compound into add_monomer()')\n",
    "peek_polymer.monomers[0].visualize(show_ports=True).show()"
   ]
  },
  {
   "cell_type": "code",
   "execution_count": 73,
   "metadata": {},
   "outputs": [
    {
     "name": "stdout",
     "output_type": "stream",
     "text": [
      "Before passing the compound into add_end_groups()\n"
     ]
    },
    {
     "name": "stderr",
     "output_type": "stream",
     "text": [
      "/home/chris/miniconda3/envs/mosdev/lib/python3.7/site-packages/ipykernel/ipkernel.py:287: DeprecationWarning: `should_run_async` will not call `transform_cell` automatically in the future. Please pass the result to `transformed_cell` argument and any exception that happen during thetransform in `preprocessing_exc_tuple` in IPython 7.17 and above.\n",
      "  and should_run_async(code)\n"
     ]
    },
    {
     "data": {
      "application/3dmoljs_load.v0": "<div id=\"3dmolviewer_16164353696531558\"  style=\"position: relative; width: 640px; height: 480px\">\n        <p id=\"3dmolwarning_16164353696531558\" style=\"background-color:#ffcccc;color:black\">You appear to be running in JupyterLab (or JavaScript failed to load for some other reason).  You need to install the 3dmol extension: <br>\n        <tt>jupyter labextension install jupyterlab_3dmol</tt></p>\n        </div>\n<script>\n\nvar loadScriptAsync = function(uri){\n  return new Promise((resolve, reject) => {\n    var tag = document.createElement('script');\n    tag.src = uri;\n    tag.async = true;\n    tag.onload = () => {\n      resolve();\n    };\n  var firstScriptTag = document.getElementsByTagName('script')[0];\n  firstScriptTag.parentNode.insertBefore(tag, firstScriptTag);\n});\n};\n\nif(typeof $3Dmolpromise === 'undefined') {\n$3Dmolpromise = null;\n  $3Dmolpromise = loadScriptAsync('https://3dmol.csb.pitt.edu/build/3Dmol.js');\n}\n\nvar viewer_16164353696531558 = null;\nvar warn = document.getElementById(\"3dmolwarning_16164353696531558\");\nif(warn) {\n    warn.parentNode.removeChild(warn);\n}\n$3Dmolpromise.then(function() {\nviewer_16164353696531558 = $3Dmol.createViewer($(\"#3dmolviewer_16164353696531558\"),{backgroundColor:\"white\"});\n\tviewer_16164353696531558.addModel(\"@<TRIPOS>MOLECULE\\nRES\\n5 4 1 0 1\\nSMALL\\nNO_CHARGES\\n@<TRIPOS>CRYSIN\\n    7.3711     5.9777     6.7877    90.0000    90.0000    90.0000  1  1\\n@<TRIPOS>ATOM\\n       1 C            0.9595    -0.0427    -0.1220 C             1 RES     \\n       2 O            0.2934    -0.5320    -1.0166 O             1 RES     \\n       3 O            2.3055    -0.0314    -0.1012 O             1 RES     \\n       4 H            0.5397     0.4457     0.7711 H             1 RES     \\n       5 H            2.6646     0.4042     0.6952 H             1 RES     \\n@<TRIPOS>BOND\\n       1        2        1 1\\n       2        1        4 1\\n       3        3        5 1\\n       4        1        3 1\\n@<TRIPOS>SUBSTRUCTURE\\n       1 RES             1 RESIDUE    0 **** ROOT      0\\n\",\"mol2\");\n\tviewer_16164353696531558.setStyle({\"stick\": {\"radius\": 0.2, \"color\": \"grey\"}, \"sphere\": {\"scale\": 0.3, \"colorscheme\": {}}});\n\tviewer_16164353696531558.zoomTo();\nviewer_16164353696531558.render();\n});\n</script>",
      "text/html": [
       "<div id=\"3dmolviewer_16164353696531558\"  style=\"position: relative; width: 640px; height: 480px\">\n",
       "        <p id=\"3dmolwarning_16164353696531558\" style=\"background-color:#ffcccc;color:black\">You appear to be running in JupyterLab (or JavaScript failed to load for some other reason).  You need to install the 3dmol extension: <br>\n",
       "        <tt>jupyter labextension install jupyterlab_3dmol</tt></p>\n",
       "        </div>\n",
       "<script>\n",
       "\n",
       "var loadScriptAsync = function(uri){\n",
       "  return new Promise((resolve, reject) => {\n",
       "    var tag = document.createElement('script');\n",
       "    tag.src = uri;\n",
       "    tag.async = true;\n",
       "    tag.onload = () => {\n",
       "      resolve();\n",
       "    };\n",
       "  var firstScriptTag = document.getElementsByTagName('script')[0];\n",
       "  firstScriptTag.parentNode.insertBefore(tag, firstScriptTag);\n",
       "});\n",
       "};\n",
       "\n",
       "if(typeof $3Dmolpromise === 'undefined') {\n",
       "$3Dmolpromise = null;\n",
       "  $3Dmolpromise = loadScriptAsync('https://3dmol.csb.pitt.edu/build/3Dmol.js');\n",
       "}\n",
       "\n",
       "var viewer_16164353696531558 = null;\n",
       "var warn = document.getElementById(\"3dmolwarning_16164353696531558\");\n",
       "if(warn) {\n",
       "    warn.parentNode.removeChild(warn);\n",
       "}\n",
       "$3Dmolpromise.then(function() {\n",
       "viewer_16164353696531558 = $3Dmol.createViewer($(\"#3dmolviewer_16164353696531558\"),{backgroundColor:\"white\"});\n",
       "\tviewer_16164353696531558.addModel(\"@<TRIPOS>MOLECULE\\nRES\\n5 4 1 0 1\\nSMALL\\nNO_CHARGES\\n@<TRIPOS>CRYSIN\\n    7.3711     5.9777     6.7877    90.0000    90.0000    90.0000  1  1\\n@<TRIPOS>ATOM\\n       1 C            0.9595    -0.0427    -0.1220 C             1 RES     \\n       2 O            0.2934    -0.5320    -1.0166 O             1 RES     \\n       3 O            2.3055    -0.0314    -0.1012 O             1 RES     \\n       4 H            0.5397     0.4457     0.7711 H             1 RES     \\n       5 H            2.6646     0.4042     0.6952 H             1 RES     \\n@<TRIPOS>BOND\\n       1        2        1 1\\n       2        1        4 1\\n       3        3        5 1\\n       4        1        3 1\\n@<TRIPOS>SUBSTRUCTURE\\n       1 RES             1 RESIDUE    0 **** ROOT      0\\n\",\"mol2\");\n",
       "\tviewer_16164353696531558.setStyle({\"stick\": {\"radius\": 0.2, \"color\": \"grey\"}, \"sphere\": {\"scale\": 0.3, \"colorscheme\": {}}});\n",
       "\tviewer_16164353696531558.zoomTo();\n",
       "viewer_16164353696531558.render();\n",
       "});\n",
       "</script>"
      ]
     },
     "metadata": {},
     "output_type": "display_data"
    },
    {
     "name": "stdout",
     "output_type": "stream",
     "text": [
      "After passing the compound into add_end_groups()\n"
     ]
    },
    {
     "data": {
      "application/3dmoljs_load.v0": "<div id=\"3dmolviewer_16164353696650944\"  style=\"position: relative; width: 640px; height: 480px\">\n        <p id=\"3dmolwarning_16164353696650944\" style=\"background-color:#ffcccc;color:black\">You appear to be running in JupyterLab (or JavaScript failed to load for some other reason).  You need to install the 3dmol extension: <br>\n        <tt>jupyter labextension install jupyterlab_3dmol</tt></p>\n        </div>\n<script>\n\nvar loadScriptAsync = function(uri){\n  return new Promise((resolve, reject) => {\n    var tag = document.createElement('script');\n    tag.src = uri;\n    tag.async = true;\n    tag.onload = () => {\n      resolve();\n    };\n  var firstScriptTag = document.getElementsByTagName('script')[0];\n  firstScriptTag.parentNode.insertBefore(tag, firstScriptTag);\n});\n};\n\nif(typeof $3Dmolpromise === 'undefined') {\n$3Dmolpromise = null;\n  $3Dmolpromise = loadScriptAsync('https://3dmol.csb.pitt.edu/build/3Dmol.js');\n}\n\nvar viewer_16164353696650944 = null;\nvar warn = document.getElementById(\"3dmolwarning_16164353696650944\");\nif(warn) {\n    warn.parentNode.removeChild(warn);\n}\n$3Dmolpromise.then(function() {\nviewer_16164353696650944 = $3Dmol.createViewer($(\"#3dmolviewer_16164353696650944\"),{backgroundColor:\"white\"});\n\tviewer_16164353696650944.addModel(\"@<TRIPOS>MOLECULE\\nRES\\n20 3 2 0 1\\nBIOPOLYMER\\nNO_CHARGES\\n@<TRIPOS>CRYSIN\\n    7.3711     5.9362     6.7117    90.0000    90.0000    90.0000  1  1\\n@<TRIPOS>ATOM\\n       1 C            0.9595    -0.0427    -0.1220 C             1 RES     \\n       2 O            0.2934    -0.5320    -1.0166 O             1 RES     \\n       3 O            2.3055    -0.0314    -0.1012 O             1 RES     \\n       4 H            2.6646     0.4042     0.6952 H             1 RES     \\n       5 VS           0.7797     0.2519     0.3420 VS            2 PRT     \\n       6 VS           0.7034     0.3407     0.5042 VS            2 PRT     \\n       7 VS           0.6379     0.1313     0.2180 VS            2 PRT     \\n       8 VS           0.8773     0.0821     0.2342 VS            2 PRT     \\n       9 VS           0.7822     0.1511     0.3367 VS            2 PRT     \\n      10 VS           0.8584     0.0624     0.1744 VS            2 PRT     \\n      11 VS           0.5963     0.2717     0.3066 VS            2 PRT     \\n      12 VS           0.7615     0.3209     0.4806 VS            2 PRT     \\n      13 VS           0.7417     0.2960     0.4226 VS            2 PRT     \\n      14 VS           0.6655     0.3848     0.5848 VS            2 PRT     \\n      15 VS           0.6000     0.1754     0.2987 VS            2 PRT     \\n      16 VS           0.8394     0.1262     0.3148 VS            2 PRT     \\n      17 VS           0.7442     0.1952     0.4173 VS            2 PRT     \\n      18 VS           0.8205     0.1065     0.2551 VS            2 PRT     \\n      19 VS           0.5584     0.3158     0.3873 VS            2 PRT     \\n      20 VS           0.7236     0.3650     0.5613 VS            2 PRT     \\n@<TRIPOS>BOND\\n       1        4        3 1\\n       2        1        2 1\\n       3        1        3 1\\n@<TRIPOS>SUBSTRUCTURE\\n       1 RES             1 RESIDUE    0 **** ROOT      0\\n       2 PRT             5 RESIDUE    0 **** ROOT      0\\n\",\"mol2\");\n\tviewer_16164353696650944.setStyle({\"stick\": {\"radius\": 0.2, \"color\": \"grey\"}, \"sphere\": {\"scale\": 0.3, \"colorscheme\": {}}});\n\tviewer_16164353696650944.zoomTo();\nviewer_16164353696650944.render();\n});\n</script>",
      "text/html": [
       "<div id=\"3dmolviewer_16164353696650944\"  style=\"position: relative; width: 640px; height: 480px\">\n",
       "        <p id=\"3dmolwarning_16164353696650944\" style=\"background-color:#ffcccc;color:black\">You appear to be running in JupyterLab (or JavaScript failed to load for some other reason).  You need to install the 3dmol extension: <br>\n",
       "        <tt>jupyter labextension install jupyterlab_3dmol</tt></p>\n",
       "        </div>\n",
       "<script>\n",
       "\n",
       "var loadScriptAsync = function(uri){\n",
       "  return new Promise((resolve, reject) => {\n",
       "    var tag = document.createElement('script');\n",
       "    tag.src = uri;\n",
       "    tag.async = true;\n",
       "    tag.onload = () => {\n",
       "      resolve();\n",
       "    };\n",
       "  var firstScriptTag = document.getElementsByTagName('script')[0];\n",
       "  firstScriptTag.parentNode.insertBefore(tag, firstScriptTag);\n",
       "});\n",
       "};\n",
       "\n",
       "if(typeof $3Dmolpromise === 'undefined') {\n",
       "$3Dmolpromise = null;\n",
       "  $3Dmolpromise = loadScriptAsync('https://3dmol.csb.pitt.edu/build/3Dmol.js');\n",
       "}\n",
       "\n",
       "var viewer_16164353696650944 = null;\n",
       "var warn = document.getElementById(\"3dmolwarning_16164353696650944\");\n",
       "if(warn) {\n",
       "    warn.parentNode.removeChild(warn);\n",
       "}\n",
       "$3Dmolpromise.then(function() {\n",
       "viewer_16164353696650944 = $3Dmol.createViewer($(\"#3dmolviewer_16164353696650944\"),{backgroundColor:\"white\"});\n",
       "\tviewer_16164353696650944.addModel(\"@<TRIPOS>MOLECULE\\nRES\\n20 3 2 0 1\\nBIOPOLYMER\\nNO_CHARGES\\n@<TRIPOS>CRYSIN\\n    7.3711     5.9362     6.7117    90.0000    90.0000    90.0000  1  1\\n@<TRIPOS>ATOM\\n       1 C            0.9595    -0.0427    -0.1220 C             1 RES     \\n       2 O            0.2934    -0.5320    -1.0166 O             1 RES     \\n       3 O            2.3055    -0.0314    -0.1012 O             1 RES     \\n       4 H            2.6646     0.4042     0.6952 H             1 RES     \\n       5 VS           0.7797     0.2519     0.3420 VS            2 PRT     \\n       6 VS           0.7034     0.3407     0.5042 VS            2 PRT     \\n       7 VS           0.6379     0.1313     0.2180 VS            2 PRT     \\n       8 VS           0.8773     0.0821     0.2342 VS            2 PRT     \\n       9 VS           0.7822     0.1511     0.3367 VS            2 PRT     \\n      10 VS           0.8584     0.0624     0.1744 VS            2 PRT     \\n      11 VS           0.5963     0.2717     0.3066 VS            2 PRT     \\n      12 VS           0.7615     0.3209     0.4806 VS            2 PRT     \\n      13 VS           0.7417     0.2960     0.4226 VS            2 PRT     \\n      14 VS           0.6655     0.3848     0.5848 VS            2 PRT     \\n      15 VS           0.6000     0.1754     0.2987 VS            2 PRT     \\n      16 VS           0.8394     0.1262     0.3148 VS            2 PRT     \\n      17 VS           0.7442     0.1952     0.4173 VS            2 PRT     \\n      18 VS           0.8205     0.1065     0.2551 VS            2 PRT     \\n      19 VS           0.5584     0.3158     0.3873 VS            2 PRT     \\n      20 VS           0.7236     0.3650     0.5613 VS            2 PRT     \\n@<TRIPOS>BOND\\n       1        4        3 1\\n       2        1        2 1\\n       3        1        3 1\\n@<TRIPOS>SUBSTRUCTURE\\n       1 RES             1 RESIDUE    0 **** ROOT      0\\n       2 PRT             5 RESIDUE    0 **** ROOT      0\\n\",\"mol2\");\n",
       "\tviewer_16164353696650944.setStyle({\"stick\": {\"radius\": 0.2, \"color\": \"grey\"}, \"sphere\": {\"scale\": 0.3, \"colorscheme\": {}}});\n",
       "\tviewer_16164353696650944.zoomTo();\n",
       "viewer_16164353696650944.render();\n",
       "});\n",
       "</script>"
      ]
     },
     "metadata": {},
     "output_type": "display_data"
    }
   ],
   "source": [
    "# Same thing with the end group\n",
    "ca = mb.load('C(=O)O', smiles=True)\n",
    "print('Before passing the compound into add_end_groups()')\n",
    "ca.visualize(show_ports=True).show()\n",
    "\n",
    "peek_polymer.add_end_groups(ca,\n",
    "                            bond_index=3,\n",
    "                            separation=0.13,\n",
    "                            replace=True)\n",
    "\n",
    "# ca[3] is the hydrogen bonded to the carbon atom\n",
    "\n",
    "print('After passing the compound into add_end_groups()')\n",
    "peek_polymer.end_groups[0].visualize(show_ports=True).show()"
   ]
  },
  {
   "cell_type": "markdown",
   "metadata": {},
   "source": [
    "## Using replace=False instead\n",
    "So far, all of the examples above used `replace=True` and the `bonding_indices` were the indices of hydrgogens that were being replaced by ports and removed to make room for the monomer-monomer bond.\n",
    "\n",
    "I imagine this would be the most common work-flow for going straight from a SMILES string or compound file to a polymer, but it's possible use `replace=False`.  In this case, the atoms indicated in `bonding_indices` are the atoms forming the monomer-monomer bond.\n",
    "\n",
    "Below is an example using the `ch2.pdb` file in the `moieties` directory.  In this case, we don't want to replace/remove any hydrogens, but add onto the carbon atom"
   ]
  },
  {
   "cell_type": "markdown",
   "metadata": {},
   "source": [
    "# Reproducing the alkane chain\n",
    "There currently exists a recipe that produces a simple alkane chain. Below I'll use the new `polymer.py` functionality to re-create the same alkane chain."
   ]
  },
  {
   "cell_type": "code",
   "execution_count": 90,
   "metadata": {
    "scrolled": false
   },
   "outputs": [
    {
     "name": "stderr",
     "output_type": "stream",
     "text": [
      "/home/chris/miniconda3/envs/mosdev/lib/python3.7/site-packages/ipykernel/ipkernel.py:287: DeprecationWarning: `should_run_async` will not call `transform_cell` automatically in the future. Please pass the result to `transformed_cell` argument and any exception that happen during thetransform in `preprocessing_exc_tuple` in IPython 7.17 and above.\n",
      "  and should_run_async(code)\n"
     ]
    },
    {
     "data": {
      "application/3dmoljs_load.v0": "<div id=\"3dmolviewer_16164364569741902\"  style=\"position: relative; width: 640px; height: 480px\">\n        <p id=\"3dmolwarning_16164364569741902\" style=\"background-color:#ffcccc;color:black\">You appear to be running in JupyterLab (or JavaScript failed to load for some other reason).  You need to install the 3dmol extension: <br>\n        <tt>jupyter labextension install jupyterlab_3dmol</tt></p>\n        </div>\n<script>\n\nvar loadScriptAsync = function(uri){\n  return new Promise((resolve, reject) => {\n    var tag = document.createElement('script');\n    tag.src = uri;\n    tag.async = true;\n    tag.onload = () => {\n      resolve();\n    };\n  var firstScriptTag = document.getElementsByTagName('script')[0];\n  firstScriptTag.parentNode.insertBefore(tag, firstScriptTag);\n});\n};\n\nif(typeof $3Dmolpromise === 'undefined') {\n$3Dmolpromise = null;\n  $3Dmolpromise = loadScriptAsync('https://3dmol.csb.pitt.edu/build/3Dmol.js');\n}\n\nvar viewer_16164364569741902 = null;\nvar warn = document.getElementById(\"3dmolwarning_16164364569741902\");\nif(warn) {\n    warn.parentNode.removeChild(warn);\n}\n$3Dmolpromise.then(function() {\nviewer_16164364569741902 = $3Dmol.createViewer($(\"#3dmolviewer_16164364569741902\"),{backgroundColor:\"white\"});\n\tviewer_16164364569741902.addModel(\"@<TRIPOS>MOLECULE\\nRES\\n23 22 1 0 1\\nSMALL\\nNO_CHARGES\\n@<TRIPOS>CRYSIN\\n    7.2000    16.1880     5.0000    90.0000    90.0000    90.0000  1  1\\n@<TRIPOS>ATOM\\n       1 C            0.0000     0.0000     0.0000 C             1 RES     \\n       2 H           -1.1000     0.0000     0.0000 H             1 RES     \\n       3 H            1.1000     0.0000     0.0000 H             1 RES     \\n       4 C           -0.0000     1.5000     0.0000 C             1 RES     \\n       5 H           -1.1000     1.5000     0.0000 H             1 RES     \\n       6 H            1.1000     1.5000    -0.0000 H             1 RES     \\n       7 C           -0.0000     3.0000     0.0000 C             1 RES     \\n       8 H           -1.1000     3.0000     0.0000 H             1 RES     \\n       9 H            1.1000     3.0000    -0.0000 H             1 RES     \\n      10 C           -0.0000     4.5000    -0.0000 C             1 RES     \\n      11 H           -1.1000     4.5000     0.0000 H             1 RES     \\n      12 H            1.1000     4.5000    -0.0000 H             1 RES     \\n      13 C           -0.0000     6.0000     0.0000 C             1 RES     \\n      14 H           -1.1000     6.0000     0.0000 H             1 RES     \\n      15 H            1.1000     6.0000    -0.0000 H             1 RES     \\n      16 C           -0.0000     7.5000     0.0000 C             1 RES     \\n      17 H           -1.1000     7.5000     0.0000 H             1 RES     \\n      18 H            1.1000     7.5000     0.0000 H             1 RES     \\n      19 C           -0.0000     9.0000     0.0000 C             1 RES     \\n      20 H           -1.1000     9.0000     0.0000 H             1 RES     \\n      21 H            1.1000     9.0000     0.0000 H             1 RES     \\n      22 H           -0.0000    -1.0940     0.0000 H             1 RES     \\n      23 H           -0.0000    10.0940     0.0000 H             1 RES     \\n@<TRIPOS>BOND\\n       1       19       20 1\\n       2       13       15 1\\n       3        7        4 1\\n       4       10       11 1\\n       5        1        2 1\\n       6        7        9 1\\n       7       13       16 1\\n       8        4        6 1\\n       9       17       16 1\\n      10        1       22 1\\n      11        4        5 1\\n      12       10       12 1\\n      13       18       16 1\\n      14        1        4 1\\n      15        7        8 1\\n      16       19       21 1\\n      17       14       13 1\\n      18        1        3 1\\n      19       10        7 1\\n      20       19       16 1\\n      21       10       13 1\\n      22       19       23 1\\n@<TRIPOS>SUBSTRUCTURE\\n       1 RES             1 RESIDUE    0 **** ROOT      0\\n\",\"mol2\");\n\tviewer_16164364569741902.setStyle({\"stick\": {\"radius\": 0.2, \"color\": \"grey\"}, \"sphere\": {\"scale\": 0.3, \"colorscheme\": {}}});\n\tviewer_16164364569741902.zoomTo();\nviewer_16164364569741902.render();\n});\n</script>",
      "text/html": [
       "<div id=\"3dmolviewer_16164364569741902\"  style=\"position: relative; width: 640px; height: 480px\">\n",
       "        <p id=\"3dmolwarning_16164364569741902\" style=\"background-color:#ffcccc;color:black\">You appear to be running in JupyterLab (or JavaScript failed to load for some other reason).  You need to install the 3dmol extension: <br>\n",
       "        <tt>jupyter labextension install jupyterlab_3dmol</tt></p>\n",
       "        </div>\n",
       "<script>\n",
       "\n",
       "var loadScriptAsync = function(uri){\n",
       "  return new Promise((resolve, reject) => {\n",
       "    var tag = document.createElement('script');\n",
       "    tag.src = uri;\n",
       "    tag.async = true;\n",
       "    tag.onload = () => {\n",
       "      resolve();\n",
       "    };\n",
       "  var firstScriptTag = document.getElementsByTagName('script')[0];\n",
       "  firstScriptTag.parentNode.insertBefore(tag, firstScriptTag);\n",
       "});\n",
       "};\n",
       "\n",
       "if(typeof $3Dmolpromise === 'undefined') {\n",
       "$3Dmolpromise = null;\n",
       "  $3Dmolpromise = loadScriptAsync('https://3dmol.csb.pitt.edu/build/3Dmol.js');\n",
       "}\n",
       "\n",
       "var viewer_16164364569741902 = null;\n",
       "var warn = document.getElementById(\"3dmolwarning_16164364569741902\");\n",
       "if(warn) {\n",
       "    warn.parentNode.removeChild(warn);\n",
       "}\n",
       "$3Dmolpromise.then(function() {\n",
       "viewer_16164364569741902 = $3Dmol.createViewer($(\"#3dmolviewer_16164364569741902\"),{backgroundColor:\"white\"});\n",
       "\tviewer_16164364569741902.addModel(\"@<TRIPOS>MOLECULE\\nRES\\n23 22 1 0 1\\nSMALL\\nNO_CHARGES\\n@<TRIPOS>CRYSIN\\n    7.2000    16.1880     5.0000    90.0000    90.0000    90.0000  1  1\\n@<TRIPOS>ATOM\\n       1 C            0.0000     0.0000     0.0000 C             1 RES     \\n       2 H           -1.1000     0.0000     0.0000 H             1 RES     \\n       3 H            1.1000     0.0000     0.0000 H             1 RES     \\n       4 C           -0.0000     1.5000     0.0000 C             1 RES     \\n       5 H           -1.1000     1.5000     0.0000 H             1 RES     \\n       6 H            1.1000     1.5000    -0.0000 H             1 RES     \\n       7 C           -0.0000     3.0000     0.0000 C             1 RES     \\n       8 H           -1.1000     3.0000     0.0000 H             1 RES     \\n       9 H            1.1000     3.0000    -0.0000 H             1 RES     \\n      10 C           -0.0000     4.5000    -0.0000 C             1 RES     \\n      11 H           -1.1000     4.5000     0.0000 H             1 RES     \\n      12 H            1.1000     4.5000    -0.0000 H             1 RES     \\n      13 C           -0.0000     6.0000     0.0000 C             1 RES     \\n      14 H           -1.1000     6.0000     0.0000 H             1 RES     \\n      15 H            1.1000     6.0000    -0.0000 H             1 RES     \\n      16 C           -0.0000     7.5000     0.0000 C             1 RES     \\n      17 H           -1.1000     7.5000     0.0000 H             1 RES     \\n      18 H            1.1000     7.5000     0.0000 H             1 RES     \\n      19 C           -0.0000     9.0000     0.0000 C             1 RES     \\n      20 H           -1.1000     9.0000     0.0000 H             1 RES     \\n      21 H            1.1000     9.0000     0.0000 H             1 RES     \\n      22 H           -0.0000    -1.0940     0.0000 H             1 RES     \\n      23 H           -0.0000    10.0940     0.0000 H             1 RES     \\n@<TRIPOS>BOND\\n       1       19       20 1\\n       2       13       15 1\\n       3        7        4 1\\n       4       10       11 1\\n       5        1        2 1\\n       6        7        9 1\\n       7       13       16 1\\n       8        4        6 1\\n       9       17       16 1\\n      10        1       22 1\\n      11        4        5 1\\n      12       10       12 1\\n      13       18       16 1\\n      14        1        4 1\\n      15        7        8 1\\n      16       19       21 1\\n      17       14       13 1\\n      18        1        3 1\\n      19       10        7 1\\n      20       19       16 1\\n      21       10       13 1\\n      22       19       23 1\\n@<TRIPOS>SUBSTRUCTURE\\n       1 RES             1 RESIDUE    0 **** ROOT      0\\n\",\"mol2\");\n",
       "\tviewer_16164364569741902.setStyle({\"stick\": {\"radius\": 0.2, \"color\": \"grey\"}, \"sphere\": {\"scale\": 0.3, \"colorscheme\": {}}});\n",
       "\tviewer_16164364569741902.zoomTo();\n",
       "viewer_16164364569741902.render();\n",
       "});\n",
       "</script>"
      ]
     },
     "metadata": {},
     "output_type": "display_data"
    },
    {
     "data": {
      "text/plain": [
       "<py3Dmol.view at 0x7fccff2d9fd0>"
      ]
     },
     "execution_count": 90,
     "metadata": {},
     "output_type": "execute_result"
    }
   ],
   "source": [
    "ch2 = mb.load('lib/moieties/ch2.pdb')\n",
    "chain = Poly.Polymer()\n",
    "chain.add_monomer(ch2,\n",
    "                  bonding_indices=[0, 0],\n",
    "                  orientation=[[0, 1, 0], [0, -1, 0]],\n",
    "                  separation=0.15,\n",
    "                  replace=False)\n",
    "chain.build(n=7, sequence='A')\n",
    "\n",
    "chain.visualize()"
   ]
  },
  {
   "cell_type": "code",
   "execution_count": 98,
   "metadata": {},
   "outputs": [
    {
     "name": "stderr",
     "output_type": "stream",
     "text": [
      "/home/chris/miniconda3/envs/mosdev/lib/python3.7/site-packages/ipykernel/ipkernel.py:287: DeprecationWarning: `should_run_async` will not call `transform_cell` automatically in the future. Please pass the result to `transformed_cell` argument and any exception that happen during thetransform in `preprocessing_exc_tuple` in IPython 7.17 and above.\n",
      "  and should_run_async(code)\n"
     ]
    },
    {
     "data": {
      "application/3dmoljs_load.v0": "<div id=\"3dmolviewer_16164365844487295\"  style=\"position: relative; width: 640px; height: 480px\">\n        <p id=\"3dmolwarning_16164365844487295\" style=\"background-color:#ffcccc;color:black\">You appear to be running in JupyterLab (or JavaScript failed to load for some other reason).  You need to install the 3dmol extension: <br>\n        <tt>jupyter labextension install jupyterlab_3dmol</tt></p>\n        </div>\n<script>\n\nvar loadScriptAsync = function(uri){\n  return new Promise((resolve, reject) => {\n    var tag = document.createElement('script');\n    tag.src = uri;\n    tag.async = true;\n    tag.onload = () => {\n      resolve();\n    };\n  var firstScriptTag = document.getElementsByTagName('script')[0];\n  firstScriptTag.parentNode.insertBefore(tag, firstScriptTag);\n});\n};\n\nif(typeof $3Dmolpromise === 'undefined') {\n$3Dmolpromise = null;\n  $3Dmolpromise = loadScriptAsync('https://3dmol.csb.pitt.edu/build/3Dmol.js');\n}\n\nvar viewer_16164365844487295 = null;\nvar warn = document.getElementById(\"3dmolwarning_16164365844487295\");\nif(warn) {\n    warn.parentNode.removeChild(warn);\n}\n$3Dmolpromise.then(function() {\nviewer_16164365844487295 = $3Dmol.createViewer($(\"#3dmolviewer_16164365844487295\"),{backgroundColor:\"white\"});\n\tviewer_16164365844487295.addModel(\"@<TRIPOS>MOLECULE\\nRES\\n46 47 1 0 1\\nSMALL\\nNO_CHARGES\\n@<TRIPOS>CRYSIN\\n    9.3004    26.2501     5.1006    90.0000    90.0000    90.0000  1  1\\n@<TRIPOS>ATOM\\n       1 C            0.0000     0.0000     0.0000 C             1 RES     \\n       2 H           -1.1000     0.0000     0.0000 H             1 RES     \\n       3 H            1.1000     0.0000     0.0000 H             1 RES     \\n       4 C           -0.0000     1.5000     0.0000 C             1 RES     \\n       5 H           -1.1000     1.5000     0.0000 H             1 RES     \\n       6 H            1.1000     1.5000    -0.0000 H             1 RES     \\n       7 C           -0.0000     3.0000     0.0000 C             1 RES     \\n       8 H           -1.1000     3.0000     0.0000 H             1 RES     \\n       9 H            1.1000     3.0000    -0.0000 H             1 RES     \\n      10 C           -0.0000     4.5000    -0.0000 C             1 RES     \\n      11 H           -1.1000     4.5000     0.0000 H             1 RES     \\n      12 H            1.1000     4.5000    -0.0000 H             1 RES     \\n      13 C           -0.0000     6.0000     0.0000 C             1 RES     \\n      14 H           -1.1000     6.0000     0.0000 H             1 RES     \\n      15 H            1.1000     6.0000    -0.0000 H             1 RES     \\n      16 C           -0.0000     7.5000     0.0000 C             1 RES     \\n      17 H           -1.1000     7.5000     0.0000 H             1 RES     \\n      18 H            1.1000     7.5000     0.0000 H             1 RES     \\n      19 C           -0.0000     9.0000     0.0000 C             1 RES     \\n      20 H           -1.1000     9.0000     0.0000 H             1 RES     \\n      21 H            1.1000     9.0000     0.0000 H             1 RES     \\n      22 C           -0.0000    10.5000     0.0000 C             1 RES     \\n      23 H           -1.1000    10.5000     0.0000 H             1 RES     \\n      24 H            1.1000    10.5000     0.0000 H             1 RES     \\n      25 C           -1.2069    -2.1971     0.0067 C             1 RES     \\n      26 C           -1.2071    -3.5926     0.0127 C             1 RES     \\n      27 C            0.0018    -4.2885     0.0341 C             1 RES     \\n      28 C            1.2086    -3.5917     0.0084 C             1 RES     \\n      29 C            1.2089    -2.1964    -0.0108 C             1 RES     \\n      30 C            0.0000    -1.5000    -0.0000 C             1 RES     \\n      31 H           -2.1487    -1.6545     0.0101 H             1 RES     \\n      32 H           -2.1473    -4.1361     0.0019 H             1 RES     \\n      33 H            0.0018    -5.3750     0.0711 H             1 RES     \\n      34 H            2.1502    -4.1348     0.0027 H             1 RES     \\n      35 H            2.1492    -1.6533    -0.0295 H             1 RES     \\n      36 C            1.2069    12.6971     0.0067 C             1 RES     \\n      37 C            1.2071    14.0926     0.0127 C             1 RES     \\n      38 C           -0.0018    14.7885     0.0341 C             1 RES     \\n      39 C           -1.2086    14.0917     0.0084 C             1 RES     \\n      40 C           -1.2089    12.6964    -0.0108 C             1 RES     \\n      41 C           -0.0000    12.0000     0.0000 C             1 RES     \\n      42 H            2.1487    12.1545     0.0101 H             1 RES     \\n      43 H            2.1473    14.6361     0.0019 H             1 RES     \\n      44 H           -0.0018    15.8750     0.0711 H             1 RES     \\n      45 H           -2.1502    14.6348     0.0027 H             1 RES     \\n      46 H           -2.1492    12.1533    -0.0295 H             1 RES     \\n@<TRIPOS>BOND\\n       1       30        1 1\\n       2       19       21 1\\n       3       16       18 1\\n       4       10       11 1\\n       5       28       34 1\\n       6        1        4 1\\n       7       28       29 1\\n       8       39       40 1\\n       9        5        4 1\\n      10       25       30 1\\n      11        7        4 1\\n      12       13       15 1\\n      13       10       12 1\\n      14       44       38 1\\n      15       27       33 1\\n      16       19       22 1\\n      17        7       10 1\\n      18       41       22 1\\n      19       16       13 1\\n      20       16       17 1\\n      21       25       26 1\\n      22       36       37 1\\n      23       25       31 1\\n      24       45       39 1\\n      25        7        9 1\\n      26       43       37 1\\n      27       27       28 1\\n      28       38       39 1\\n      29       22       23 1\\n      30        1        2 1\\n      31       26       32 1\\n      32       16       19 1\\n      33       26       27 1\\n      34       37       38 1\\n      35       42       36 1\\n      36       13       14 1\\n      37        7        8 1\\n      38       22       24 1\\n      39        1        3 1\\n      40       46       40 1\\n      41       29       30 1\\n      42       19       20 1\\n      43       41       36 1\\n      44       29       35 1\\n      45       41       40 1\\n      46        4        6 1\\n      47       10       13 1\\n@<TRIPOS>SUBSTRUCTURE\\n       1 RES             1 RESIDUE    0 **** ROOT      0\\n\",\"mol2\");\n\tviewer_16164365844487295.setStyle({\"stick\": {\"radius\": 0.2, \"color\": \"grey\"}, \"sphere\": {\"scale\": 0.3, \"colorscheme\": {}}});\n\tviewer_16164365844487295.zoomTo();\nviewer_16164365844487295.render();\n});\n</script>",
      "text/html": [
       "<div id=\"3dmolviewer_16164365844487295\"  style=\"position: relative; width: 640px; height: 480px\">\n",
       "        <p id=\"3dmolwarning_16164365844487295\" style=\"background-color:#ffcccc;color:black\">You appear to be running in JupyterLab (or JavaScript failed to load for some other reason).  You need to install the 3dmol extension: <br>\n",
       "        <tt>jupyter labextension install jupyterlab_3dmol</tt></p>\n",
       "        </div>\n",
       "<script>\n",
       "\n",
       "var loadScriptAsync = function(uri){\n",
       "  return new Promise((resolve, reject) => {\n",
       "    var tag = document.createElement('script');\n",
       "    tag.src = uri;\n",
       "    tag.async = true;\n",
       "    tag.onload = () => {\n",
       "      resolve();\n",
       "    };\n",
       "  var firstScriptTag = document.getElementsByTagName('script')[0];\n",
       "  firstScriptTag.parentNode.insertBefore(tag, firstScriptTag);\n",
       "});\n",
       "};\n",
       "\n",
       "if(typeof $3Dmolpromise === 'undefined') {\n",
       "$3Dmolpromise = null;\n",
       "  $3Dmolpromise = loadScriptAsync('https://3dmol.csb.pitt.edu/build/3Dmol.js');\n",
       "}\n",
       "\n",
       "var viewer_16164365844487295 = null;\n",
       "var warn = document.getElementById(\"3dmolwarning_16164365844487295\");\n",
       "if(warn) {\n",
       "    warn.parentNode.removeChild(warn);\n",
       "}\n",
       "$3Dmolpromise.then(function() {\n",
       "viewer_16164365844487295 = $3Dmol.createViewer($(\"#3dmolviewer_16164365844487295\"),{backgroundColor:\"white\"});\n",
       "\tviewer_16164365844487295.addModel(\"@<TRIPOS>MOLECULE\\nRES\\n46 47 1 0 1\\nSMALL\\nNO_CHARGES\\n@<TRIPOS>CRYSIN\\n    9.3004    26.2501     5.1006    90.0000    90.0000    90.0000  1  1\\n@<TRIPOS>ATOM\\n       1 C            0.0000     0.0000     0.0000 C             1 RES     \\n       2 H           -1.1000     0.0000     0.0000 H             1 RES     \\n       3 H            1.1000     0.0000     0.0000 H             1 RES     \\n       4 C           -0.0000     1.5000     0.0000 C             1 RES     \\n       5 H           -1.1000     1.5000     0.0000 H             1 RES     \\n       6 H            1.1000     1.5000    -0.0000 H             1 RES     \\n       7 C           -0.0000     3.0000     0.0000 C             1 RES     \\n       8 H           -1.1000     3.0000     0.0000 H             1 RES     \\n       9 H            1.1000     3.0000    -0.0000 H             1 RES     \\n      10 C           -0.0000     4.5000    -0.0000 C             1 RES     \\n      11 H           -1.1000     4.5000     0.0000 H             1 RES     \\n      12 H            1.1000     4.5000    -0.0000 H             1 RES     \\n      13 C           -0.0000     6.0000     0.0000 C             1 RES     \\n      14 H           -1.1000     6.0000     0.0000 H             1 RES     \\n      15 H            1.1000     6.0000    -0.0000 H             1 RES     \\n      16 C           -0.0000     7.5000     0.0000 C             1 RES     \\n      17 H           -1.1000     7.5000     0.0000 H             1 RES     \\n      18 H            1.1000     7.5000     0.0000 H             1 RES     \\n      19 C           -0.0000     9.0000     0.0000 C             1 RES     \\n      20 H           -1.1000     9.0000     0.0000 H             1 RES     \\n      21 H            1.1000     9.0000     0.0000 H             1 RES     \\n      22 C           -0.0000    10.5000     0.0000 C             1 RES     \\n      23 H           -1.1000    10.5000     0.0000 H             1 RES     \\n      24 H            1.1000    10.5000     0.0000 H             1 RES     \\n      25 C           -1.2069    -2.1971     0.0067 C             1 RES     \\n      26 C           -1.2071    -3.5926     0.0127 C             1 RES     \\n      27 C            0.0018    -4.2885     0.0341 C             1 RES     \\n      28 C            1.2086    -3.5917     0.0084 C             1 RES     \\n      29 C            1.2089    -2.1964    -0.0108 C             1 RES     \\n      30 C            0.0000    -1.5000    -0.0000 C             1 RES     \\n      31 H           -2.1487    -1.6545     0.0101 H             1 RES     \\n      32 H           -2.1473    -4.1361     0.0019 H             1 RES     \\n      33 H            0.0018    -5.3750     0.0711 H             1 RES     \\n      34 H            2.1502    -4.1348     0.0027 H             1 RES     \\n      35 H            2.1492    -1.6533    -0.0295 H             1 RES     \\n      36 C            1.2069    12.6971     0.0067 C             1 RES     \\n      37 C            1.2071    14.0926     0.0127 C             1 RES     \\n      38 C           -0.0018    14.7885     0.0341 C             1 RES     \\n      39 C           -1.2086    14.0917     0.0084 C             1 RES     \\n      40 C           -1.2089    12.6964    -0.0108 C             1 RES     \\n      41 C           -0.0000    12.0000     0.0000 C             1 RES     \\n      42 H            2.1487    12.1545     0.0101 H             1 RES     \\n      43 H            2.1473    14.6361     0.0019 H             1 RES     \\n      44 H           -0.0018    15.8750     0.0711 H             1 RES     \\n      45 H           -2.1502    14.6348     0.0027 H             1 RES     \\n      46 H           -2.1492    12.1533    -0.0295 H             1 RES     \\n@<TRIPOS>BOND\\n       1       30        1 1\\n       2       19       21 1\\n       3       16       18 1\\n       4       10       11 1\\n       5       28       34 1\\n       6        1        4 1\\n       7       28       29 1\\n       8       39       40 1\\n       9        5        4 1\\n      10       25       30 1\\n      11        7        4 1\\n      12       13       15 1\\n      13       10       12 1\\n      14       44       38 1\\n      15       27       33 1\\n      16       19       22 1\\n      17        7       10 1\\n      18       41       22 1\\n      19       16       13 1\\n      20       16       17 1\\n      21       25       26 1\\n      22       36       37 1\\n      23       25       31 1\\n      24       45       39 1\\n      25        7        9 1\\n      26       43       37 1\\n      27       27       28 1\\n      28       38       39 1\\n      29       22       23 1\\n      30        1        2 1\\n      31       26       32 1\\n      32       16       19 1\\n      33       26       27 1\\n      34       37       38 1\\n      35       42       36 1\\n      36       13       14 1\\n      37        7        8 1\\n      38       22       24 1\\n      39        1        3 1\\n      40       46       40 1\\n      41       29       30 1\\n      42       19       20 1\\n      43       41       36 1\\n      44       29       35 1\\n      45       41       40 1\\n      46        4        6 1\\n      47       10       13 1\\n@<TRIPOS>SUBSTRUCTURE\\n       1 RES             1 RESIDUE    0 **** ROOT      0\\n\",\"mol2\");\n",
       "\tviewer_16164365844487295.setStyle({\"stick\": {\"radius\": 0.2, \"color\": \"grey\"}, \"sphere\": {\"scale\": 0.3, \"colorscheme\": {}}});\n",
       "\tviewer_16164365844487295.zoomTo();\n",
       "viewer_16164365844487295.render();\n",
       "});\n",
       "</script>"
      ]
     },
     "metadata": {},
     "output_type": "display_data"
    }
   ],
   "source": [
    "# It's super easy to throw different end groups on there\n",
    "\n",
    "ch2 = mb.load('lib/moieties/ch2.pdb')\n",
    "chain = Poly.Polymer()\n",
    "chain.add_monomer(ch2,\n",
    "                  bonding_indices=[0, 0],\n",
    "                  orientation=[[0, 1, 0], [0, -1, 0]],\n",
    "                  separation=0.15,\n",
    "                  replace=False)\n",
    "\n",
    "chain.add_end_groups(mb.load('c1ccccc1', smiles=True),\n",
    "                    bond_index=-1,\n",
    "                    separation=0.15,\n",
    "                    replace=True)\n",
    "chain.build(n=8, sequence='A')\n",
    "\n",
    "chain.visualize().show()"
   ]
  },
  {
   "cell_type": "code",
   "execution_count": null,
   "metadata": {},
   "outputs": [],
   "source": []
  },
  {
   "cell_type": "code",
   "execution_count": null,
   "metadata": {},
   "outputs": [],
   "source": []
  },
  {
   "cell_type": "markdown",
   "metadata": {},
   "source": [
    "## How we can use recipes\n",
    "\n",
    "With this approach, to build up a polymer you would just need the following information\n",
    "\n",
    "1. A SMILES string (or a path to a compound file)\n",
    "2. The indices of the hydrogen atoms to be removed\n",
    "3. The bond length\n",
    "\n",
    "So, having a library of this information to pull from could be a simple as a `.py` file with a dictionary, or a `.json` file\n"
   ]
  },
  {
   "cell_type": "code",
   "execution_count": null,
   "metadata": {},
   "outputs": [],
   "source": [
    "monomer_dict = {\n",
    "    \n",
    "    'polyethylene': {'smiles': \"CC\",\n",
    "               'bonding_indices': [2, -1],\n",
    "               'bond_length': 0.1512},\n",
    "    \n",
    "    'peek_para': {'smiles': \"Oc1ccc(Oc2ccc(C(=O)c3ccccc3)cc2)cc1\",\n",
    "                   'bonding_indices': [22, 29],\n",
    "                   'bond_length': 0.1376,\n",
    "                  'description': \"poly-ether-ether-ketone with a para configuration\"\n",
    "                                  \n",
    "                 },\n",
    "    \n",
    "    'peek_meta': {'smiles': \"Oc1cc(Oc2ccc(C(=O)c3ccccc3)cc2)ccc1\",\n",
    "                   'bonding_indices': [22, 29],\n",
    "                   'bond_length': 0.1376,\n",
    "                  'description': \"poly-ether-ether-ketone with a meta configuration\"\n",
    "                 }\n",
    "    \n",
    "}"
   ]
  },
  {
   "cell_type": "code",
   "execution_count": null,
   "metadata": {},
   "outputs": [],
   "source": [
    "# Maybe there is a from_recipe() function, for example:\n",
    "polymer = Poly.Polymer.from_recipe(monomer='peek_para',\n",
    "                                   n=10)"
   ]
  },
  {
   "cell_type": "code",
   "execution_count": null,
   "metadata": {},
   "outputs": [],
   "source": []
  }
 ],
 "metadata": {
  "kernelspec": {
   "display_name": "Python 3",
   "language": "python",
   "name": "python3"
  },
  "language_info": {
   "codemirror_mode": {
    "name": "ipython",
    "version": 3
   },
   "file_extension": ".py",
   "mimetype": "text/x-python",
   "name": "python",
   "nbconvert_exporter": "python",
   "pygments_lexer": "ipython3",
   "version": "3.7.9"
  }
 },
 "nbformat": 4,
 "nbformat_minor": 4
}
