{
 "cells": [
  {
   "cell_type": "code",
   "execution_count": 1,
   "metadata": {},
   "outputs": [],
   "source": [
    "import mbuild as mb\n",
    "from mbuild.lib.recipes.polymer import Polymer"
   ]
  },
  {
   "cell_type": "code",
   "execution_count": 2,
   "metadata": {},
   "outputs": [
    {
     "data": {
      "application/3dmoljs_load.v0": "<div id=\"3dmolviewer_1617741742945787\"  style=\"position: relative; width: 640px; height: 480px\">\n        <p id=\"3dmolwarning_1617741742945787\" style=\"background-color:#ffcccc;color:black\">You appear to be running in JupyterLab (or JavaScript failed to load for some other reason).  You need to install the 3dmol extension: <br>\n        <tt>jupyter labextension install jupyterlab_3dmol</tt></p>\n        </div>\n<script>\n\nvar loadScriptAsync = function(uri){\n  return new Promise((resolve, reject) => {\n    var tag = document.createElement('script');\n    tag.src = uri;\n    tag.async = true;\n    tag.onload = () => {\n      resolve();\n    };\n  var firstScriptTag = document.getElementsByTagName('script')[0];\n  firstScriptTag.parentNode.insertBefore(tag, firstScriptTag);\n});\n};\n\nif(typeof $3Dmolpromise === 'undefined') {\n$3Dmolpromise = null;\n  $3Dmolpromise = loadScriptAsync('https://3dmol.csb.pitt.edu/build/3Dmol.js');\n}\n\nvar viewer_1617741742945787 = null;\nvar warn = document.getElementById(\"3dmolwarning_1617741742945787\");\nif(warn) {\n    warn.parentNode.removeChild(warn);\n}\n$3Dmolpromise.then(function() {\nviewer_1617741742945787 = $3Dmol.createViewer($(\"#3dmolviewer_1617741742945787\"),{backgroundColor:\"white\"});\n\tviewer_1617741742945787.addModel(\"@<TRIPOS>MOLECULE\\nRES\\n68 67 1 0 1\\nSMALL\\nNO_CHARGES\\n@<TRIPOS>CRYSIN\\n   27.9838    11.5082    21.5370    90.0000    90.0000    90.0000  1  1\\n@<TRIPOS>ATOM\\n       1 C            0.9382    -0.0533     0.0533 C             1 RES     \\n       2 C            2.4503    -0.0533     0.0533 C             1 RES     \\n       3 H            0.5539     0.9360     0.3190 H             1 RES     \\n       4 H            0.5539    -0.7781     0.7772 H             1 RES     \\n       5 H            2.8346     0.6715    -0.6706 H             1 RES     \\n       6 H            2.8346    -1.0426    -0.2125 H             1 RES     \\n       7 C            2.9772     0.3094     1.4101 C             1 RES     \\n       8 C            4.4892     0.3094     1.4101 C             1 RES     \\n       9 H            2.5929     1.2986     1.6758 H             1 RES     \\n      10 H            2.5929    -0.4154     2.1339 H             1 RES     \\n      11 H            4.8735     1.0341     0.6862 H             1 RES     \\n      12 H            4.8735    -0.6799     1.1443 H             1 RES     \\n      13 C            5.0161     0.6720     2.7669 C             1 RES     \\n      14 C            6.5282     0.6720     2.7669 C             1 RES     \\n      15 H            4.6318     1.6613     3.0326 H             1 RES     \\n      16 H            4.6318    -0.0528     3.4907 H             1 RES     \\n      17 H            6.9125     1.3968     2.0430 H             1 RES     \\n      18 H            6.9125    -0.3173     2.5011 H             1 RES     \\n      19 C            7.0551     1.0346     4.1236 C             1 RES     \\n      20 C            8.5671     1.0346     4.1236 C             1 RES     \\n      21 H            6.6708     2.0239     4.3894 H             1 RES     \\n      22 H            6.6708     0.3099     4.8475 H             1 RES     \\n      23 H            8.9515     1.7594     3.3998 H             1 RES     \\n      24 H            8.9515     0.0454     3.8579 H             1 RES     \\n      25 C            9.0940     1.3973     5.4804 C             1 RES     \\n      26 C           10.6061     1.3973     5.4804 C             1 RES     \\n      27 H            8.7097     2.3866     5.7462 H             1 RES     \\n      28 H            8.7097     0.6725     6.2043 H             1 RES     \\n      29 H           10.9904     2.1221     4.7566 H             1 RES     \\n      30 H           10.9904     0.4080     5.2147 H             1 RES     \\n      31 C           11.1330     1.7599     6.8372 C             1 RES     \\n      32 C           12.6451     1.7599     6.8372 C             1 RES     \\n      33 H           10.7487     2.7492     7.1030 H             1 RES     \\n      34 H           10.7487     1.0351     7.5611 H             1 RES     \\n      35 H           13.0294     2.4847     6.1133 H             1 RES     \\n      36 H           13.0294     0.7706     6.5715 H             1 RES     \\n      37 C           13.1720     2.1226     8.1940 C             1 RES     \\n      38 C           14.6840     2.1226     8.1940 C             1 RES     \\n      39 H           12.7876     3.1119     8.4597 H             1 RES     \\n      40 H           12.7876     1.3978     8.9179 H             1 RES     \\n      41 H           15.0683     2.8473     7.4701 H             1 RES     \\n      42 H           15.0683     1.1333     7.9283 H             1 RES     \\n      43 C           15.2109     2.4852     9.5508 C             1 RES     \\n      44 C           16.7230     2.4852     9.5508 C             1 RES     \\n      45 H           14.8266     3.4745     9.8165 H             1 RES     \\n      46 H           14.8266     1.7604    10.2747 H             1 RES     \\n      47 H           17.1073     3.2100     8.8269 H             1 RES     \\n      48 H           17.1073     1.4959     9.2850 H             1 RES     \\n      49 C           17.2499     2.8478    10.9076 C             1 RES     \\n      50 C           18.7619     2.8478    10.9076 C             1 RES     \\n      51 H           16.8656     3.8371    11.1733 H             1 RES     \\n      52 H           16.8656     2.1231    11.6314 H             1 RES     \\n      53 H           19.1462     3.5726    10.1837 H             1 RES     \\n      54 H           19.1462     1.8586    10.6418 H             1 RES     \\n      55 C           19.2888     3.2105    12.2644 C             1 RES     \\n      56 C           20.8009     3.2105    12.2644 C             1 RES     \\n      57 H           18.9045     4.1998    12.5301 H             1 RES     \\n      58 H           18.9045     2.4857    12.9882 H             1 RES     \\n      59 H           21.1852     3.9353    11.5405 H             1 RES     \\n      60 H           21.1852     2.2212    11.9986 H             1 RES     \\n      61 C            0.4113    -0.4159    -1.3035 C             1 RES     \\n      62 O           -0.5614     0.0992    -1.8249 O             1 RES     \\n      63 O            1.1506    -1.3852    -1.8747 O             1 RES     \\n      64 H            1.8906    -1.6755    -1.3080 H             1 RES     \\n      65 C           21.3278     3.5731    13.6211 C             1 RES     \\n      66 O           20.9619     3.0580    14.6623 O             1 RES     \\n      67 O           22.2588     4.5424    13.5437 O             1 RES     \\n      68 H           22.4224     4.8327    12.6261 H             1 RES     \\n@<TRIPOS>BOND\\n       1       49       52 1\\n       2       61       62 1\\n       3       32       37 1\\n       4       26       29 1\\n       5       65       67 1\\n       6       25       27 1\\n       7       56       59 1\\n       8       38       43 1\\n       9       49       50 1\\n      10       55       58 1\\n      11       13       14 1\\n      12       19       22 1\\n      13       63       64 1\\n      14       26       31 1\\n      15       32       36 1\\n      16        7       10 1\\n      17       20       25 1\\n      18       31       34 1\\n      19       56       60 1\\n      20       50       55 1\\n      21       49       51 1\\n      22       55       57 1\\n      23       13       15 1\\n      24       19       21 1\\n      25        3        1 1\\n      26       44       48 1\\n      27       38       41 1\\n      28        7        8 1\\n      29       44       49 1\\n      30       43       46 1\\n      31        2        7 1\\n      32        4        1 1\\n      33        2        5 1\\n      34       13       16 1\\n      35       37       38 1\\n      36       14       17 1\\n      37       25       28 1\\n      38       44       47 1\\n      39       38       42 1\\n      40        2        1 1\\n      41        7        9 1\\n      42       43       45 1\\n      43       61       63 1\\n      44       20       23 1\\n      45       50       53 1\\n      46       56       65 1\\n      47       31       32 1\\n      48       37       40 1\\n      49       50       54 1\\n      50        2        6 1\\n      51        1       61 1\\n      52        8       13 1\\n      53       14       18 1\\n      54       67       68 1\\n      55       55       56 1\\n      56       19       20 1\\n      57       43       44 1\\n      58       26       30 1\\n      59        8       12 1\\n      60       14       19 1\\n      61       20       24 1\\n      62       32       35 1\\n      63       31       33 1\\n      64       37       39 1\\n      65       65       66 1\\n      66       25       26 1\\n      67        8       11 1\\n@<TRIPOS>SUBSTRUCTURE\\n       1 RES             1 RESIDUE    0 **** ROOT      0\\n\",\"mol2\");\n\tviewer_1617741742945787.setStyle({\"stick\": {\"radius\": 0.2, \"color\": \"grey\"}, \"sphere\": {\"scale\": 0.3, \"colorscheme\": {}}});\n\tviewer_1617741742945787.zoomTo();\nviewer_1617741742945787.render();\n});\n</script>",
      "text/html": [
       "<div id=\"3dmolviewer_1617741742945787\"  style=\"position: relative; width: 640px; height: 480px\">\n",
       "        <p id=\"3dmolwarning_1617741742945787\" style=\"background-color:#ffcccc;color:black\">You appear to be running in JupyterLab (or JavaScript failed to load for some other reason).  You need to install the 3dmol extension: <br>\n",
       "        <tt>jupyter labextension install jupyterlab_3dmol</tt></p>\n",
       "        </div>\n",
       "<script>\n",
       "\n",
       "var loadScriptAsync = function(uri){\n",
       "  return new Promise((resolve, reject) => {\n",
       "    var tag = document.createElement('script');\n",
       "    tag.src = uri;\n",
       "    tag.async = true;\n",
       "    tag.onload = () => {\n",
       "      resolve();\n",
       "    };\n",
       "  var firstScriptTag = document.getElementsByTagName('script')[0];\n",
       "  firstScriptTag.parentNode.insertBefore(tag, firstScriptTag);\n",
       "});\n",
       "};\n",
       "\n",
       "if(typeof $3Dmolpromise === 'undefined') {\n",
       "$3Dmolpromise = null;\n",
       "  $3Dmolpromise = loadScriptAsync('https://3dmol.csb.pitt.edu/build/3Dmol.js');\n",
       "}\n",
       "\n",
       "var viewer_1617741742945787 = null;\n",
       "var warn = document.getElementById(\"3dmolwarning_1617741742945787\");\n",
       "if(warn) {\n",
       "    warn.parentNode.removeChild(warn);\n",
       "}\n",
       "$3Dmolpromise.then(function() {\n",
       "viewer_1617741742945787 = $3Dmol.createViewer($(\"#3dmolviewer_1617741742945787\"),{backgroundColor:\"white\"});\n",
       "\tviewer_1617741742945787.addModel(\"@<TRIPOS>MOLECULE\\nRES\\n68 67 1 0 1\\nSMALL\\nNO_CHARGES\\n@<TRIPOS>CRYSIN\\n   27.9838    11.5082    21.5370    90.0000    90.0000    90.0000  1  1\\n@<TRIPOS>ATOM\\n       1 C            0.9382    -0.0533     0.0533 C             1 RES     \\n       2 C            2.4503    -0.0533     0.0533 C             1 RES     \\n       3 H            0.5539     0.9360     0.3190 H             1 RES     \\n       4 H            0.5539    -0.7781     0.7772 H             1 RES     \\n       5 H            2.8346     0.6715    -0.6706 H             1 RES     \\n       6 H            2.8346    -1.0426    -0.2125 H             1 RES     \\n       7 C            2.9772     0.3094     1.4101 C             1 RES     \\n       8 C            4.4892     0.3094     1.4101 C             1 RES     \\n       9 H            2.5929     1.2986     1.6758 H             1 RES     \\n      10 H            2.5929    -0.4154     2.1339 H             1 RES     \\n      11 H            4.8735     1.0341     0.6862 H             1 RES     \\n      12 H            4.8735    -0.6799     1.1443 H             1 RES     \\n      13 C            5.0161     0.6720     2.7669 C             1 RES     \\n      14 C            6.5282     0.6720     2.7669 C             1 RES     \\n      15 H            4.6318     1.6613     3.0326 H             1 RES     \\n      16 H            4.6318    -0.0528     3.4907 H             1 RES     \\n      17 H            6.9125     1.3968     2.0430 H             1 RES     \\n      18 H            6.9125    -0.3173     2.5011 H             1 RES     \\n      19 C            7.0551     1.0346     4.1236 C             1 RES     \\n      20 C            8.5671     1.0346     4.1236 C             1 RES     \\n      21 H            6.6708     2.0239     4.3894 H             1 RES     \\n      22 H            6.6708     0.3099     4.8475 H             1 RES     \\n      23 H            8.9515     1.7594     3.3998 H             1 RES     \\n      24 H            8.9515     0.0454     3.8579 H             1 RES     \\n      25 C            9.0940     1.3973     5.4804 C             1 RES     \\n      26 C           10.6061     1.3973     5.4804 C             1 RES     \\n      27 H            8.7097     2.3866     5.7462 H             1 RES     \\n      28 H            8.7097     0.6725     6.2043 H             1 RES     \\n      29 H           10.9904     2.1221     4.7566 H             1 RES     \\n      30 H           10.9904     0.4080     5.2147 H             1 RES     \\n      31 C           11.1330     1.7599     6.8372 C             1 RES     \\n      32 C           12.6451     1.7599     6.8372 C             1 RES     \\n      33 H           10.7487     2.7492     7.1030 H             1 RES     \\n      34 H           10.7487     1.0351     7.5611 H             1 RES     \\n      35 H           13.0294     2.4847     6.1133 H             1 RES     \\n      36 H           13.0294     0.7706     6.5715 H             1 RES     \\n      37 C           13.1720     2.1226     8.1940 C             1 RES     \\n      38 C           14.6840     2.1226     8.1940 C             1 RES     \\n      39 H           12.7876     3.1119     8.4597 H             1 RES     \\n      40 H           12.7876     1.3978     8.9179 H             1 RES     \\n      41 H           15.0683     2.8473     7.4701 H             1 RES     \\n      42 H           15.0683     1.1333     7.9283 H             1 RES     \\n      43 C           15.2109     2.4852     9.5508 C             1 RES     \\n      44 C           16.7230     2.4852     9.5508 C             1 RES     \\n      45 H           14.8266     3.4745     9.8165 H             1 RES     \\n      46 H           14.8266     1.7604    10.2747 H             1 RES     \\n      47 H           17.1073     3.2100     8.8269 H             1 RES     \\n      48 H           17.1073     1.4959     9.2850 H             1 RES     \\n      49 C           17.2499     2.8478    10.9076 C             1 RES     \\n      50 C           18.7619     2.8478    10.9076 C             1 RES     \\n      51 H           16.8656     3.8371    11.1733 H             1 RES     \\n      52 H           16.8656     2.1231    11.6314 H             1 RES     \\n      53 H           19.1462     3.5726    10.1837 H             1 RES     \\n      54 H           19.1462     1.8586    10.6418 H             1 RES     \\n      55 C           19.2888     3.2105    12.2644 C             1 RES     \\n      56 C           20.8009     3.2105    12.2644 C             1 RES     \\n      57 H           18.9045     4.1998    12.5301 H             1 RES     \\n      58 H           18.9045     2.4857    12.9882 H             1 RES     \\n      59 H           21.1852     3.9353    11.5405 H             1 RES     \\n      60 H           21.1852     2.2212    11.9986 H             1 RES     \\n      61 C            0.4113    -0.4159    -1.3035 C             1 RES     \\n      62 O           -0.5614     0.0992    -1.8249 O             1 RES     \\n      63 O            1.1506    -1.3852    -1.8747 O             1 RES     \\n      64 H            1.8906    -1.6755    -1.3080 H             1 RES     \\n      65 C           21.3278     3.5731    13.6211 C             1 RES     \\n      66 O           20.9619     3.0580    14.6623 O             1 RES     \\n      67 O           22.2588     4.5424    13.5437 O             1 RES     \\n      68 H           22.4224     4.8327    12.6261 H             1 RES     \\n@<TRIPOS>BOND\\n       1       49       52 1\\n       2       61       62 1\\n       3       32       37 1\\n       4       26       29 1\\n       5       65       67 1\\n       6       25       27 1\\n       7       56       59 1\\n       8       38       43 1\\n       9       49       50 1\\n      10       55       58 1\\n      11       13       14 1\\n      12       19       22 1\\n      13       63       64 1\\n      14       26       31 1\\n      15       32       36 1\\n      16        7       10 1\\n      17       20       25 1\\n      18       31       34 1\\n      19       56       60 1\\n      20       50       55 1\\n      21       49       51 1\\n      22       55       57 1\\n      23       13       15 1\\n      24       19       21 1\\n      25        3        1 1\\n      26       44       48 1\\n      27       38       41 1\\n      28        7        8 1\\n      29       44       49 1\\n      30       43       46 1\\n      31        2        7 1\\n      32        4        1 1\\n      33        2        5 1\\n      34       13       16 1\\n      35       37       38 1\\n      36       14       17 1\\n      37       25       28 1\\n      38       44       47 1\\n      39       38       42 1\\n      40        2        1 1\\n      41        7        9 1\\n      42       43       45 1\\n      43       61       63 1\\n      44       20       23 1\\n      45       50       53 1\\n      46       56       65 1\\n      47       31       32 1\\n      48       37       40 1\\n      49       50       54 1\\n      50        2        6 1\\n      51        1       61 1\\n      52        8       13 1\\n      53       14       18 1\\n      54       67       68 1\\n      55       55       56 1\\n      56       19       20 1\\n      57       43       44 1\\n      58       26       30 1\\n      59        8       12 1\\n      60       14       19 1\\n      61       20       24 1\\n      62       32       35 1\\n      63       31       33 1\\n      64       37       39 1\\n      65       65       66 1\\n      66       25       26 1\\n      67        8       11 1\\n@<TRIPOS>SUBSTRUCTURE\\n       1 RES             1 RESIDUE    0 **** ROOT      0\\n\",\"mol2\");\n",
       "\tviewer_1617741742945787.setStyle({\"stick\": {\"radius\": 0.2, \"color\": \"grey\"}, \"sphere\": {\"scale\": 0.3, \"colorscheme\": {}}});\n",
       "\tviewer_1617741742945787.zoomTo();\n",
       "viewer_1617741742945787.render();\n",
       "});\n",
       "</script>"
      ]
     },
     "metadata": {},
     "output_type": "display_data"
    }
   ],
   "source": [
    "# Quick example of the API and workflow\n",
    "comp = mb.load('CC', smiles=True) # mBuild compound of the monomer unit\n",
    "chain = Polymer()\n",
    "\n",
    "chain.add_monomer(compound=comp,\n",
    "                  indices=[2, -1],\n",
    "                  separation=.15,\n",
    "                  replace=True)\n",
    "\n",
    "chain.add_end_groups(mb.load('C(=O)O',smiles=True), # Capping off this polymer with Carboxylic acid groups\n",
    "                     index=3,\n",
    "                     separation=0.15)\n",
    "\n",
    "chain.build(n=10, sequence='A')\n",
    "chain.visualize(show_ports=True).show()"
   ]
  },
  {
   "cell_type": "code",
   "execution_count": 3,
   "metadata": {},
   "outputs": [
    {
     "data": {
      "application/3dmoljs_load.v0": "<div id=\"3dmolviewer_1617741743243127\"  style=\"position: relative; width: 640px; height: 480px\">\n        <p id=\"3dmolwarning_1617741743243127\" style=\"background-color:#ffcccc;color:black\">You appear to be running in JupyterLab (or JavaScript failed to load for some other reason).  You need to install the 3dmol extension: <br>\n        <tt>jupyter labextension install jupyterlab_3dmol</tt></p>\n        </div>\n<script>\n\nvar loadScriptAsync = function(uri){\n  return new Promise((resolve, reject) => {\n    var tag = document.createElement('script');\n    tag.src = uri;\n    tag.async = true;\n    tag.onload = () => {\n      resolve();\n    };\n  var firstScriptTag = document.getElementsByTagName('script')[0];\n  firstScriptTag.parentNode.insertBefore(tag, firstScriptTag);\n});\n};\n\nif(typeof $3Dmolpromise === 'undefined') {\n$3Dmolpromise = null;\n  $3Dmolpromise = loadScriptAsync('https://3dmol.csb.pitt.edu/build/3Dmol.js');\n}\n\nvar viewer_1617741743243127 = null;\nvar warn = document.getElementById(\"3dmolwarning_1617741743243127\");\nif(warn) {\n    warn.parentNode.removeChild(warn);\n}\n$3Dmolpromise.then(function() {\nviewer_1617741743243127 = $3Dmol.createViewer($(\"#3dmolviewer_1617741743243127\"),{backgroundColor:\"white\"});\n\tviewer_1617741743243127.addModel(\"@<TRIPOS>MOLECULE\\nRES\\n62 61 1 0 1\\nSMALL\\nNO_CHARGES\\n@<TRIPOS>CRYSIN\\n   25.6313    17.2110    14.2901    90.0000    90.0000    90.0000  1  1\\n@<TRIPOS>ATOM\\n       1 C            1.0391    -0.0464     0.0813 C             1 RES     \\n       2 C            2.5512    -0.0464     0.0813 C             1 RES     \\n       3 H            0.6548    -0.9747     0.5143 H             1 RES     \\n       4 H            0.6548     0.0429    -0.9391 H             1 RES     \\n       5 H            2.9355    -0.1356     1.1018 H             1 RES     \\n       6 H            2.9355     0.8820    -0.3516 H             1 RES     \\n       7 C            3.0781    -1.1968    -0.7241 C             1 RES     \\n       8 C            4.5901    -1.1968    -0.7241 C             1 RES     \\n       9 H            2.6938    -2.1252    -0.2912 H             1 RES     \\n      10 H            2.6938    -1.1076    -1.7446 H             1 RES     \\n      11 H            4.9745    -1.2861     0.2963 H             1 RES     \\n      12 H            4.9745    -0.2685    -1.1571 H             1 RES     \\n      13 C            5.1170    -2.3473    -1.5296 C             1 RES     \\n      14 C            6.6291    -2.3473    -1.5296 C             1 RES     \\n      15 H            4.7327    -3.2757    -1.0966 H             1 RES     \\n      16 H            4.7327    -2.2581    -2.5501 H             1 RES     \\n      17 H            7.0134    -2.4365    -0.5091 H             1 RES     \\n      18 H            7.0134    -1.4190    -1.9626 H             1 RES     \\n      19 C            7.1560    -3.4978    -2.3351 C             1 RES     \\n      20 C            8.6681    -3.4978    -2.3351 C             1 RES     \\n      21 H            6.7717    -4.4261    -1.9021 H             1 RES     \\n      22 H            6.7717    -3.4086    -3.3555 H             1 RES     \\n      23 H            9.0524    -3.5870    -1.3146 H             1 RES     \\n      24 H            9.0524    -2.5694    -2.7680 H             1 RES     \\n      25 C            9.1950    -4.6483    -3.1405 C             1 RES     \\n      26 C           10.7070    -4.6483    -3.1405 C             1 RES     \\n      27 H            8.8106    -5.5766    -2.7076 H             1 RES     \\n      28 H            8.8106    -4.5591    -4.1610 H             1 RES     \\n      29 H           11.0913    -4.7375    -2.1201 H             1 RES     \\n      30 H           11.0913    -3.7199    -3.5735 H             1 RES     \\n      31 C           11.2339    -5.7988    -3.9460 C             1 RES     \\n      32 C           12.7460    -5.7988    -3.9460 C             1 RES     \\n      33 H           10.8496    -6.7271    -3.5130 H             1 RES     \\n      34 H           10.8496    -5.7095    -4.9665 H             1 RES     \\n      35 H           13.1303    -5.8880    -2.9255 H             1 RES     \\n      36 H           13.1303    -4.8704    -4.3790 H             1 RES     \\n      37 C           13.2729    -6.9492    -4.7515 C             1 RES     \\n      38 C           14.7849    -6.9492    -4.7515 C             1 RES     \\n      39 H           12.8885    -7.8776    -4.3185 H             1 RES     \\n      40 H           12.8886    -6.8600    -5.7719 H             1 RES     \\n      41 H           15.1692    -7.0385    -3.7310 H             1 RES     \\n      42 H           15.1692    -6.0209    -5.1844 H             1 RES     \\n      43 C           15.3118    -8.0997    -5.5569 C             1 RES     \\n      44 C           16.8239    -8.0997    -5.5569 C             1 RES     \\n      45 H           14.9275    -9.0281    -5.1240 H             1 RES     \\n      46 H           14.9275    -8.0105    -6.5774 H             1 RES     \\n      47 H           17.2082    -8.1889    -4.5365 H             1 RES     \\n      48 H           17.2082    -7.1714    -5.9899 H             1 RES     \\n      49 C           17.3508    -9.2502    -6.3624 C             1 RES     \\n      50 C           18.8628    -9.2502    -6.3624 C             1 RES     \\n      51 H           16.9665   -10.1786    -5.9294 H             1 RES     \\n      52 H           16.9665    -9.1610    -7.3828 H             1 RES     \\n      53 H           19.2471    -9.3394    -5.3419 H             1 RES     \\n      54 H           19.2471    -8.3218    -6.7953 H             1 RES     \\n      55 C           19.3897   -10.4007    -7.1678 C             1 RES     \\n      56 C           20.9018   -10.4007    -7.1678 C             1 RES     \\n      57 H           19.0054   -11.3290    -6.7349 H             1 RES     \\n      58 H           19.0054   -10.3115    -8.1883 H             1 RES     \\n      59 H           21.2861   -10.4899    -6.1474 H             1 RES     \\n      60 H           21.2861    -9.4723    -7.6008 H             1 RES     \\n      61 H            0.6549     0.7927     0.6688 H             1 RES     \\n      62 H           21.2861   -11.2398    -7.7553 H             1 RES     \\n@<TRIPOS>BOND\\n       1        8       13 1\\n       2       49       52 1\\n       3       37       40 1\\n       4       50       54 1\\n       5       14       18 1\\n       6       13       15 1\\n       7        1        3 1\\n       8       31       33 1\\n       9        8        7 1\\n      10       44       47 1\\n      11       37       38 1\\n      12       43       46 1\\n      13       14       19 1\\n      14       56       60 1\\n      15       50       55 1\\n      16       20       24 1\\n      17       19       22 1\\n      18       44       49 1\\n      19        1        4 1\\n      20       31       34 1\\n      21       56       59 1\\n      22        2        6 1\\n      23       26       31 1\\n      24       38       43 1\\n      25       37       39 1\\n      26       43       45 1\\n      27       32       36 1\\n      28       44       48 1\\n      29       61        1 1\\n      30       26       30 1\\n      31       49       50 1\\n      32       25       28 1\\n      33        2        5 1\\n      34       50       53 1\\n      35       32       35 1\\n      36       13       16 1\\n      37       12        8 1\\n      38       26       29 1\\n      39       38       41 1\\n      40       49       51 1\\n      41       25       27 1\\n      42       11        8 1\\n      43       55       56 1\\n      44       19       20 1\\n      45       55       58 1\\n      46       10        7 1\\n      47       32       37 1\\n      48       38       42 1\\n      49        9        7 1\\n      50       25       26 1\\n      51       20       25 1\\n      52       43       44 1\\n      53       20       23 1\\n      54       62       56 1\\n      55       19       21 1\\n      56       55       57 1\\n      57       13       14 1\\n      58        1        2 1\\n      59       31       32 1\\n      60        7        2 1\\n      61       14       17 1\\n@<TRIPOS>SUBSTRUCTURE\\n       1 RES             1 RESIDUE    0 **** ROOT      0\\n\",\"mol2\");\n\tviewer_1617741743243127.setStyle({\"stick\": {\"radius\": 0.2, \"color\": \"grey\"}, \"sphere\": {\"scale\": 0.3, \"colorscheme\": {}}});\n\tviewer_1617741743243127.zoomTo();\nviewer_1617741743243127.render();\n});\n</script>",
      "text/html": [
       "<div id=\"3dmolviewer_1617741743243127\"  style=\"position: relative; width: 640px; height: 480px\">\n",
       "        <p id=\"3dmolwarning_1617741743243127\" style=\"background-color:#ffcccc;color:black\">You appear to be running in JupyterLab (or JavaScript failed to load for some other reason).  You need to install the 3dmol extension: <br>\n",
       "        <tt>jupyter labextension install jupyterlab_3dmol</tt></p>\n",
       "        </div>\n",
       "<script>\n",
       "\n",
       "var loadScriptAsync = function(uri){\n",
       "  return new Promise((resolve, reject) => {\n",
       "    var tag = document.createElement('script');\n",
       "    tag.src = uri;\n",
       "    tag.async = true;\n",
       "    tag.onload = () => {\n",
       "      resolve();\n",
       "    };\n",
       "  var firstScriptTag = document.getElementsByTagName('script')[0];\n",
       "  firstScriptTag.parentNode.insertBefore(tag, firstScriptTag);\n",
       "});\n",
       "};\n",
       "\n",
       "if(typeof $3Dmolpromise === 'undefined') {\n",
       "$3Dmolpromise = null;\n",
       "  $3Dmolpromise = loadScriptAsync('https://3dmol.csb.pitt.edu/build/3Dmol.js');\n",
       "}\n",
       "\n",
       "var viewer_1617741743243127 = null;\n",
       "var warn = document.getElementById(\"3dmolwarning_1617741743243127\");\n",
       "if(warn) {\n",
       "    warn.parentNode.removeChild(warn);\n",
       "}\n",
       "$3Dmolpromise.then(function() {\n",
       "viewer_1617741743243127 = $3Dmol.createViewer($(\"#3dmolviewer_1617741743243127\"),{backgroundColor:\"white\"});\n",
       "\tviewer_1617741743243127.addModel(\"@<TRIPOS>MOLECULE\\nRES\\n62 61 1 0 1\\nSMALL\\nNO_CHARGES\\n@<TRIPOS>CRYSIN\\n   25.6313    17.2110    14.2901    90.0000    90.0000    90.0000  1  1\\n@<TRIPOS>ATOM\\n       1 C            1.0391    -0.0464     0.0813 C             1 RES     \\n       2 C            2.5512    -0.0464     0.0813 C             1 RES     \\n       3 H            0.6548    -0.9747     0.5143 H             1 RES     \\n       4 H            0.6548     0.0429    -0.9391 H             1 RES     \\n       5 H            2.9355    -0.1356     1.1018 H             1 RES     \\n       6 H            2.9355     0.8820    -0.3516 H             1 RES     \\n       7 C            3.0781    -1.1968    -0.7241 C             1 RES     \\n       8 C            4.5901    -1.1968    -0.7241 C             1 RES     \\n       9 H            2.6938    -2.1252    -0.2912 H             1 RES     \\n      10 H            2.6938    -1.1076    -1.7446 H             1 RES     \\n      11 H            4.9745    -1.2861     0.2963 H             1 RES     \\n      12 H            4.9745    -0.2685    -1.1571 H             1 RES     \\n      13 C            5.1170    -2.3473    -1.5296 C             1 RES     \\n      14 C            6.6291    -2.3473    -1.5296 C             1 RES     \\n      15 H            4.7327    -3.2757    -1.0966 H             1 RES     \\n      16 H            4.7327    -2.2581    -2.5501 H             1 RES     \\n      17 H            7.0134    -2.4365    -0.5091 H             1 RES     \\n      18 H            7.0134    -1.4190    -1.9626 H             1 RES     \\n      19 C            7.1560    -3.4978    -2.3351 C             1 RES     \\n      20 C            8.6681    -3.4978    -2.3351 C             1 RES     \\n      21 H            6.7717    -4.4261    -1.9021 H             1 RES     \\n      22 H            6.7717    -3.4086    -3.3555 H             1 RES     \\n      23 H            9.0524    -3.5870    -1.3146 H             1 RES     \\n      24 H            9.0524    -2.5694    -2.7680 H             1 RES     \\n      25 C            9.1950    -4.6483    -3.1405 C             1 RES     \\n      26 C           10.7070    -4.6483    -3.1405 C             1 RES     \\n      27 H            8.8106    -5.5766    -2.7076 H             1 RES     \\n      28 H            8.8106    -4.5591    -4.1610 H             1 RES     \\n      29 H           11.0913    -4.7375    -2.1201 H             1 RES     \\n      30 H           11.0913    -3.7199    -3.5735 H             1 RES     \\n      31 C           11.2339    -5.7988    -3.9460 C             1 RES     \\n      32 C           12.7460    -5.7988    -3.9460 C             1 RES     \\n      33 H           10.8496    -6.7271    -3.5130 H             1 RES     \\n      34 H           10.8496    -5.7095    -4.9665 H             1 RES     \\n      35 H           13.1303    -5.8880    -2.9255 H             1 RES     \\n      36 H           13.1303    -4.8704    -4.3790 H             1 RES     \\n      37 C           13.2729    -6.9492    -4.7515 C             1 RES     \\n      38 C           14.7849    -6.9492    -4.7515 C             1 RES     \\n      39 H           12.8885    -7.8776    -4.3185 H             1 RES     \\n      40 H           12.8886    -6.8600    -5.7719 H             1 RES     \\n      41 H           15.1692    -7.0385    -3.7310 H             1 RES     \\n      42 H           15.1692    -6.0209    -5.1844 H             1 RES     \\n      43 C           15.3118    -8.0997    -5.5569 C             1 RES     \\n      44 C           16.8239    -8.0997    -5.5569 C             1 RES     \\n      45 H           14.9275    -9.0281    -5.1240 H             1 RES     \\n      46 H           14.9275    -8.0105    -6.5774 H             1 RES     \\n      47 H           17.2082    -8.1889    -4.5365 H             1 RES     \\n      48 H           17.2082    -7.1714    -5.9899 H             1 RES     \\n      49 C           17.3508    -9.2502    -6.3624 C             1 RES     \\n      50 C           18.8628    -9.2502    -6.3624 C             1 RES     \\n      51 H           16.9665   -10.1786    -5.9294 H             1 RES     \\n      52 H           16.9665    -9.1610    -7.3828 H             1 RES     \\n      53 H           19.2471    -9.3394    -5.3419 H             1 RES     \\n      54 H           19.2471    -8.3218    -6.7953 H             1 RES     \\n      55 C           19.3897   -10.4007    -7.1678 C             1 RES     \\n      56 C           20.9018   -10.4007    -7.1678 C             1 RES     \\n      57 H           19.0054   -11.3290    -6.7349 H             1 RES     \\n      58 H           19.0054   -10.3115    -8.1883 H             1 RES     \\n      59 H           21.2861   -10.4899    -6.1474 H             1 RES     \\n      60 H           21.2861    -9.4723    -7.6008 H             1 RES     \\n      61 H            0.6549     0.7927     0.6688 H             1 RES     \\n      62 H           21.2861   -11.2398    -7.7553 H             1 RES     \\n@<TRIPOS>BOND\\n       1        8       13 1\\n       2       49       52 1\\n       3       37       40 1\\n       4       50       54 1\\n       5       14       18 1\\n       6       13       15 1\\n       7        1        3 1\\n       8       31       33 1\\n       9        8        7 1\\n      10       44       47 1\\n      11       37       38 1\\n      12       43       46 1\\n      13       14       19 1\\n      14       56       60 1\\n      15       50       55 1\\n      16       20       24 1\\n      17       19       22 1\\n      18       44       49 1\\n      19        1        4 1\\n      20       31       34 1\\n      21       56       59 1\\n      22        2        6 1\\n      23       26       31 1\\n      24       38       43 1\\n      25       37       39 1\\n      26       43       45 1\\n      27       32       36 1\\n      28       44       48 1\\n      29       61        1 1\\n      30       26       30 1\\n      31       49       50 1\\n      32       25       28 1\\n      33        2        5 1\\n      34       50       53 1\\n      35       32       35 1\\n      36       13       16 1\\n      37       12        8 1\\n      38       26       29 1\\n      39       38       41 1\\n      40       49       51 1\\n      41       25       27 1\\n      42       11        8 1\\n      43       55       56 1\\n      44       19       20 1\\n      45       55       58 1\\n      46       10        7 1\\n      47       32       37 1\\n      48       38       42 1\\n      49        9        7 1\\n      50       25       26 1\\n      51       20       25 1\\n      52       43       44 1\\n      53       20       23 1\\n      54       62       56 1\\n      55       19       21 1\\n      56       55       57 1\\n      57       13       14 1\\n      58        1        2 1\\n      59       31       32 1\\n      60        7        2 1\\n      61       14       17 1\\n@<TRIPOS>SUBSTRUCTURE\\n       1 RES             1 RESIDUE    0 **** ROOT      0\\n\",\"mol2\");\n",
       "\tviewer_1617741743243127.setStyle({\"stick\": {\"radius\": 0.2, \"color\": \"grey\"}, \"sphere\": {\"scale\": 0.3, \"colorscheme\": {}}});\n",
       "\tviewer_1617741743243127.zoomTo();\n",
       "viewer_1617741743243127.render();\n",
       "});\n",
       "</script>"
      ]
     },
     "metadata": {},
     "output_type": "display_data"
    }
   ],
   "source": [
    "# Doing the same thing, but this time without adding an end group\n",
    "# Now, the chain is capped with hydrogens (default behavior)\n",
    "\n",
    "comp = mb.load('CC', smiles=True) # mBuild compound of the monomer unit\n",
    "chain = Polymer()\n",
    "\n",
    "chain.add_monomer(compound=comp,\n",
    "                  indices=[2, -1],\n",
    "                  separation=.15,\n",
    "                  replace=True)\n",
    "\n",
    "chain.build(n=10, sequence='A')\n",
    "chain.visualize(show_ports=True).show()"
   ]
  },
  {
   "cell_type": "markdown",
   "metadata": {},
   "source": [
    "##  Here's an example with a more complicated monomer and a little more detail into what's going on  \n",
    "\n",
    "SMILES strings for Poly-ether-ether-ketone (PEEK)  \n",
    "\n",
    "One has para linkages, the other has meta  \n",
    "\n",
    "Goal is to build up a polymer with alternating PARA-META monomers  \n",
    "\n",
    "Also, just for fun, adding carboxylic acid end groups (ca)"
   ]
  },
  {
   "cell_type": "code",
   "execution_count": null,
   "metadata": {},
   "outputs": [],
   "source": [
    "peek_para = mb.load(\"Oc1ccc(Oc2ccc(C(=O)c3ccccc3)cc2)cc1\",smiles=True)\n",
    "peek_meta = mb.load(\"Oc1cc(Oc2ccc(C(=O)c3ccccc3)cc2)ccc1\", smiles=True)\n",
    "ca = mb.load('C(=O)O', smiles=True)\n",
    "peek_polymer = Polymer() # Create polymer instance\n",
    "\n",
    "# For now, peek_polymer is an empty mBuild compound\n",
    "print(peek_polymer)\n",
    "\n",
    "# monomers and end_groups attributes: empty lists at the moment\n",
    "print(peek_polymer.monomers)\n",
    "print(peek_polymer.end_groups)"
   ]
  },
  {
   "cell_type": "code",
   "execution_count": null,
   "metadata": {},
   "outputs": [],
   "source": [
    "# Use the add_monomer and add_end_group methods\n",
    "# Pass in the compounds we want to use as monomers and end_groups\n",
    "# The add_monomer function is called for each unique monomer type\n",
    "# The add_end_groups funciton is called for the end group compound\n",
    "\n",
    "peek_polymer.add_monomer(compound=peek_para,\n",
    "                         indices = [22, 29],\n",
    "                         separation = 0.1376,\n",
    "                         replace=True\n",
    "                        )\n",
    "\n",
    "peek_polymer.add_monomer(compound=peek_meta,\n",
    "                         indices = [22, 29],\n",
    "                         separation = 0.1376,\n",
    "                         replace=True\n",
    "                        )\n",
    "\n",
    "peek_polymer.add_end_groups(ca,\n",
    "                            index=3,\n",
    "                            separation=0.13,\n",
    "                            replace=True)\n",
    "\n",
    "#At this point, peek_polymer is still an empty mBuild compound\n",
    "#The monomers and end_groups attributes are no longer empty lists\n",
    "print(peek_polymer)\n",
    "print(\"Monomers:\")\n",
    "print(peek_polymer.monomers)\n",
    "print(\"End groups:\")\n",
    "print(peek_polymer.end_groups)"
   ]
  },
  {
   "cell_type": "code",
   "execution_count": null,
   "metadata": {},
   "outputs": [],
   "source": [
    "# Now to actually make the polymer compound\n",
    "# Essentially all of the currently exisitng Polymer() code was moved into a function called build\n",
    "peek_polymer.build(n=3, sequence='AB')\n",
    "\n",
    "# peek_polymer is no longer an empty compound\n",
    "print(peek_polymer)"
   ]
  },
  {
   "cell_type": "code",
   "execution_count": null,
   "metadata": {},
   "outputs": [],
   "source": [
    "peek_polymer.visualize().show()"
   ]
  },
  {
   "cell_type": "markdown",
   "metadata": {},
   "source": [
    "## A look at what is actually happening with each of the class methods  \n",
    "\n",
    "The `add_monomer` and `add_end_group` functions are handling the creation of ports.  \n",
    "\n",
    "The key is in the `bond_indices` and `replace` parameters.\n",
    "`bond_indices` points to the hydrogen atoms that are occupying the polymer bonding site and \n",
    "`replace` says to remove those atoms, and replace them with a port\n",
    "\n",
    "When the port is created, it defaults to using the orientation that already existed between the hydrogen atom and the atom it was bonded to. "
   ]
  },
  {
   "cell_type": "code",
   "execution_count": null,
   "metadata": {},
   "outputs": [],
   "source": [
    "peek_para = mb.load(\"Oc1ccc(Oc2ccc(C(=O)c3ccccc3)cc2)cc1\",smiles=True)\n",
    "print('Before passing the compound into add_monomer()')\n",
    "peek_para.visualize(show_ports=True).show()\n",
    "\n",
    "peek_polymer = Polymer()\n",
    "\n",
    "peek_polymer.add_monomer(compound=peek_para,\n",
    "                         indices = [22, 29],\n",
    "                         separation = 0.1376,\n",
    "                         replace=True\n",
    "                        )\n",
    "print('After passing the compound into add_monomer()')\n",
    "peek_polymer.monomers[0].visualize(show_ports=True).show()"
   ]
  },
  {
   "cell_type": "code",
   "execution_count": null,
   "metadata": {},
   "outputs": [],
   "source": [
    "# Same thing with the end group\n",
    "ca = mb.load('C(=O)O', smiles=True)\n",
    "print('Before passing the compound into add_end_groups()')\n",
    "ca.visualize(show_ports=True).show()\n",
    "\n",
    "peek_polymer.add_end_groups(ca,\n",
    "                            index=3,\n",
    "                            separation=0.13,\n",
    "                            replace=True)\n",
    "\n",
    "# ca[3] is the hydrogen bonded to the carbon atom\n",
    "\n",
    "print('After passing the compound into add_end_groups()')\n",
    "peek_polymer.end_groups[0].visualize(show_ports=True).show()"
   ]
  },
  {
   "cell_type": "markdown",
   "metadata": {},
   "source": [
    "## Using replace=False instead\n",
    "So far, all of the examples above used `replace=True` and the `bonding_indices` were the indices of hydrgogens that were being replaced by ports and removed to make room for the monomer-monomer bond.\n",
    "\n",
    "I imagine this would be the most common work-flow for going straight from a SMILES string or compound file to a polymer, but it's possible use `replace=False`.  In this case, the atoms indicated in `bonding_indices` are the atoms forming the monomer-monomer bond.\n",
    "\n",
    "Below is an example using the `ch2.pdb` file in the `moieties` directory.  In this case, we don't want to replace/remove any hydrogens, but add onto the carbon atom"
   ]
  },
  {
   "cell_type": "markdown",
   "metadata": {},
   "source": [
    "# Reproducing the alkane chain\n",
    "There currently exists a recipe that produces a simple alkane chain. Below I'll use the new `polymer.py` functionality to re-create the same alkane chain."
   ]
  },
  {
   "cell_type": "code",
   "execution_count": null,
   "metadata": {},
   "outputs": [],
   "source": [
    "ch2 = mb.load('lib/moieties/ch2.pdb')\n",
    "chain = Polymer()\n",
    "chain.add_monomer(ch2,\n",
    "                  indices=[0, 0],\n",
    "                  orientation=[[0, 1, 0], [0, -1, 0]],\n",
    "                  separation=0.15,\n",
    "                  replace=False)\n",
    "chain.build(n=7, sequence='A')\n",
    "\n",
    "chain.visualize(show_ports=True).show()"
   ]
  },
  {
   "cell_type": "code",
   "execution_count": null,
   "metadata": {},
   "outputs": [],
   "source": [
    "# It's super easy to throw different end groups on there\n",
    "\n",
    "ch2 = mb.load('lib/moieties/ch2.pdb')\n",
    "chain = Polymer()\n",
    "chain.add_monomer(ch2,\n",
    "                  indices=[0, 0],\n",
    "                  orientation=[[0, 1, 0], [0, -1, 0]],\n",
    "                  separation=0.15,\n",
    "                  replace=False)\n",
    "\n",
    "chain.add_end_groups(mb.load('c1ccccc1', smiles=True),\n",
    "                    index=-1,\n",
    "                    separation=0.15,\n",
    "                    replace=True)\n",
    "chain.build(n=8, sequence='A')\n",
    "\n",
    "chain.visualize().show()"
   ]
  },
  {
   "cell_type": "markdown",
   "metadata": {},
   "source": [
    "## How we can use recipes\n",
    "\n",
    "With this approach, to build up a polymer you would just need the following information:\n",
    "\n",
    "1. A SMILES string (or a path to a compound file)\n",
    "2. The indices of the hydrogen atoms to be removed\n",
    "3. The bond length\n",
    "\n",
    "So, having a library of this information to pull from could be a simple as a `.py` file with a dictionary, or a `.json` file\n"
   ]
  },
  {
   "cell_type": "code",
   "execution_count": null,
   "metadata": {},
   "outputs": [],
   "source": [
    "monomer_dict = {\n",
    "    \n",
    "    'polyethylene': {'smiles': \"CC\",\n",
    "               'indices': [2, -1],\n",
    "               'bond_length': 0.1512\n",
    "                    },\n",
    "    \n",
    "    'alkane': {'file': 'lib/moieties/ch2.pdb',\n",
    "              'indices': [0, 0],\n",
    "              'bond_length': 0.1512,\n",
    "              'replace': False\n",
    "              },\n",
    "    \n",
    "    'peek_para': {'smiles': \"Oc1ccc(Oc2ccc(C(=O)c3ccccc3)cc2)cc1\",\n",
    "                   'indices': [22, 29],\n",
    "                   'bond_length': 0.1376,\n",
    "                  'description': \"poly-ether-ether-ketone with a para configuration\"                    \n",
    "                 },\n",
    "    \n",
    "    'peek_meta': {'smiles': \"Oc1cc(Oc2ccc(C(=O)c3ccccc3)cc2)ccc1\",\n",
    "                   'indices': [22, 29],\n",
    "                   'bond_length': 0.1376,\n",
    "                  'description': \"poly-ether-ether-ketone with a meta configuration\"\n",
    "                 }\n",
    "    \n",
    "}"
   ]
  },
  {
   "cell_type": "code",
   "execution_count": null,
   "metadata": {},
   "outputs": [],
   "source": [
    "# Maybe there is a from_recipe() function, for example:\n",
    "polymer = Polymer.from_recipe(monomer='peek_para', n=10)"
   ]
  },
  {
   "cell_type": "code",
   "execution_count": null,
   "metadata": {},
   "outputs": [],
   "source": []
  }
 ],
 "metadata": {
  "kernelspec": {
   "display_name": "Python 3",
   "language": "python",
   "name": "python3"
  },
  "language_info": {
   "codemirror_mode": {
    "name": "ipython",
    "version": 3
   },
   "file_extension": ".py",
   "mimetype": "text/x-python",
   "name": "python",
   "nbconvert_exporter": "python",
   "pygments_lexer": "ipython3",
   "version": "3.7.10"
  }
 },
 "nbformat": 4,
 "nbformat_minor": 4
}
